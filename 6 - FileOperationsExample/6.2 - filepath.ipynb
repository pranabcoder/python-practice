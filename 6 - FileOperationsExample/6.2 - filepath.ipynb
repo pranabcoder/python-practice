{
 "cells": [
  {
   "cell_type": "code",
   "id": "initial_id",
   "metadata": {
    "collapsed": true,
    "ExecuteTime": {
     "end_time": "2024-07-27T18:03:01.089863Z",
     "start_time": "2024-07-27T18:03:01.082903Z"
    }
   },
   "source": [
    "import os\n",
    "\n",
    "# Create a new directory\n",
    "new_dir = 'package'\n",
    "os.mkdir(new_dir)\n",
    "print(f\"Directory '{new_dir}' created\")"
   ],
   "outputs": [
    {
     "name": "stdout",
     "output_type": "stream",
     "text": [
      "Directory 'package' created\n"
     ]
    }
   ],
   "execution_count": 1
  },
  {
   "metadata": {
    "ExecuteTime": {
     "end_time": "2024-07-27T18:04:22.099234Z",
     "start_time": "2024-07-27T18:04:22.091733Z"
    }
   },
   "cell_type": "code",
   "source": [
    "# Listing Files and Directories\n",
    "items = os.listdir('.')\n",
    "print(items)"
   ],
   "id": "6a56852c8af8556e",
   "outputs": [
    {
     "name": "stdout",
     "output_type": "stream",
     "text": [
      "['6.1 - fileoperation.ipynb', '6.2 - filepath.ipynb.tmp', '6.2 - filepath.ipynb~', 'examples.bin', 'examples.txt', 'examples_copy.txt', 'package']\n"
     ]
    }
   ],
   "execution_count": 2
  },
  {
   "metadata": {
    "ExecuteTime": {
     "end_time": "2024-07-27T18:06:52.283711Z",
     "start_time": "2024-07-27T18:06:52.278395Z"
    }
   },
   "cell_type": "code",
   "source": [
    "# Joining Paths\n",
    "dir_name = 'package'\n",
    "file_name = 'example.txt'\n",
    "path = os.path.join(dir_name, file_name)\n",
    "print(path)"
   ],
   "id": "48c1e3b83bcd1f27",
   "outputs": [
    {
     "name": "stdout",
     "output_type": "stream",
     "text": [
      "package\\example.txt\n"
     ]
    }
   ],
   "execution_count": 4
  },
  {
   "metadata": {
    "ExecuteTime": {
     "end_time": "2024-07-27T18:08:41.149157Z",
     "start_time": "2024-07-27T18:08:41.143060Z"
    }
   },
   "cell_type": "code",
   "source": [
    "# Full Path from root\n",
    "dir_name = 'package'\n",
    "file_name = 'example.txt'\n",
    "path = os.path.join(os.getcwd(), dir_name, file_name)\n",
    "print(path)"
   ],
   "id": "72fad4d09936bf18",
   "outputs": [
    {
     "name": "stdout",
     "output_type": "stream",
     "text": [
      "C:\\Users\\prana\\OneDrive\\Documents\\python-practice\\6 - FileOperationsExample\\package\\example.txt\n"
     ]
    }
   ],
   "execution_count": 5
  },
  {
   "metadata": {
    "ExecuteTime": {
     "end_time": "2024-07-27T18:11:41.959692Z",
     "start_time": "2024-07-27T18:11:41.953595Z"
    }
   },
   "cell_type": "code",
   "source": [
    "# Check if a path exists or not\n",
    "path = 'examples.txt'\n",
    "if os.path.exists(path):\n",
    "    print(f\"'{path}' exists\")\n",
    "else:\n",
    "    print(f\"'{path}' does not exist\")"
   ],
   "id": "37019f835c3702f",
   "outputs": [
    {
     "name": "stdout",
     "output_type": "stream",
     "text": [
      "'examples.txt' exists\n"
     ]
    }
   ],
   "execution_count": 6
  },
  {
   "metadata": {
    "ExecuteTime": {
     "end_time": "2024-07-27T18:12:51.175589Z",
     "start_time": "2024-07-27T18:12:51.170596Z"
    }
   },
   "cell_type": "code",
   "source": [
    "# Check if a path is a file or directory\n",
    "path = 'examples.txt'\n",
    "if os.path.isfile(path):\n",
    "    print(f\"'{path}' is a file\")\n",
    "elif os.path.isdir(path):\n",
    "    print(f\"'{path}' is a directory\")\n",
    "else:\n",
    "    print(f\"'{path}' is neither a file nor a directory\")"
   ],
   "id": "1bbf5071e1dc40d4",
   "outputs": [
    {
     "name": "stdout",
     "output_type": "stream",
     "text": [
      "'examples.txt' is a file\n"
     ]
    }
   ],
   "execution_count": 7
  },
  {
   "metadata": {
    "ExecuteTime": {
     "end_time": "2024-07-27T18:13:44.720776Z",
     "start_time": "2024-07-27T18:13:44.716542Z"
    }
   },
   "cell_type": "code",
   "source": [
    "# Getting the absolute path\n",
    "rela_path = 'examples.txt'\n",
    "abs_path = os.path.abspath(rela_path)\n",
    "print(abs_path)"
   ],
   "id": "f36843f8b2722884",
   "outputs": [
    {
     "name": "stdout",
     "output_type": "stream",
     "text": [
      "C:\\Users\\prana\\OneDrive\\Documents\\python-practice\\6 - FileOperationsExample\\examples.txt\n"
     ]
    }
   ],
   "execution_count": 8
  },
  {
   "metadata": {},
   "cell_type": "code",
   "outputs": [],
   "execution_count": null,
   "source": "",
   "id": "16f116c5fba1b1b7"
  }
 ],
 "metadata": {
  "kernelspec": {
   "display_name": "Python 3",
   "language": "python",
   "name": "python3"
  },
  "language_info": {
   "codemirror_mode": {
    "name": "ipython",
    "version": 2
   },
   "file_extension": ".py",
   "mimetype": "text/x-python",
   "name": "python",
   "nbconvert_exporter": "python",
   "pygments_lexer": "ipython2",
   "version": "2.7.6"
  }
 },
 "nbformat": 4,
 "nbformat_minor": 5
}

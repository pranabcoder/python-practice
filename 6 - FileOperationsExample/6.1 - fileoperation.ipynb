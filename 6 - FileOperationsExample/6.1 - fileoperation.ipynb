{
 "cells": [
  {
   "cell_type": "code",
   "id": "initial_id",
   "metadata": {
    "collapsed": true,
    "ExecuteTime": {
     "end_time": "2024-07-27T17:30:27.991945Z",
     "start_time": "2024-07-27T17:30:27.986629Z"
    }
   },
   "source": [
    "# Read a whole file\n",
    "with open('examples.txt', 'r') as f:\n",
    "    content = f.read()\n",
    "    print(content)"
   ],
   "outputs": [
    {
     "name": "stdout",
     "output_type": "stream",
     "text": [
      "Hello, how are you?\n",
      "I am fine, thank you.\n",
      "John is my friend.\n",
      "Welcome to the course\n"
     ]
    }
   ],
   "execution_count": 2
  },
  {
   "metadata": {
    "ExecuteTime": {
     "end_time": "2024-07-27T17:35:43.308559Z",
     "start_time": "2024-07-27T17:35:43.302568Z"
    }
   },
   "cell_type": "code",
   "source": [
    "# Read a file line by line\n",
    "with open('examples.txt', 'r') as f:\n",
    "    for line in f:\n",
    "        print(line, end='')"
   ],
   "id": "e35bef3b537f730b",
   "outputs": [
    {
     "name": "stdout",
     "output_type": "stream",
     "text": [
      "This is a new content\n"
     ]
    }
   ],
   "execution_count": 5
  },
  {
   "metadata": {
    "ExecuteTime": {
     "end_time": "2024-07-27T17:34:54.155894Z",
     "start_time": "2024-07-27T17:34:54.151405Z"
    }
   },
   "cell_type": "code",
   "source": [
    "# Write to a file(Overwrite)\n",
    "with open('examples.txt', 'w') as f:\n",
    "    f.write('This is a new content\\n')"
   ],
   "id": "ba2636be1799ec40",
   "outputs": [],
   "execution_count": 4
  },
  {
   "metadata": {
    "ExecuteTime": {
     "end_time": "2024-07-27T17:37:01.560691Z",
     "start_time": "2024-07-27T17:37:01.554831Z"
    }
   },
   "cell_type": "code",
   "source": [
    "# Write a file(without overwriting)\n",
    "with open('examples.txt', 'a') as f:\n",
    "    f.write('This is a new content with append mode\\n')"
   ],
   "id": "d98ab9038d7edc34",
   "outputs": [],
   "execution_count": 7
  },
  {
   "metadata": {
    "ExecuteTime": {
     "end_time": "2024-07-27T17:44:09.568297Z",
     "start_time": "2024-07-27T17:44:09.561754Z"
    }
   },
   "cell_type": "code",
   "source": [
    "# Writing a list of lines in a file\n",
    "lines = ['First Line\\n', 'Second Line\\n', 'Third Line\\n']\n",
    "with open('examples.txt', 'w') as f:\n",
    "    f.writelines(lines)"
   ],
   "id": "3836d341c9ebe281",
   "outputs": [],
   "execution_count": 8
  },
  {
   "metadata": {
    "ExecuteTime": {
     "end_time": "2024-07-27T17:47:11.296887Z",
     "start_time": "2024-07-27T17:47:11.291124Z"
    }
   },
   "cell_type": "code",
   "source": [
    "# Binary files\n",
    "# Writing a binary file\n",
    "data = b'\\x00\\x01\\x02\\x03\\x04\\x05\\x06\\x07\\x08\\x09'\n",
    "with open('examples.bin', 'wb') as f:\n",
    "    f.write(data)"
   ],
   "id": "b9df96759470f2e7",
   "outputs": [],
   "execution_count": 2
  },
  {
   "metadata": {
    "ExecuteTime": {
     "end_time": "2024-07-27T17:48:32.578661Z",
     "start_time": "2024-07-27T17:48:32.574049Z"
    }
   },
   "cell_type": "code",
   "source": [
    "# Reading a binary file\n",
    "with open('examples.bin', 'rb') as f:\n",
    "    data = f.read()\n",
    "    print(data)"
   ],
   "id": "6f37f614e12dcee6",
   "outputs": [
    {
     "name": "stdout",
     "output_type": "stream",
     "text": [
      "b'\\x00\\x01\\x02\\x03\\x04\\x05\\x06\\x07\\x08\\t'\n"
     ]
    }
   ],
   "execution_count": 3
  },
  {
   "metadata": {
    "ExecuteTime": {
     "end_time": "2024-07-27T17:50:58.045871Z",
     "start_time": "2024-07-27T17:50:58.040741Z"
    }
   },
   "cell_type": "code",
   "source": [
    "# Copying a text file\n",
    "with open('examples.txt', 'r') as f:\n",
    "    with open('examples_copy.txt', 'w') as f_copy:\n",
    "        for line in f:\n",
    "            f_copy.write(line)"
   ],
   "id": "6898ce9d96480857",
   "outputs": [],
   "execution_count": 4
  },
  {
   "metadata": {
    "ExecuteTime": {
     "end_time": "2024-07-27T17:56:27.348230Z",
     "start_time": "2024-07-27T17:56:27.341667Z"
    }
   },
   "cell_type": "code",
   "source": [
    "# Read a text file and count the number of lines, words, and characters\n",
    "def count_text_file(file_path):\n",
    "    with open(file_path, 'r') as file:\n",
    "        lines = file.readlines()\n",
    "        line_count = len(lines)\n",
    "        word_count = sum(len(line.split()) for line in lines)\n",
    "        char_count = sum(len(line) for line in lines)\n",
    "    return line_count, word_count, char_count\n",
    "\n",
    "file = 'examples.txt'\n",
    "line_count, word_count, char_count = count_text_file(file)\n",
    "print(f'Lines: {line_count}, Words: {word_count}, Characters: {char_count}')"
   ],
   "id": "34c4c6dc6edc0c95",
   "outputs": [
    {
     "name": "stdout",
     "output_type": "stream",
     "text": [
      "Lines: 3, Words: 6, Characters: 34\n"
     ]
    }
   ],
   "execution_count": 6
  },
  {
   "metadata": {
    "ExecuteTime": {
     "end_time": "2024-07-27T18:00:37.054543Z",
     "start_time": "2024-07-27T18:00:37.048060Z"
    }
   },
   "cell_type": "code",
   "source": [
    "# Writing and then reading a file\n",
    "# w+ mode will create a file if it doesn't exist, and it will overwrite the file if it exists\n",
    "with open('examples.txt', 'w+') as f:\n",
    "    f.write('Hello, World!\\n')\n",
    "    f.write('This is a new line\\n')\n",
    "    \n",
    "    # Move the cursor to the beginning of the file\n",
    "    f.seek(0)\n",
    "    content = f.read()\n",
    "    print(content)"
   ],
   "id": "127b35bc69aacf77",
   "outputs": [
    {
     "name": "stdout",
     "output_type": "stream",
     "text": [
      "Hello, World!\n",
      "This is a new line\n",
      "\n"
     ]
    }
   ],
   "execution_count": 7
  },
  {
   "metadata": {},
   "cell_type": "code",
   "outputs": [],
   "execution_count": null,
   "source": "",
   "id": "3f50c27021de862a"
  }
 ],
 "metadata": {
  "kernelspec": {
   "display_name": "Python 3",
   "language": "python",
   "name": "python3"
  },
  "language_info": {
   "codemirror_mode": {
    "name": "ipython",
    "version": 2
   },
   "file_extension": ".py",
   "mimetype": "text/x-python",
   "name": "python",
   "nbconvert_exporter": "python",
   "pygments_lexer": "ipython2",
   "version": "2.7.6"
  }
 },
 "nbformat": 4,
 "nbformat_minor": 5
}

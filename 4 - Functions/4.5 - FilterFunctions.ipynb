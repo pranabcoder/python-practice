{
 "cells": [
  {
   "cell_type": "code",
   "id": "initial_id",
   "metadata": {
    "collapsed": true,
    "ExecuteTime": {
     "end_time": "2024-07-26T17:46:06.539191Z",
     "start_time": "2024-07-26T17:46:06.532847Z"
    }
   },
   "source": [
    "# check a function is even or not\n",
    "def even(num):\n",
    "    return num % 2 == 0\n",
    "\n",
    "even(3)"
   ],
   "outputs": [
    {
     "data": {
      "text/plain": [
       "False"
      ]
     },
     "execution_count": 2,
     "metadata": {},
     "output_type": "execute_result"
    }
   ],
   "execution_count": 2
  },
  {
   "metadata": {
    "ExecuteTime": {
     "end_time": "2024-07-26T17:47:08.593043Z",
     "start_time": "2024-07-26T17:47:08.587766Z"
    }
   },
   "cell_type": "code",
   "source": [
    "lst = [1, 2, 3, 4, 5, 6, 7, 8, 9, 10]\n",
    "list(filter(even, lst))"
   ],
   "id": "7d996f646d6d344",
   "outputs": [
    {
     "data": {
      "text/plain": [
       "[2, 4, 6, 8, 10]"
      ]
     },
     "execution_count": 3,
     "metadata": {},
     "output_type": "execute_result"
    }
   ],
   "execution_count": 3
  },
  {
   "metadata": {
    "ExecuteTime": {
     "end_time": "2024-07-26T17:49:08.980323Z",
     "start_time": "2024-07-26T17:49:08.975278Z"
    }
   },
   "cell_type": "code",
   "source": [
    "# Filter with lambda function\n",
    "number_list = range(1, 10)\n",
    "greater_than_five = list(filter(lambda x: x > 5, number_list))"
   ],
   "id": "7bf9636eaab57e8e",
   "outputs": [],
   "execution_count": 7
  },
  {
   "metadata": {
    "ExecuteTime": {
     "end_time": "2024-07-26T17:49:11.224418Z",
     "start_time": "2024-07-26T17:49:11.219351Z"
    }
   },
   "cell_type": "code",
   "source": "greater_than_five",
   "id": "416a2670fea121d9",
   "outputs": [
    {
     "data": {
      "text/plain": [
       "[6, 7, 8, 9]"
      ]
     },
     "execution_count": 8,
     "metadata": {},
     "output_type": "execute_result"
    }
   ],
   "execution_count": 8
  },
  {
   "metadata": {
    "ExecuteTime": {
     "end_time": "2024-07-26T17:50:11.647116Z",
     "start_time": "2024-07-26T17:50:11.641906Z"
    }
   },
   "cell_type": "code",
   "source": [
    "numbers = [1, 2, 3, 4, 5, 6, 7, 8, 9, 10]\n",
    "greater_than_five = list(filter(lambda x: x > 5, numbers))\n",
    "print(greater_than_five)"
   ],
   "id": "6a0ac60c93ec3695",
   "outputs": [
    {
     "name": "stdout",
     "output_type": "stream",
     "text": [
      "[6, 7, 8, 9, 10]\n"
     ]
    }
   ],
   "execution_count": 10
  },
  {
   "metadata": {
    "ExecuteTime": {
     "end_time": "2024-07-26T17:51:36.426998Z",
     "start_time": "2024-07-26T17:51:36.422693Z"
    }
   },
   "cell_type": "code",
   "source": [
    "# Filter with lambda function and multiple conditions\n",
    "numbers = [1, 2, 3, 4, 5, 6, 7, 8, 9, 10]\n",
    "even_and_greater_than_five = list(filter(lambda x: x % 2 == 0 and x > 5, numbers))\n",
    "print(even_and_greater_than_five)"
   ],
   "id": "6d8fcbe041dad70d",
   "outputs": [
    {
     "name": "stdout",
     "output_type": "stream",
     "text": [
      "[6, 8, 10]\n"
     ]
    }
   ],
   "execution_count": 11
  },
  {
   "metadata": {
    "ExecuteTime": {
     "end_time": "2024-07-26T17:53:20.350716Z",
     "start_time": "2024-07-26T17:53:20.345212Z"
    }
   },
   "cell_type": "code",
   "source": [
    "# Apply filter to check age is greater than 18 in a dictionary\n",
    "people = [{'name': 'Mary', 'age': 20}, {'name': 'John', 'age': 15}, {'name': 'Ann', 'age': 30}]\n",
    "adults = list(filter(lambda person: person['age'] > 18, people))\n",
    "print(adults)"
   ],
   "id": "3c714835bf331138",
   "outputs": [
    {
     "name": "stdout",
     "output_type": "stream",
     "text": [
      "[{'name': 'Mary', 'age': 20}, {'name': 'Ann', 'age': 30}]\n"
     ]
    }
   ],
   "execution_count": 12
  },
  {
   "metadata": {},
   "cell_type": "code",
   "outputs": [],
   "execution_count": null,
   "source": "",
   "id": "a214faa82e0f4f4f"
  }
 ],
 "metadata": {
  "kernelspec": {
   "display_name": "Python 3",
   "language": "python",
   "name": "python3"
  },
  "language_info": {
   "codemirror_mode": {
    "name": "ipython",
    "version": 2
   },
   "file_extension": ".py",
   "mimetype": "text/x-python",
   "name": "python",
   "nbconvert_exporter": "python",
   "pygments_lexer": "ipython2",
   "version": "2.7.6"
  }
 },
 "nbformat": 4,
 "nbformat_minor": 5
}

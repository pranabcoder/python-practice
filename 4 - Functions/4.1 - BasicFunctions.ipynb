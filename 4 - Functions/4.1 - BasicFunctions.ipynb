{
 "cells": [
  {
   "metadata": {},
   "cell_type": "code",
   "outputs": [],
   "execution_count": null,
   "source": [
    "# Basic Function Syntax:\n",
    "def function_name(parameters):\n",
    "    \"\"\"docstring\"\"\"\n",
    "    #Function body\n",
    "    # return expression"
   ],
   "id": "19c990c327b57b04"
  },
  {
   "metadata": {},
   "cell_type": "markdown",
   "source": "",
   "id": "acb8edd59f91df53"
  },
  {
   "metadata": {
    "ExecuteTime": {
     "end_time": "2024-07-25T16:53:39.767805Z",
     "start_time": "2024-07-25T16:53:39.760909Z"
    }
   },
   "cell_type": "code",
   "source": [
    "# Why functions?\n",
    "num = 24\n",
    "if num % 2 == 0:\n",
    "    print(\"The number is even\")\n",
    "else:\n",
    "    print(\"The number is odd\")"
   ],
   "id": "a7d033dc15988586",
   "outputs": [
    {
     "name": "stdout",
     "output_type": "stream",
     "text": [
      "The number is even\n"
     ]
    }
   ],
   "execution_count": 2
  },
  {
   "metadata": {
    "ExecuteTime": {
     "end_time": "2024-07-25T16:56:29.359774Z",
     "start_time": "2024-07-25T16:56:29.354704Z"
    }
   },
   "cell_type": "code",
   "source": [
    "# Using a function\n",
    "def even_odd(number):\n",
    "    \"\"\"This function checks if a number is even or odd\"\"\"\n",
    "    if number % 2 == 0:\n",
    "        print(f\"The {number} is even\")\n",
    "    else:\n",
    "        print(f\"The {number} is odd\")\n",
    "\n",
    "even_odd(23)        "
   ],
   "id": "5e68770807ea2f94",
   "outputs": [
    {
     "name": "stdout",
     "output_type": "stream",
     "text": [
      "The 23 is odd\n"
     ]
    }
   ],
   "execution_count": 6
  },
  {
   "metadata": {
    "ExecuteTime": {
     "end_time": "2024-07-25T16:59:42.572545Z",
     "start_time": "2024-07-25T16:59:42.564291Z"
    }
   },
   "cell_type": "code",
   "source": [
    "# Function with multiple parameters\n",
    "def add(a, b):\n",
    "    \"\"\"This function adds two numbers\"\"\"\n",
    "    return a + b\n",
    "\n",
    "add(2, 3)"
   ],
   "id": "837738365d8331c3",
   "outputs": [
    {
     "data": {
      "text/plain": [
       "5"
      ]
     },
     "execution_count": 8,
     "metadata": {},
     "output_type": "execute_result"
    }
   ],
   "execution_count": 8
  },
  {
   "metadata": {
    "ExecuteTime": {
     "end_time": "2024-07-25T17:03:56.235074Z",
     "start_time": "2024-07-25T17:03:56.229826Z"
    }
   },
   "cell_type": "code",
   "source": [
    "# Function with default parameters\n",
    "def greet(name = \"Guest\"):\n",
    "    \"\"\"This function greets the user\"\"\"\n",
    "    print(f\"Hello {name}, Welcome To this paradise\")\n",
    "\n",
    "greet(\"John\")\n",
    "greet()"
   ],
   "id": "b203fa4ae6c3c49",
   "outputs": [
    {
     "name": "stdout",
     "output_type": "stream",
     "text": [
      "Hello John, Welcome To this paradise\n",
      "Hello Guest, Welcome To this paradise\n"
     ]
    }
   ],
   "execution_count": 13
  },
  {
   "metadata": {
    "ExecuteTime": {
     "end_time": "2024-07-25T17:07:21.718100Z",
     "start_time": "2024-07-25T17:07:21.712213Z"
    }
   },
   "cell_type": "code",
   "source": [
    "# Function with variable number of arguments\n",
    "# Positional arguments and Keyword arguments\n",
    "# Positional arguments are the arguments that are passed to the function in the order they are defined\n",
    "def print_values(*args):\n",
    "    \"\"\"This function prints the values of the arguments\"\"\"\n",
    "    for number in args:\n",
    "        print(number)\n",
    "        \n",
    "print_values(1, 2, 3, 4, 5, \"John\", \"Doe\")        "
   ],
   "id": "1ec56db6c911e58a",
   "outputs": [
    {
     "name": "stdout",
     "output_type": "stream",
     "text": [
      "1\n",
      "2\n",
      "3\n",
      "4\n",
      "5\n",
      "John\n",
      "Doe\n"
     ]
    }
   ],
   "execution_count": 14
  },
  {
   "metadata": {
    "ExecuteTime": {
     "end_time": "2024-07-25T17:11:03.987310Z",
     "start_time": "2024-07-25T17:11:03.978228Z"
    }
   },
   "cell_type": "code",
   "source": [
    "# Keyword arguments are the arguments that are passed to the function with the parameter name\n",
    "# Keyword arguments all the values are passed as key value pairs\n",
    "def print_values(**kwargs):\n",
    "    \"\"\"This function prints the values of the arguments\"\"\"\n",
    "    for key, value in kwargs.items():\n",
    "        print(f\"{key}: {value}\")\n",
    "\n",
    "print_values(name = \"John\", age = 23, city = \"New York\")        "
   ],
   "id": "efa13f573d18bea2",
   "outputs": [
    {
     "name": "stdout",
     "output_type": "stream",
     "text": [
      "name: John\n",
      "age: 23\n",
      "city: New York\n"
     ]
    }
   ],
   "execution_count": 15
  },
  {
   "metadata": {
    "ExecuteTime": {
     "end_time": "2024-07-25T17:12:33.525663Z",
     "start_time": "2024-07-25T17:12:33.517995Z"
    }
   },
   "cell_type": "code",
   "source": [
    "# Function with variable number of positional and keyword arguments\n",
    "def print_values(*args, **kwargs):\n",
    "    \"\"\"This function prints the values of the arguments\"\"\"\n",
    "    for number in args:\n",
    "        print(number)\n",
    "    for key, value in kwargs.items():\n",
    "        print(f\"{key}: {value}\")\n",
    "\n",
    "print_values(1, 2, 3, 4, 5, name = \"John\", age = 23, city = \"New York\")        "
   ],
   "id": "18904103570ad8d3",
   "outputs": [
    {
     "name": "stdout",
     "output_type": "stream",
     "text": [
      "1\n",
      "2\n",
      "3\n",
      "4\n",
      "5\n",
      "name: John\n",
      "age: 23\n",
      "city: New York\n"
     ]
    }
   ],
   "execution_count": 16
  },
  {
   "metadata": {
    "ExecuteTime": {
     "end_time": "2024-07-25T17:16:04.512367Z",
     "start_time": "2024-07-25T17:16:04.505839Z"
    }
   },
   "cell_type": "code",
   "source": [
    "# Multiple parameters Return statement in a function\n",
    "def multiply_two_number(a, b):\n",
    "    \"\"\"This function multiplies two numbers\"\"\"\n",
    "    return a * b, a\n",
    "\n",
    "result = multiply_two_number(2, 3)\n",
    "print(result)\n"
   ],
   "id": "429ed15cfd1b6626",
   "outputs": [
    {
     "name": "stdout",
     "output_type": "stream",
     "text": [
      "(6, 2)\n"
     ]
    }
   ],
   "execution_count": 19
  },
  {
   "metadata": {},
   "cell_type": "code",
   "outputs": [],
   "execution_count": null,
   "source": "",
   "id": "34e94075dbdf1509"
  }
 ],
 "metadata": {
  "kernelspec": {
   "display_name": "Python 3",
   "language": "python",
   "name": "python3"
  },
  "language_info": {
   "codemirror_mode": {
    "name": "ipython",
    "version": 2
   },
   "file_extension": ".py",
   "mimetype": "text/x-python",
   "name": "python",
   "nbconvert_exporter": "python",
   "pygments_lexer": "ipython2",
   "version": "2.7.6"
  }
 },
 "nbformat": 4,
 "nbformat_minor": 5
}

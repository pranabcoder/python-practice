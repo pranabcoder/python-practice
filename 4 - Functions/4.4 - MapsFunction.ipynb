{
 "cells": [
  {
   "cell_type": "code",
   "id": "initial_id",
   "metadata": {
    "collapsed": true,
    "ExecuteTime": {
     "end_time": "2024-07-26T17:29:43.464300Z",
     "start_time": "2024-07-26T17:29:43.456359Z"
    }
   },
   "source": [
    "# Example of map function\n",
    "def square(num):\n",
    "    return num**2\n",
    "\n",
    "square(2)"
   ],
   "outputs": [
    {
     "data": {
      "text/plain": [
       "4"
      ]
     },
     "execution_count": 2,
     "metadata": {},
     "output_type": "execute_result"
    }
   ],
   "execution_count": 2
  },
  {
   "metadata": {
    "ExecuteTime": {
     "end_time": "2024-07-26T17:31:09.160075Z",
     "start_time": "2024-07-26T17:31:09.151321Z"
    }
   },
   "cell_type": "code",
   "source": [
    "def square(num):\n",
    "    return num**2\n",
    "\n",
    "my_nums = [1,2,3,4,5]\n",
    "list(map(square, my_nums))"
   ],
   "id": "6dd695dc9cfef1a9",
   "outputs": [
    {
     "data": {
      "text/plain": [
       "[1, 4, 9, 16, 25]"
      ]
     },
     "execution_count": 3,
     "metadata": {},
     "output_type": "execute_result"
    }
   ],
   "execution_count": 3
  },
  {
   "metadata": {
    "ExecuteTime": {
     "end_time": "2024-07-26T17:32:32.985991Z",
     "start_time": "2024-07-26T17:32:32.979929Z"
    }
   },
   "cell_type": "code",
   "source": [
    "# Example of map function\n",
    "numbers = [1,2,3,4,5]\n",
    "list(map(lambda num: num**2, numbers))"
   ],
   "id": "6363a72d05eb8f6e",
   "outputs": [
    {
     "data": {
      "text/plain": [
       "[1, 4, 9, 16, 25]"
      ]
     },
     "execution_count": 4,
     "metadata": {},
     "output_type": "execute_result"
    }
   ],
   "execution_count": 4
  },
  {
   "metadata": {
    "ExecuteTime": {
     "end_time": "2024-07-26T17:33:39.492668Z",
     "start_time": "2024-07-26T17:33:39.486386Z"
    }
   },
   "cell_type": "code",
   "source": [
    "# Can use a map with more than one iterable\n",
    "numbers = [1,2,3,4,5]\n",
    "numbers2 = [5,4,3,2,1]\n",
    "list(map(lambda num1, num2: num1+num2, numbers, numbers2))"
   ],
   "id": "8fe64fd726b9a18e",
   "outputs": [
    {
     "data": {
      "text/plain": [
       "[6, 6, 6, 6, 6]"
      ]
     },
     "execution_count": 5,
     "metadata": {},
     "output_type": "execute_result"
    }
   ],
   "execution_count": 5
  },
  {
   "metadata": {
    "ExecuteTime": {
     "end_time": "2024-07-26T17:36:13.221097Z",
     "start_time": "2024-07-26T17:36:13.214620Z"
    }
   },
   "cell_type": "code",
   "source": [
    "# map function to convert a list of strings to list of integers\n",
    "str_nums = ['1', '2', '3', '4', '5']\n",
    "list(map(int, str_nums))"
   ],
   "id": "726598c5e758319b",
   "outputs": [
    {
     "data": {
      "text/plain": [
       "[1, 2, 3, 4, 5]"
      ]
     },
     "execution_count": 6,
     "metadata": {},
     "output_type": "execute_result"
    }
   ],
   "execution_count": 6
  },
  {
   "metadata": {
    "ExecuteTime": {
     "end_time": "2024-07-26T17:37:57.282155Z",
     "start_time": "2024-07-26T17:37:57.276025Z"
    }
   },
   "cell_type": "code",
   "source": [
    "# map function to convert a list of strings to an upper case\n",
    "words = ['hello', 'my', 'name', 'is', 'Sam']\n",
    "list(map(str.upper, words))"
   ],
   "id": "c98c3469ab69188e",
   "outputs": [
    {
     "data": {
      "text/plain": [
       "['HELLO', 'MY', 'NAME', 'IS', 'SAM']"
      ]
     },
     "execution_count": 7,
     "metadata": {},
     "output_type": "execute_result"
    }
   ],
   "execution_count": 7
  },
  {
   "metadata": {
    "ExecuteTime": {
     "end_time": "2024-07-26T17:40:54.849071Z",
     "start_time": "2024-07-26T17:40:54.842584Z"
    }
   },
   "cell_type": "code",
   "source": [
    "# map function to return name from a list of dictionaries\n",
    "def get_name(person):\n",
    "    return person['first']\n",
    "names = [{'first': 'Sam', 'last': 'Smith'}, {'first': 'John', 'last': 'Doe'}]\n",
    "list(map(get_name, names))\n"
   ],
   "id": "2c1194b8fbe46edd",
   "outputs": [
    {
     "data": {
      "text/plain": [
       "['Sam', 'John']"
      ]
     },
     "execution_count": 10,
     "metadata": {},
     "output_type": "execute_result"
    }
   ],
   "execution_count": 10
  },
  {
   "metadata": {},
   "cell_type": "code",
   "outputs": [],
   "execution_count": null,
   "source": "",
   "id": "a1470dd93629e4ee"
  }
 ],
 "metadata": {
  "kernelspec": {
   "display_name": "Python 3",
   "language": "python",
   "name": "python3"
  },
  "language_info": {
   "codemirror_mode": {
    "name": "ipython",
    "version": 2
   },
   "file_extension": ".py",
   "mimetype": "text/x-python",
   "name": "python",
   "nbconvert_exporter": "python",
   "pygments_lexer": "ipython2",
   "version": "2.7.6"
  }
 },
 "nbformat": 4,
 "nbformat_minor": 5
}

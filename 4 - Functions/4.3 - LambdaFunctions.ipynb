{
 "cells": [
  {
   "cell_type": "code",
   "id": "initial_id",
   "metadata": {
    "collapsed": true,
    "ExecuteTime": {
     "end_time": "2024-07-26T17:10:58.327667Z",
     "start_time": "2024-07-26T17:10:58.323630Z"
    }
   },
   "source": [
    "# Syntax of Lambda Function\n",
    "# lambda arguments: expression"
   ],
   "outputs": [],
   "execution_count": 1
  },
  {
   "metadata": {
    "ExecuteTime": {
     "end_time": "2024-07-26T17:12:00.677668Z",
     "start_time": "2024-07-26T17:12:00.671603Z"
    }
   },
   "cell_type": "code",
   "source": [
    "# Example of Lambda Function\n",
    "x = lambda a, b : a + b\n",
    "print(x(5, 6))"
   ],
   "id": "6df03e0189638258",
   "outputs": [
    {
     "name": "stdout",
     "output_type": "stream",
     "text": [
      "11\n"
     ]
    }
   ],
   "execution_count": 2
  },
  {
   "metadata": {
    "ExecuteTime": {
     "end_time": "2024-07-26T17:20:51.150467Z",
     "start_time": "2024-07-26T17:20:51.145942Z"
    }
   },
   "cell_type": "code",
   "source": [
    "# Example of Lambda Function\n",
    "# Email Validation using Lambda Function\n",
    "import re\n",
    "email = lambda email: bool(re.match(r'[\\w\\.-]+@[\\w\\.-]+\\.[\\w\\.-]', email))\n",
    "print(email('test@gmail.com'))\n",
    "print(email('test@gmail'))\n",
    "print(email('testgmail.com'))"
   ],
   "id": "acb00b72403a58f9",
   "outputs": [
    {
     "name": "stdout",
     "output_type": "stream",
     "text": [
      "True\n",
      "False\n",
      "False\n"
     ]
    }
   ],
   "execution_count": 5
  },
  {
   "metadata": {
    "ExecuteTime": {
     "end_time": "2024-07-26T17:21:56.817024Z",
     "start_time": "2024-07-26T17:21:56.812397Z"
    }
   },
   "cell_type": "code",
   "source": [
    "# Check if a number is even or odd using Lambda Function\n",
    "even_odd = lambda x: 'even' if x%2==0 else 'odd'\n",
    "print(even_odd(5))"
   ],
   "id": "d50f3c3a95951d51",
   "outputs": [
    {
     "name": "stdout",
     "output_type": "stream",
     "text": [
      "odd\n"
     ]
    }
   ],
   "execution_count": 6
  },
  {
   "metadata": {
    "ExecuteTime": {
     "end_time": "2024-07-26T17:25:05.595177Z",
     "start_time": "2024-07-26T17:25:05.590688Z"
    }
   },
   "cell_type": "code",
   "source": [
    "# Lambda Function with map()\n",
    "# get the square of each element in the list\n",
    "# map() function returns a map object (which is an iterator) of the results after applying the given function to each item of a given iterable (list, tuple, etc.)\n",
    "numbers = [1, 2, 3, 4, 5]\n",
    "squared_numbers = list(map(lambda x: x**2, numbers))\n",
    "print(squared_numbers)"
   ],
   "id": "2cdf96b6958115e8",
   "outputs": [
    {
     "name": "stdout",
     "output_type": "stream",
     "text": [
      "[1, 4, 9, 16, 25]\n"
     ]
    }
   ],
   "execution_count": 7
  },
  {
   "metadata": {},
   "cell_type": "code",
   "outputs": [],
   "execution_count": null,
   "source": "",
   "id": "34d0e3e5244af8da"
  }
 ],
 "metadata": {
  "kernelspec": {
   "display_name": "Python 3",
   "language": "python",
   "name": "python3"
  },
  "language_info": {
   "codemirror_mode": {
    "name": "ipython",
    "version": 2
   },
   "file_extension": ".py",
   "mimetype": "text/x-python",
   "name": "python",
   "nbconvert_exporter": "python",
   "pygments_lexer": "ipython2",
   "version": "2.7.6"
  }
 },
 "nbformat": 4,
 "nbformat_minor": 5
}

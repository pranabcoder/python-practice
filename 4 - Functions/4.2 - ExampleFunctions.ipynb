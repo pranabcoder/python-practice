{
 "cells": [
  {
   "cell_type": "code",
   "id": "initial_id",
   "metadata": {
    "collapsed": true,
    "ExecuteTime": {
     "end_time": "2024-07-26T15:26:23.401617Z",
     "start_time": "2024-07-26T15:26:23.394262Z"
    }
   },
   "source": [
    "# Example 4.2.1 - Temperature Conversion\n",
    "\n",
    "def convert_temp(temp, scale):\n",
    "    \"\"\" Convert temperature from Fahrenheit to Celsius or vice versa\"\"\"\n",
    "    if scale == 'C':\n",
    "        return temp * 9/5 + 32\n",
    "    elif scale == 'F':\n",
    "        return (temp - 32) * 5/9\n",
    "    else:\n",
    "        return 'Invalid scale'\n",
    "\n",
    "# Test the function\n",
    "print(convert_temp(32, 'C')) # 0.0\n",
    "print(convert_temp(0, 'F')) # 32.0\n",
    "print(convert_temp(100, 'C')) # 212.0\n",
    "print(convert_temp(212, 'F')) # 100.0\n",
    "print(convert_temp(100, 'K')) # Invalid scale"
   ],
   "outputs": [
    {
     "name": "stdout",
     "output_type": "stream",
     "text": [
      "89.6\n",
      "-17.77777777777778\n",
      "212.0\n",
      "100.0\n",
      "Invalid scale\n"
     ]
    }
   ],
   "execution_count": 3
  },
  {
   "metadata": {
    "ExecuteTime": {
     "end_time": "2024-07-26T15:48:24.980301Z",
     "start_time": "2024-07-26T15:48:24.974031Z"
    }
   },
   "cell_type": "code",
   "source": [
    "# Example 4.2.2 - Password Strength Checker\n",
    "\n",
    "def is_strong_password(password):\n",
    "    \"\"\" Check if a password is strong\"\"\"\n",
    "    if len(password) < 8:\n",
    "        return False\n",
    "    has_upper = False\n",
    "    has_lower = False\n",
    "    has_digit = False\n",
    "    has_special = False\n",
    "    special_characters = \"!@#$%^&*()-_+=<>?/|\\\\{}[]~`\"\n",
    "    for char in password:\n",
    "        if char.isupper():\n",
    "            has_upper = True\n",
    "        elif char.islower():\n",
    "            has_lower = True\n",
    "        elif char.isdigit():\n",
    "            has_digit = True\n",
    "        elif char in special_characters:\n",
    "            has_special = True\n",
    "    return has_upper and has_lower and has_digit and has_special\n",
    "\n",
    "# Test the function\n",
    "print(is_strong_password('password'))  # False"
   ],
   "id": "e11ca59d8a07d8d3",
   "outputs": [
    {
     "name": "stdout",
     "output_type": "stream",
     "text": [
      "False\n"
     ]
    }
   ],
   "execution_count": 8
  },
  {
   "metadata": {
    "ExecuteTime": {
     "end_time": "2024-07-26T15:31:05.874376Z",
     "start_time": "2024-07-26T15:31:05.869593Z"
    }
   },
   "cell_type": "code",
   "source": "print(is_strong_password('1234')) # False",
   "id": "ae85acabdf6e1274",
   "outputs": [
    {
     "name": "stdout",
     "output_type": "stream",
     "text": [
      "False\n"
     ]
    }
   ],
   "execution_count": 5
  },
  {
   "metadata": {
    "ExecuteTime": {
     "end_time": "2024-07-26T15:48:31.804014Z",
     "start_time": "2024-07-26T15:48:31.798505Z"
    }
   },
   "cell_type": "code",
   "source": "print(is_strong_password('Password1234!')) # False",
   "id": "16f499bda3f15bfb",
   "outputs": [
    {
     "name": "stdout",
     "output_type": "stream",
     "text": [
      "True\n"
     ]
    }
   ],
   "execution_count": 10
  },
  {
   "metadata": {
    "ExecuteTime": {
     "end_time": "2024-07-26T16:40:47.290347Z",
     "start_time": "2024-07-26T16:40:47.283610Z"
    }
   },
   "cell_type": "code",
   "source": [
    "# Example 4.2.3 - Calculate the Total Cost of an items in a Shopping Cart\n",
    "def calculate_total_cost(cart_items):\n",
    "    \"\"\" Calculate the total cost of items in a shopping cart\"\"\"\n",
    "    total_cost = 0\n",
    "    for item in cart_items:\n",
    "        total_cost += item['price'] * item['quantity']\n",
    "    return total_cost\n",
    "\n",
    "cart = [{\n",
    "    'name': 'Apple',\n",
    "    'price': 1.0,\n",
    "    'quantity': 2\n",
    "},\n",
    "{\n",
    "    'name': 'Banana',\n",
    "    'price': 0.5,\n",
    "    'quantity': 3\n",
    "},\n",
    "{\n",
    "    'name': 'Orange',\n",
    "    'price': 1.5,\n",
    "    'quantity': 1\n",
    "}]\n",
    "\n",
    "# Test the function\n",
    "print(calculate_total_cost(cart)) # 5.0"
   ],
   "id": "2068d7c01f52b103",
   "outputs": [
    {
     "name": "stdout",
     "output_type": "stream",
     "text": [
      "5.0\n"
     ]
    }
   ],
   "execution_count": 2
  },
  {
   "metadata": {
    "ExecuteTime": {
     "end_time": "2024-07-26T16:46:25.491937Z",
     "start_time": "2024-07-26T16:46:25.485498Z"
    }
   },
   "cell_type": "code",
   "source": [
    "# Example 4.2.4 - Check if a number is a palindrome number\n",
    "def is_palindrome_number(num):\n",
    "    \"\"\" Check if a number is a palindrome number\"\"\"\n",
    "    num_str = str(num).replace(\" \", \"\").lower()\n",
    "    return num_str == num_str[::-1]\n",
    "\n",
    "# Test the function\n",
    "print(is_palindrome_number('Madam')) # True\n",
    "print(is_palindrome_number('A man a plan a canal Panama')) # True\n",
    "print(is_palindrome_number('12321')) # True\n",
    "print(is_palindrome_number('12345')) # False"
   ],
   "id": "7c54178b715a4ce5",
   "outputs": [
    {
     "name": "stdout",
     "output_type": "stream",
     "text": [
      "True\n",
      "True\n",
      "True\n",
      "False\n"
     ]
    }
   ],
   "execution_count": 7
  },
  {
   "metadata": {
    "ExecuteTime": {
     "end_time": "2024-07-26T16:48:58.457773Z",
     "start_time": "2024-07-26T16:48:58.451386Z"
    }
   },
   "cell_type": "code",
   "source": [
    "# Example 4.2.5 - Check the factorial of a number\n",
    "def factorial(num):\n",
    "    \"\"\" Calculate the factorial of a number\"\"\"\n",
    "    if num < 0:\n",
    "        return 'Invalid input'\n",
    "    if num == 0:\n",
    "        return 1\n",
    "    else:\n",
    "        return num * factorial(num - 1)\n",
    "\n",
    "# Test the function\n",
    "print(factorial(6)) # 120\n",
    "print(factorial(0)) # 1\n",
    "print(factorial(-5)) # Invalid input"
   ],
   "id": "8a656539f7576cfc",
   "outputs": [
    {
     "name": "stdout",
     "output_type": "stream",
     "text": [
      "720\n",
      "1\n",
      "Invalid input\n"
     ]
    }
   ],
   "execution_count": 9
  },
  {
   "metadata": {
    "ExecuteTime": {
     "end_time": "2024-07-26T16:56:24.212441Z",
     "start_time": "2024-07-26T16:56:24.203229Z"
    }
   },
   "cell_type": "code",
   "source": [
    "# Example 4.2.6 - A function to read a file and count the frequency of words\n",
    "def count_word_frequency(file_name):\n",
    "    \"\"\" Read a file and count the frequency of words\"\"\"\n",
    "    word_frequency = {}\n",
    "    with open(file_name, 'r') as file:\n",
    "        for line in file:\n",
    "            words = line.split()\n",
    "            for word in words:\n",
    "                word = word.lower().strip('.,!?;:')\n",
    "                word_frequency[word] = word_frequency.get(word, 0) + 1\n",
    "    return word_frequency\n",
    "\n",
    "# Test the function\n",
    "print(count_word_frequency('example.txt'))"
   ],
   "id": "3c8f763970d29c23",
   "outputs": [
    {
     "name": "stdout",
     "output_type": "stream",
     "text": [
      "{'pranas': 1, 'is': 2, 'a': 2, 'good': 1, 'boy': 1, 'he': 1, 'lives': 1, 'in': 1, 'kolkata': 2, 'city': 1, 'of': 1, 'joy': 1}\n"
     ]
    }
   ],
   "execution_count": 10
  },
  {
   "metadata": {
    "ExecuteTime": {
     "end_time": "2024-07-26T17:00:07.901164Z",
     "start_time": "2024-07-26T17:00:07.893172Z"
    }
   },
   "cell_type": "code",
   "source": [
    "# Example 4.2.7 - A function to validate an email address\n",
    "import re\n",
    "def is_valid_email(email):\n",
    "    \"\"\" Check if an email address is valid\"\"\"\n",
    "    pattern = r'^[a-zA-Z0-9_.+-]+@[a-zA-Z0-9-]+\\.[a-zA-Z0-9-.]+$'\n",
    "    return re.match(pattern, email) is not None\n",
    "\n",
    "# Test the function\n",
    "print(is_valid_email('test@gmail.com')) # True"
   ],
   "id": "9d7284fac9048246",
   "outputs": [
    {
     "name": "stdout",
     "output_type": "stream",
     "text": [
      "True\n"
     ]
    }
   ],
   "execution_count": 11
  },
  {
   "metadata": {
    "ExecuteTime": {
     "end_time": "2024-07-26T17:00:11.204521Z",
     "start_time": "2024-07-26T17:00:11.198284Z"
    }
   },
   "cell_type": "code",
   "source": "print(is_valid_email('test@gmail')) # False",
   "id": "25b341d924992001",
   "outputs": [
    {
     "name": "stdout",
     "output_type": "stream",
     "text": [
      "False\n"
     ]
    }
   ],
   "execution_count": 12
  },
  {
   "metadata": {
    "ExecuteTime": {
     "end_time": "2024-07-26T17:00:13.396858Z",
     "start_time": "2024-07-26T17:00:13.392573Z"
    }
   },
   "cell_type": "code",
   "source": "print(is_valid_email('test@gmail.')) # False",
   "id": "b0e19580a6f34118",
   "outputs": [
    {
     "name": "stdout",
     "output_type": "stream",
     "text": [
      "False\n"
     ]
    }
   ],
   "execution_count": 13
  },
  {
   "metadata": {},
   "cell_type": "code",
   "outputs": [],
   "execution_count": null,
   "source": "",
   "id": "e82248020f895612"
  }
 ],
 "metadata": {
  "kernelspec": {
   "display_name": "Python 3",
   "language": "python",
   "name": "python3"
  },
  "language_info": {
   "codemirror_mode": {
    "name": "ipython",
    "version": 2
   },
   "file_extension": ".py",
   "mimetype": "text/x-python",
   "name": "python",
   "nbconvert_exporter": "python",
   "pygments_lexer": "ipython2",
   "version": "2.7.6"
  }
 },
 "nbformat": 4,
 "nbformat_minor": 5
}

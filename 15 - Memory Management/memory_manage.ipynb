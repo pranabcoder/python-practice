{
 "cells": [
  {
   "metadata": {
    "ExecuteTime": {
     "end_time": "2024-07-30T18:23:04.122601Z",
     "start_time": "2024-07-30T18:23:04.114419Z"
    }
   },
   "cell_type": "code",
   "source": [
    "import sys\n",
    "\n",
    "a=[]\n",
    "## 2 (one reference from 'a' and one from getrefcount())\n",
    "print(sys.getrefcount(a))"
   ],
   "id": "2b2bb80771589a35",
   "outputs": [
    {
     "name": "stdout",
     "output_type": "stream",
     "text": [
      "2\n"
     ]
    }
   ],
   "execution_count": 1
  },
  {
   "metadata": {
    "ExecuteTime": {
     "end_time": "2024-07-30T18:23:42.831859Z",
     "start_time": "2024-07-30T18:23:42.826803Z"
    }
   },
   "cell_type": "code",
   "source": [
    "b=a\n",
    "print(sys.getrefcount(b))"
   ],
   "id": "7eb5206523fd6b1f",
   "outputs": [
    {
     "name": "stdout",
     "output_type": "stream",
     "text": [
      "3\n"
     ]
    }
   ],
   "execution_count": 2
  },
  {
   "metadata": {
    "ExecuteTime": {
     "end_time": "2024-07-30T18:23:51.954642Z",
     "start_time": "2024-07-30T18:23:51.951024Z"
    }
   },
   "cell_type": "code",
   "source": [
    "del b\n",
    "print(sys.getrefcount(a))"
   ],
   "id": "bc41d403a181f958",
   "outputs": [
    {
     "name": "stdout",
     "output_type": "stream",
     "text": [
      "2\n"
     ]
    }
   ],
   "execution_count": 3
  },
  {
   "metadata": {
    "ExecuteTime": {
     "end_time": "2024-07-30T18:25:16.749499Z",
     "start_time": "2024-07-30T18:25:16.744494Z"
    }
   },
   "cell_type": "code",
   "source": [
    "import gc\n",
    "## enable garbage collection\n",
    "gc.enable()"
   ],
   "id": "d1c4af5d49820fe8",
   "outputs": [],
   "execution_count": 4
  },
  {
   "metadata": {
    "ExecuteTime": {
     "end_time": "2024-07-30T18:25:26.546734Z",
     "start_time": "2024-07-30T18:25:26.541734Z"
    }
   },
   "cell_type": "code",
   "source": [
    "# disable garbage collection\n",
    "gc.disable()"
   ],
   "id": "92878dd20b897336",
   "outputs": [],
   "execution_count": 5
  },
  {
   "metadata": {
    "ExecuteTime": {
     "end_time": "2024-07-30T18:26:00.306424Z",
     "start_time": "2024-07-30T18:26:00.266841Z"
    }
   },
   "cell_type": "code",
   "source": [
    "# enable garbage collection\n",
    "gc.collect()"
   ],
   "id": "2bd660dff3a10f5a",
   "outputs": [
    {
     "data": {
      "text/plain": [
       "36"
      ]
     },
     "execution_count": 6,
     "metadata": {},
     "output_type": "execute_result"
    }
   ],
   "execution_count": 6
  },
  {
   "metadata": {
    "ExecuteTime": {
     "end_time": "2024-07-30T18:26:21.004450Z",
     "start_time": "2024-07-30T18:26:21.000304Z"
    }
   },
   "cell_type": "code",
   "source": [
    "# Get garbage collection stats\n",
    "print(gc.get_stats())"
   ],
   "id": "e97449c5cce141dc",
   "outputs": [
    {
     "name": "stdout",
     "output_type": "stream",
     "text": [
      "[{'collections': 172, 'collected': 1555, 'uncollectable': 0}, {'collections': 15, 'collected': 33, 'uncollectable': 0}, {'collections': 2, 'collected': 110, 'uncollectable': 0}]\n"
     ]
    }
   ],
   "execution_count": 7
  },
  {
   "metadata": {
    "ExecuteTime": {
     "end_time": "2024-07-30T18:26:42.635617Z",
     "start_time": "2024-07-30T18:26:42.631613Z"
    }
   },
   "cell_type": "code",
   "source": [
    "# Get unreachable objects\n",
    "print(gc.garbage)"
   ],
   "id": "439fb9fe9b152b42",
   "outputs": [
    {
     "name": "stdout",
     "output_type": "stream",
     "text": [
      "[]\n"
     ]
    }
   ],
   "execution_count": 8
  },
  {
   "metadata": {
    "ExecuteTime": {
     "end_time": "2024-07-30T18:27:56.050485Z",
     "start_time": "2024-07-30T18:27:56.010597Z"
    }
   },
   "cell_type": "code",
   "source": [
    "# Handled Circular reference\n",
    "import gc\n",
    "\n",
    "class MyObject:\n",
    "    def __init__(self, name):\n",
    "        self.name = name\n",
    "        print(f\"Object {self.name} created\")\n",
    "\n",
    "    def __del__(self):\n",
    "        print(f\"Object {self.name} deleted\")\n",
    "\n",
    "# Create circular reference\n",
    "obj1 = MyObject(\"obj1\")\n",
    "obj2 = MyObject(\"obj2\")\n",
    "obj1.ref = obj2\n",
    "obj2.ref = obj1\n",
    "\n",
    "del obj1\n",
    "del obj2\n",
    "\n",
    "# Manually trigger the garbage collection\n",
    "gc.collect()"
   ],
   "id": "e9243c55acfff02d",
   "outputs": [
    {
     "name": "stdout",
     "output_type": "stream",
     "text": [
      "Object obj1 created\n",
      "Object obj2 created\n",
      "Object obj1 deleted\n",
      "Object obj2 deleted\n"
     ]
    },
    {
     "data": {
      "text/plain": [
       "2"
      ]
     },
     "execution_count": 9,
     "metadata": {},
     "output_type": "execute_result"
    }
   ],
   "execution_count": 9
  },
  {
   "metadata": {
    "ExecuteTime": {
     "end_time": "2024-07-30T18:33:25.632959Z",
     "start_time": "2024-07-30T18:33:25.626915Z"
    }
   },
   "cell_type": "code",
   "source": [
    "# Generators For Memory Efficiency\n",
    "# Generators allow you to produce item one at a time, using memory efficiently by only keeping one item in memory at a time.\n",
    "\n",
    "def generate_numbers(n):\n",
    "    for i in range(n):\n",
    "        yield i\n",
    "\n",
    "## using the generator\n",
    "for num in generate_numbers(100000):\n",
    "    print(num)\n",
    "    if num>10:\n",
    "        break"
   ],
   "id": "429075c4f8ce6486",
   "outputs": [
    {
     "name": "stdout",
     "output_type": "stream",
     "text": [
      "0\n",
      "1\n",
      "2\n",
      "3\n",
      "4\n",
      "5\n",
      "6\n",
      "7\n",
      "8\n",
      "9\n",
      "10\n",
      "11\n"
     ]
    }
   ],
   "execution_count": 10
  },
  {
   "metadata": {
    "ExecuteTime": {
     "end_time": "2024-07-30T18:34:17.811742Z",
     "start_time": "2024-07-30T18:34:17.785123Z"
    }
   },
   "cell_type": "code",
   "source": [
    "# Profiling Memory USage with tracemalloc\n",
    "import tracemalloc\n",
    "\n",
    "def create_list():\n",
    "    return [i for i in range(10000)]\n",
    "\n",
    "def main():\n",
    "    tracemalloc.start()\n",
    "    \n",
    "    create_list()\n",
    "    \n",
    "    snapshot = tracemalloc.take_snapshot()\n",
    "    top_stats = snapshot.statistics('lineno')\n",
    "    \n",
    "    print(\"[ Top 10 ]\")\n",
    "    for stat in top_stats[::]:\n",
    "        print(stat)"
   ],
   "id": "47c7c9602ad7b07c",
   "outputs": [],
   "execution_count": 11
  },
  {
   "metadata": {
    "ExecuteTime": {
     "end_time": "2024-07-30T18:34:21.947805Z",
     "start_time": "2024-07-30T18:34:21.935173Z"
    }
   },
   "cell_type": "code",
   "source": "main()",
   "id": "81b190508084a19a",
   "outputs": [
    {
     "name": "stdout",
     "output_type": "stream",
     "text": [
      "[ Top 10 ]\n",
      "C:\\Users\\prana\\OneDrive\\Documents\\python-practice\\venv\\Lib\\tracemalloc.py:551: size=72 B, count=1, average=72 B\n",
      "C:\\Users\\prana\\AppData\\Local\\Temp\\ipykernel_21072\\3201263501.py:4: size=72 B, count=1, average=72 B\n"
     ]
    }
   ],
   "execution_count": 12
  },
  {
   "metadata": {},
   "cell_type": "code",
   "outputs": [],
   "execution_count": null,
   "source": "",
   "id": "c2956321e0bc5d19"
  }
 ],
 "metadata": {
  "kernelspec": {
   "display_name": "Python 3",
   "language": "python",
   "name": "python3"
  },
  "language_info": {
   "codemirror_mode": {
    "name": "ipython",
    "version": 2
   },
   "file_extension": ".py",
   "mimetype": "text/x-python",
   "name": "python",
   "nbconvert_exporter": "python",
   "pygments_lexer": "ipython2",
   "version": "2.7.6"
  }
 },
 "nbformat": 4,
 "nbformat_minor": 5
}

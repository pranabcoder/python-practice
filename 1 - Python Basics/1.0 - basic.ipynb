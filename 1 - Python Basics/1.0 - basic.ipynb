{
 "cells": [
  {
   "cell_type": "code",
   "id": "initial_id",
   "metadata": {
    "collapsed": true,
    "ExecuteTime": {
     "end_time": "2024-07-02T16:50:16.252854Z",
     "start_time": "2024-07-02T16:50:16.244058Z"
    }
   },
   "source": [
    "## Basic Syntax Rules In Python\n",
    "## Case sensitivity - Python is case-sensitive\n",
    "name = \"John\"\n",
    "Name = \"Doe\"\n",
    "print(name)\n",
    "print(Name)"
   ],
   "outputs": [
    {
     "name": "stdout",
     "output_type": "stream",
     "text": [
      "John\n",
      "Doe\n"
     ]
    }
   ],
   "execution_count": 1
  },
  {
   "metadata": {
    "ExecuteTime": {
     "end_time": "2024-07-02T17:45:45.584214Z",
     "start_time": "2024-07-02T17:45:45.565537Z"
    }
   },
   "cell_type": "code",
   "source": [
    "## Indentation - \n",
    "## Python uses indentation to define code blocks. Consistent use of spaces or tabs is required.\n",
    "age = 32\n",
    "if age > 30:\n",
    "    print(age)\n",
    "print(age)  "
   ],
   "id": "81538aa3c30c39f3",
   "outputs": [
    {
     "name": "stdout",
     "output_type": "stream",
     "text": [
      "32\n",
      "32\n"
     ]
    }
   ],
   "execution_count": 3
  },
  {
   "metadata": {
    "ExecuteTime": {
     "end_time": "2024-07-02T17:48:51.680397Z",
     "start_time": "2024-07-02T17:48:51.663848Z"
    }
   },
   "cell_type": "code",
   "source": [
    "## Line continuation -\n",
    "## Use the backslash character (\\) to continue a statement on the next line.\n",
    "total = 1 + 2 + 3 + \\\n",
    "        4 + 5 + 6 + \\\n",
    "        7 + 8 + 9\n",
    "print(total)"
   ],
   "id": "67297eaee5252986",
   "outputs": [
    {
     "name": "stdout",
     "output_type": "stream",
     "text": [
      "45\n"
     ]
    }
   ],
   "execution_count": 4
  },
  {
   "metadata": {
    "ExecuteTime": {
     "end_time": "2024-07-02T17:57:53.275791Z",
     "start_time": "2024-07-02T17:57:53.270386Z"
    }
   },
   "cell_type": "code",
   "source": [
    "## Multiple statements on a single line -\n",
    "x = 1; y = 2; z = x + y\n",
    "print(z)"
   ],
   "id": "6e5f085c9ee5c148",
   "outputs": [
    {
     "name": "stdout",
     "output_type": "stream",
     "text": [
      "3\n"
     ]
    }
   ],
   "execution_count": 5
  },
  {
   "metadata": {
    "ExecuteTime": {
     "end_time": "2024-07-02T18:01:57.714670Z",
     "start_time": "2024-07-02T18:01:57.697234Z"
    }
   },
   "cell_type": "code",
   "source": [
    "## Understand Semantics In Python\n",
    "## Variable assignment -\n",
    "age = 32 ## age is an integer\n",
    "name = \"John\" ## name is a string\n",
    "\n",
    "## Type Inference - Python is a dynamically typed language\n",
    "type(age)\n"
   ],
   "id": "d863031eb9312f40",
   "outputs": [
    {
     "data": {
      "text/plain": [
       "int"
      ]
     },
     "execution_count": 10,
     "metadata": {},
     "output_type": "execute_result"
    }
   ],
   "execution_count": 10
  },
  {
   "metadata": {
    "ExecuteTime": {
     "end_time": "2024-07-02T18:02:00.086610Z",
     "start_time": "2024-07-02T18:02:00.080070Z"
    }
   },
   "cell_type": "code",
   "source": "type(name)",
   "id": "813e8ae1f9da4f11",
   "outputs": [
    {
     "data": {
      "text/plain": [
       "str"
      ]
     },
     "execution_count": 11,
     "metadata": {},
     "output_type": "execute_result"
    }
   ],
   "execution_count": 11
  },
  {
   "metadata": {
    "ExecuteTime": {
     "end_time": "2024-07-02T18:03:56.501762Z",
     "start_time": "2024-07-02T18:03:56.496477Z"
    }
   },
   "cell_type": "code",
   "source": [
    "## Type Inference - another example\n",
    "variable = 10\n",
    "print(type(variable))\n",
    "variable = \"Hello\"\n",
    "print(type(variable))"
   ],
   "id": "deb67f4b192bfc27",
   "outputs": [
    {
     "name": "stdout",
     "output_type": "stream",
     "text": [
      "<class 'int'>\n",
      "<class 'str'>\n"
     ]
    }
   ],
   "execution_count": 12
  },
  {
   "metadata": {
    "ExecuteTime": {
     "end_time": "2024-07-02T18:09:24.933364Z",
     "start_time": "2024-07-02T18:09:24.917682Z"
    }
   },
   "cell_type": "code",
   "source": [
    "## Code examples of indentation\n",
    "if True:\n",
    "    print(\"Correct Indentation\")\n",
    "    if False:\n",
    "        print(\"This ont print\")\n",
    "    print(\"This will print\")\n",
    "print(\"Outside the if block\")    \n",
    "    \n",
    "    "
   ],
   "id": "c69c1758a4d551ca",
   "outputs": [
    {
     "name": "stdout",
     "output_type": "stream",
     "text": [
      "Correct Indentation\n",
      "This will print\n",
      "Outside the if block\n"
     ]
    }
   ],
   "execution_count": 13
  },
  {
   "metadata": {
    "ExecuteTime": {
     "end_time": "2024-07-07T15:38:20.055222Z",
     "start_time": "2024-07-07T15:38:20.049318Z"
    }
   },
   "cell_type": "code",
   "source": [
    "# Example of variable assignment\n",
    "a = 100\n",
    "print(a)"
   ],
   "id": "6862e899037f245",
   "outputs": [
    {
     "name": "stdout",
     "output_type": "stream",
     "text": [
      "100\n"
     ]
    }
   ],
   "execution_count": 2
  },
  {
   "metadata": {
    "ExecuteTime": {
     "end_time": "2024-07-07T17:19:51.013807Z",
     "start_time": "2024-07-07T17:19:50.987168Z"
    }
   },
   "cell_type": "code",
   "source": [
    "# Declaring and assigning multiple variables\n",
    "age = 32\n",
    "height = 6.1\n",
    "name = \"John\"\n",
    "is_student = True\n",
    "\n",
    "# Printing the variables\n",
    "print(\"age : \", age)\n",
    "print(\"height : \", height)\n",
    "print(\"name : \", name)"
   ],
   "id": "27695ea5cb037df3",
   "outputs": [
    {
     "name": "stdout",
     "output_type": "stream",
     "text": [
      "age :  32\n",
      "height :  6.1\n",
      "name :  John\n"
     ]
    }
   ],
   "execution_count": 3
  },
  {
   "metadata": {
    "ExecuteTime": {
     "end_time": "2024-07-07T17:23:29.978900Z",
     "start_time": "2024-07-07T17:23:29.974341Z"
    }
   },
   "cell_type": "code",
   "source": [
    "# Naming conventions\n",
    "# Variable names should be descriptive and meaningful\n",
    "# They must start with a letter or an underscore '_' and can contain letters, digits and underscores\n",
    "# They are case-sensitive\n",
    "\n",
    "# Correct variable names\n",
    "first_name = \"John\"\n",
    "last_name = \"Doe\""
   ],
   "id": "dba187c824076ca6",
   "outputs": [],
   "execution_count": 4
  },
  {
   "metadata": {
    "ExecuteTime": {
     "end_time": "2024-07-07T17:24:12.610595Z",
     "start_time": "2024-07-07T17:24:12.600032Z"
    }
   },
   "cell_type": "code",
   "source": [
    "# Incorrect variable names\n",
    "1st_name = \"John\"\n",
    "first-name = \"John\""
   ],
   "id": "7c8a6b431258d04d",
   "outputs": [
    {
     "ename": "SyntaxError",
     "evalue": "invalid decimal literal (2068677144.py, line 2)",
     "output_type": "error",
     "traceback": [
      "\u001B[1;36m  Cell \u001B[1;32mIn[5], line 2\u001B[1;36m\u001B[0m\n\u001B[1;33m    1st_name = \"John\"\u001B[0m\n\u001B[1;37m    ^\u001B[0m\n\u001B[1;31mSyntaxError\u001B[0m\u001B[1;31m:\u001B[0m invalid decimal literal\n"
     ]
    }
   ],
   "execution_count": 5
  },
  {
   "metadata": {
    "ExecuteTime": {
     "end_time": "2024-07-07T17:30:59.785915Z",
     "start_time": "2024-07-07T17:30:59.775901Z"
    }
   },
   "cell_type": "code",
   "source": [
    "# Understanding variable types\n",
    "# Python is a dynamically typed language and the type of variable is determined at runtime\n",
    "age = 32 # age is an integer\n",
    "height = 6.1 # height is a float\n",
    "name = \"John\" # name is a string\n",
    "is_student = True # is_student is a boolean\n",
    "print(type(age))\n",
    "print(type(height))\n",
    "print(type(name))\n",
    "print(type(is_student))"
   ],
   "id": "16bbf2a72fb77338",
   "outputs": [
    {
     "name": "stdout",
     "output_type": "stream",
     "text": [
      "<class 'int'>\n",
      "<class 'float'>\n",
      "<class 'str'>\n",
      "<class 'bool'>\n"
     ]
    }
   ],
   "execution_count": 8
  },
  {
   "metadata": {
    "ExecuteTime": {
     "end_time": "2024-07-13T06:04:00.344043Z",
     "start_time": "2024-07-13T06:04:00.334392Z"
    }
   },
   "cell_type": "code",
   "source": [
    "# Type conversion in Python\n",
    "age = 25\n",
    "print(age)\n",
    "print(type(age))\n",
    "age_str = str(age)\n",
    "print(age_str)\n",
    "print(type(age_str))"
   ],
   "id": "e94f305e193740a3",
   "outputs": [
    {
     "name": "stdout",
     "output_type": "stream",
     "text": [
      "25\n",
      "<class 'int'>\n",
      "25\n",
      "<class 'str'>\n"
     ]
    }
   ],
   "execution_count": 1
  },
  {
   "metadata": {
    "ExecuteTime": {
     "end_time": "2024-07-13T06:06:39.457202Z",
     "start_time": "2024-07-13T06:06:38.897529Z"
    }
   },
   "cell_type": "code",
   "source": [
    "# Can a character be converted to an integer?\n",
    "name = \"John\"\n",
    "print(name)\n",
    "print(type(name))\n",
    "name_int = int(name)\n",
    "print(name_int)\n",
    "print(type(name_int))"
   ],
   "id": "5a48af59878cc822",
   "outputs": [
    {
     "name": "stdout",
     "output_type": "stream",
     "text": [
      "John\n",
      "<class 'str'>\n"
     ]
    },
    {
     "ename": "ValueError",
     "evalue": "invalid literal for int() with base 10: 'John'",
     "output_type": "error",
     "traceback": [
      "\u001B[1;31m---------------------------------------------------------------------------\u001B[0m",
      "\u001B[1;31mValueError\u001B[0m                                Traceback (most recent call last)",
      "Cell \u001B[1;32mIn[2], line 5\u001B[0m\n\u001B[0;32m      3\u001B[0m \u001B[38;5;28mprint\u001B[39m(name)\n\u001B[0;32m      4\u001B[0m \u001B[38;5;28mprint\u001B[39m(\u001B[38;5;28mtype\u001B[39m(name))\n\u001B[1;32m----> 5\u001B[0m name_int \u001B[38;5;241m=\u001B[39m \u001B[38;5;28mint\u001B[39m(name)\n\u001B[0;32m      6\u001B[0m \u001B[38;5;28mprint\u001B[39m(name_int)\n\u001B[0;32m      7\u001B[0m \u001B[38;5;28mprint\u001B[39m(\u001B[38;5;28mtype\u001B[39m(name_int))\n",
      "\u001B[1;31mValueError\u001B[0m: invalid literal for int() with base 10: 'John'"
     ]
    }
   ],
   "execution_count": 2
  },
  {
   "metadata": {
    "ExecuteTime": {
     "end_time": "2024-07-13T15:36:10.183886Z",
     "start_time": "2024-07-13T15:36:10.174863Z"
    }
   },
   "cell_type": "code",
   "source": [
    "# Can I convert float to integer?\n",
    "height = 6.1\n",
    "type(height)\n",
    "height_int = int(height)\n",
    "print(height_int)\n",
    "print(type(height_int))"
   ],
   "id": "265f032d7ccc670f",
   "outputs": [
    {
     "name": "stdout",
     "output_type": "stream",
     "text": [
      "6\n",
      "<class 'int'>\n"
     ]
    }
   ],
   "execution_count": 1
  },
  {
   "metadata": {
    "ExecuteTime": {
     "end_time": "2024-07-13T15:36:26.452447Z",
     "start_time": "2024-07-13T15:36:26.447498Z"
    }
   },
   "cell_type": "code",
   "source": [
    "# Can I convert integer to float?\n",
    "age = 25\n",
    "type(age)\n",
    "age_float = float(age)\n",
    "print(age_float)\n",
    "print(type(age_float))"
   ],
   "id": "fb7030b6f37639b7",
   "outputs": [
    {
     "name": "stdout",
     "output_type": "stream",
     "text": [
      "25.0\n",
      "<class 'float'>\n"
     ]
    }
   ],
   "execution_count": 2
  },
  {
   "metadata": {
    "ExecuteTime": {
     "end_time": "2024-07-14T05:46:58.690577Z",
     "start_time": "2024-07-14T05:46:58.678726Z"
    }
   },
   "cell_type": "code",
   "source": [
    "# Dynamic typing in Python\n",
    "#  allows the type of variable to change during runtime\n",
    "variable = 10\n",
    "print(variable, type(variable))\n",
    "variable = \"Hello\"\n",
    "print(variable, type(variable))\n",
    "variable = 10.5\n",
    "print(variable, type(variable))"
   ],
   "id": "76542d3ef6e80e4b",
   "outputs": [
    {
     "name": "stdout",
     "output_type": "stream",
     "text": [
      "10 <class 'int'>\n",
      "Hello <class 'str'>\n",
      "10.5 <class 'float'>\n"
     ]
    }
   ],
   "execution_count": 1
  },
  {
   "metadata": {
    "ExecuteTime": {
     "end_time": "2024-07-14T05:52:06.901494Z",
     "start_time": "2024-07-14T05:52:00.736956Z"
    }
   },
   "cell_type": "code",
   "source": [
    "# Input function in Python\n",
    "# The input() function allows the user to enter input from the keyboard\n",
    "name = input(\"Enter your name: \")\n",
    "age = int(input(\"Enter your age: \"))\n",
    "print(f\"Hello {name}, you are {age} years old\")"
   ],
   "id": "57b4ad4a847e1d57",
   "outputs": [
    {
     "name": "stdout",
     "output_type": "stream",
     "text": [
      "Hello pranab, you are 32 years old\n"
     ]
    }
   ],
   "execution_count": 4
  },
  {
   "metadata": {
    "ExecuteTime": {
     "end_time": "2024-07-14T05:57:17.839378Z",
     "start_time": "2024-07-14T05:57:13.206239Z"
    }
   },
   "cell_type": "code",
   "source": [
    "# Create a Calculator\n",
    "first_number = int(input(\"Enter the first number: \"))\n",
    "second_number = int(input(\"Enter the second number: \"))\n",
    "addition_result = first_number + second_number\n",
    "difference_result = first_number - second_number\n",
    "product_result = first_number * second_number\n",
    "division_result = first_number / second_number\n",
    "print(f\"Addition result between {first_number} and {second_number} is: {addition_result}\")\n",
    "print(f\"Difference result between {first_number} and {second_number} is: {difference_result}\")\n",
    "print(f\"Product result between {first_number} and {second_number} is: {product_result}\")\n",
    "print(f\"Division result between {first_number} and {second_number} is: {division_result}\")    "
   ],
   "id": "ec57882870f73ac9",
   "outputs": [
    {
     "name": "stdout",
     "output_type": "stream",
     "text": [
      "Addition result between 23 and 12 is: 35\n",
      "Difference result between 23 and 12 is: 11\n",
      "Product result between 23 and 12 is: 276\n",
      "Division result between 23 and 12 is: 1.9166666666666667\n"
     ]
    }
   ],
   "execution_count": 6
  },
  {
   "metadata": {
    "ExecuteTime": {
     "end_time": "2024-07-14T09:31:44.961303Z",
     "start_time": "2024-07-14T09:31:44.929780Z"
    }
   },
   "cell_type": "code",
   "source": [
    "# Integer Example\n",
    "age = 35\n",
    "type(age)"
   ],
   "id": "690d576ea93cc924",
   "outputs": [
    {
     "data": {
      "text/plain": [
       "int"
      ]
     },
     "execution_count": 7,
     "metadata": {},
     "output_type": "execute_result"
    }
   ],
   "execution_count": 7
  },
  {
   "metadata": {
    "ExecuteTime": {
     "end_time": "2024-07-14T09:32:18.886954Z",
     "start_time": "2024-07-14T09:32:18.878471Z"
    }
   },
   "cell_type": "code",
   "source": [
    "# Float Example\n",
    "height = 6.1\n",
    "type(height)"
   ],
   "id": "228e5e3e9f55aea",
   "outputs": [
    {
     "data": {
      "text/plain": [
       "float"
      ]
     },
     "execution_count": 8,
     "metadata": {},
     "output_type": "execute_result"
    }
   ],
   "execution_count": 8
  },
  {
   "metadata": {
    "ExecuteTime": {
     "end_time": "2024-07-14T09:33:15.170595Z",
     "start_time": "2024-07-14T09:33:15.162850Z"
    }
   },
   "cell_type": "code",
   "source": [
    "# String Example\n",
    "name = \"John\"\n",
    "type(name)"
   ],
   "id": "e990506b8f1dd2b4",
   "outputs": [
    {
     "data": {
      "text/plain": [
       "str"
      ]
     },
     "execution_count": 9,
     "metadata": {},
     "output_type": "execute_result"
    }
   ],
   "execution_count": 9
  },
  {
   "metadata": {
    "ExecuteTime": {
     "end_time": "2024-07-14T09:34:42.295079Z",
     "start_time": "2024-07-14T09:34:42.289554Z"
    }
   },
   "cell_type": "code",
   "source": [
    "# Boolean Example\n",
    "is_student = True\n",
    "type(is_student)"
   ],
   "id": "3fa9ba9baaacd94b",
   "outputs": [
    {
     "data": {
      "text/plain": [
       "bool"
      ]
     },
     "execution_count": 10,
     "metadata": {},
     "output_type": "execute_result"
    }
   ],
   "execution_count": 10
  },
  {
   "metadata": {
    "ExecuteTime": {
     "end_time": "2024-07-14T09:36:05.555540Z",
     "start_time": "2024-07-14T09:36:05.549069Z"
    }
   },
   "cell_type": "code",
   "source": [
    "is_true = bool()\n",
    "print(is_true)"
   ],
   "id": "64fe5513d6c21a4b",
   "outputs": [
    {
     "name": "stdout",
     "output_type": "stream",
     "text": [
      "False\n"
     ]
    }
   ],
   "execution_count": 11
  },
  {
   "metadata": {
    "ExecuteTime": {
     "end_time": "2024-07-14T09:36:29.860581Z",
     "start_time": "2024-07-14T09:36:29.853060Z"
    }
   },
   "cell_type": "code",
   "source": [
    "a = 10\n",
    "b = 20\n",
    "a == b"
   ],
   "id": "6f758b5b408b6d3e",
   "outputs": [
    {
     "data": {
      "text/plain": [
       "False"
      ]
     },
     "execution_count": 12,
     "metadata": {},
     "output_type": "execute_result"
    }
   ],
   "execution_count": 12
  },
  {
   "metadata": {
    "ExecuteTime": {
     "end_time": "2024-07-14T09:36:36.422953Z",
     "start_time": "2024-07-14T09:36:36.414009Z"
    }
   },
   "cell_type": "code",
   "source": "type(a == b)",
   "id": "833f162a146d6cde",
   "outputs": [
    {
     "data": {
      "text/plain": [
       "bool"
      ]
     },
     "execution_count": 13,
     "metadata": {},
     "output_type": "execute_result"
    }
   ],
   "execution_count": 13
  },
  {
   "metadata": {
    "ExecuteTime": {
     "end_time": "2024-07-14T09:41:07.852486Z",
     "start_time": "2024-07-14T09:41:07.804451Z"
    }
   },
   "cell_type": "code",
   "source": [
    "# Common Errors in Python\n",
    "result = \"Hello\" + 10\n",
    "print(result)"
   ],
   "id": "57acc7e3e07ea0be",
   "outputs": [
    {
     "ename": "TypeError",
     "evalue": "can only concatenate str (not \"int\") to str",
     "output_type": "error",
     "traceback": [
      "\u001B[1;31m---------------------------------------------------------------------------\u001B[0m",
      "\u001B[1;31mTypeError\u001B[0m                                 Traceback (most recent call last)",
      "Cell \u001B[1;32mIn[14], line 2\u001B[0m\n\u001B[0;32m      1\u001B[0m \u001B[38;5;66;03m# Common Errors in Python\u001B[39;00m\n\u001B[1;32m----> 2\u001B[0m result \u001B[38;5;241m=\u001B[39m \u001B[38;5;124m\"\u001B[39m\u001B[38;5;124mHello\u001B[39m\u001B[38;5;124m\"\u001B[39m \u001B[38;5;241m+\u001B[39m \u001B[38;5;241m10\u001B[39m\n\u001B[0;32m      3\u001B[0m \u001B[38;5;28mprint\u001B[39m(result)\n",
      "\u001B[1;31mTypeError\u001B[0m: can only concatenate str (not \"int\") to str"
     ]
    }
   ],
   "execution_count": 14
  },
  {
   "metadata": {
    "ExecuteTime": {
     "end_time": "2024-07-14T09:42:23.015183Z",
     "start_time": "2024-07-14T09:42:23.009473Z"
    }
   },
   "cell_type": "code",
   "source": [
    "# Resolving the error\n",
    "result = \"Hello\" + str(10)\n",
    "print(result)"
   ],
   "id": "40f398aae5b3f574",
   "outputs": [
    {
     "name": "stdout",
     "output_type": "stream",
     "text": [
      "Hello10\n"
     ]
    }
   ],
   "execution_count": 15
  },
  {
   "metadata": {
    "ExecuteTime": {
     "end_time": "2024-07-14T15:20:00.682306Z",
     "start_time": "2024-07-14T15:20:00.676600Z"
    }
   },
   "cell_type": "code",
   "source": [
    "# Arithmetic Operations in Python\n",
    "a = 10\n",
    "b = 5 \n",
    "addition_result = a + b # Addition\n",
    "sub_result = a - b # Subtraction\n",
    "multiplication_result = a * b # Multiplication\n",
    "division_result = a / b # Division\n",
    "floor_division_result = a // b # Floor Division\n",
    "modulus_result = a % b # Modulus\n",
    "exponential_result = a ** b # Exponential - to the power of\n",
    "print(f\"Addition: {addition_result}, Subtraction: {sub_result}, Multiplication: {multiplication_result}, Division: {division_result}, Floor Division: {floor_division_result}, Modulus: {modulus_result}, Exponential: {exponential_result}\")"
   ],
   "id": "e96a9b0b01e8bc5c",
   "outputs": [
    {
     "name": "stdout",
     "output_type": "stream",
     "text": [
      "Addition: 15, Subtraction: 5, Multiplication: 50, Division: 2.0, Floor Division: 2, Modulus: 0, Exponential: 100000\n"
     ]
    }
   ],
   "execution_count": 18
  },
  {
   "metadata": {
    "ExecuteTime": {
     "end_time": "2024-07-14T17:32:15.851651Z",
     "start_time": "2024-07-14T17:32:15.843625Z"
    }
   },
   "cell_type": "code",
   "source": [
    "# Comparison Operators in Python\n",
    "a = 10\n",
    "b = 20\n",
    "print(a == b) # Equal to\n",
    "print(a != b) # Not equal to\n",
    "print(a > b) # Greater than\n",
    "print(a < b) # Less than\n",
    "print(a >= b) # Greater than or equal to\n",
    "print(a <= b) # Less than or equal to\n"
   ],
   "id": "f8a56c0d4b6092d8",
   "outputs": [
    {
     "name": "stdout",
     "output_type": "stream",
     "text": [
      "False\n",
      "True\n",
      "False\n",
      "True\n",
      "False\n",
      "True\n"
     ]
    }
   ],
   "execution_count": 19
  },
  {
   "metadata": {
    "ExecuteTime": {
     "end_time": "2024-07-14T17:34:49.615676Z",
     "start_time": "2024-07-14T17:34:49.608412Z"
    }
   },
   "cell_type": "code",
   "source": [
    "# Comparison Operators using strings\n",
    "name1 = \"John\"\n",
    "name2 = \"Doe\"\n",
    "print(name1 == name2) # Equal to\n",
    "print(name1 != name2) # Not equal to"
   ],
   "id": "64542d8ad0ba5cd9",
   "outputs": [
    {
     "name": "stdout",
     "output_type": "stream",
     "text": [
      "False\n",
      "True\n"
     ]
    }
   ],
   "execution_count": 20
  },
  {
   "metadata": {
    "ExecuteTime": {
     "end_time": "2024-07-14T17:42:39.449039Z",
     "start_time": "2024-07-14T17:42:39.442960Z"
    }
   },
   "cell_type": "code",
   "source": [
    "# Logical Operators in Python\n",
    "# AND, OR, NOT\n",
    "X = True\n",
    "Y = True\n",
    "result = X and Y\n",
    "print(result)"
   ],
   "id": "553539dfba3c7381",
   "outputs": [
    {
     "name": "stdout",
     "output_type": "stream",
     "text": [
      "True\n"
     ]
    }
   ],
   "execution_count": 21
  },
  {
   "metadata": {
    "ExecuteTime": {
     "end_time": "2024-07-14T17:43:40.446753Z",
     "start_time": "2024-07-14T17:43:40.440665Z"
    }
   },
   "cell_type": "code",
   "source": [
    "X = True\n",
    "Y = False\n",
    "result = X and Y\n",
    "print(result)"
   ],
   "id": "20a06a2a274ed2a8",
   "outputs": [
    {
     "name": "stdout",
     "output_type": "stream",
     "text": [
      "False\n"
     ]
    }
   ],
   "execution_count": 22
  },
  {
   "metadata": {
    "ExecuteTime": {
     "end_time": "2024-07-14T17:45:08.196397Z",
     "start_time": "2024-07-14T17:45:08.189719Z"
    }
   },
   "cell_type": "code",
   "source": [
    "# OR Operator   \n",
    "X = True\n",
    "Y = False\n",
    "result = X or Y\n",
    "print(result)\n",
    "X = False\n",
    "Y = False\n",
    "result = X or Y\n",
    "print(result)\n",
    "X = True\n",
    "Y = True\n",
    "result = X or Y\n",
    "print(result)"
   ],
   "id": "933382203e638c6c",
   "outputs": [
    {
     "name": "stdout",
     "output_type": "stream",
     "text": [
      "True\n",
      "False\n",
      "True\n"
     ]
    }
   ],
   "execution_count": 24
  },
  {
   "metadata": {
    "ExecuteTime": {
     "end_time": "2024-07-14T17:46:12.740902Z",
     "start_time": "2024-07-14T17:46:12.734140Z"
    }
   },
   "cell_type": "code",
   "source": [
    "# NOT Operator\n",
    "X = True\n",
    "result = not X\n",
    "print(result)"
   ],
   "id": "547154d5ce311885",
   "outputs": [
    {
     "name": "stdout",
     "output_type": "stream",
     "text": [
      "False\n"
     ]
    }
   ],
   "execution_count": 25
  },
  {
   "metadata": {},
   "cell_type": "code",
   "outputs": [],
   "execution_count": null,
   "source": "",
   "id": "aa9157b25cf7925e"
  }
 ],
 "metadata": {
  "kernelspec": {
   "display_name": "Python 3",
   "language": "python",
   "name": "python3"
  },
  "language_info": {
   "codemirror_mode": {
    "name": "ipython",
    "version": 2
   },
   "file_extension": ".py",
   "mimetype": "text/x-python",
   "name": "python",
   "nbconvert_exporter": "python",
   "pygments_lexer": "ipython2",
   "version": "2.7.6"
  }
 },
 "nbformat": 4,
 "nbformat_minor": 5
}

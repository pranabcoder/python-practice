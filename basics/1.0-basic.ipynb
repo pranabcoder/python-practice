{
 "cells": [
  {
   "cell_type": "code",
   "id": "initial_id",
   "metadata": {
    "collapsed": true,
    "ExecuteTime": {
     "end_time": "2024-07-02T16:50:16.252854Z",
     "start_time": "2024-07-02T16:50:16.244058Z"
    }
   },
   "source": [
    "## Basic Syntax Rules In Python\n",
    "## Case sensitivity - Python is case-sensitive\n",
    "name = \"John\"\n",
    "Name = \"Doe\"\n",
    "print(name)\n",
    "print(Name)"
   ],
   "outputs": [
    {
     "name": "stdout",
     "output_type": "stream",
     "text": [
      "John\n",
      "Doe\n"
     ]
    }
   ],
   "execution_count": 1
  },
  {
   "metadata": {
    "ExecuteTime": {
     "end_time": "2024-07-02T17:45:45.584214Z",
     "start_time": "2024-07-02T17:45:45.565537Z"
    }
   },
   "cell_type": "code",
   "source": [
    "## Indentation - \n",
    "## Python uses indentation to define code blocks. Consistent use of spaces or tabs is required.\n",
    "age = 32\n",
    "if age > 30:\n",
    "    print(age)\n",
    "print(age)  "
   ],
   "id": "81538aa3c30c39f3",
   "outputs": [
    {
     "name": "stdout",
     "output_type": "stream",
     "text": [
      "32\n",
      "32\n"
     ]
    }
   ],
   "execution_count": 3
  },
  {
   "metadata": {
    "ExecuteTime": {
     "end_time": "2024-07-02T17:48:51.680397Z",
     "start_time": "2024-07-02T17:48:51.663848Z"
    }
   },
   "cell_type": "code",
   "source": [
    "## Line continuation -\n",
    "## Use the backslash character (\\) to continue a statement on the next line.\n",
    "total = 1 + 2 + 3 + \\\n",
    "        4 + 5 + 6 + \\\n",
    "        7 + 8 + 9\n",
    "print(total)"
   ],
   "id": "67297eaee5252986",
   "outputs": [
    {
     "name": "stdout",
     "output_type": "stream",
     "text": [
      "45\n"
     ]
    }
   ],
   "execution_count": 4
  },
  {
   "metadata": {
    "ExecuteTime": {
     "end_time": "2024-07-02T17:57:53.275791Z",
     "start_time": "2024-07-02T17:57:53.270386Z"
    }
   },
   "cell_type": "code",
   "source": [
    "## Multiple statements on a single line -\n",
    "x = 1; y = 2; z = x + y\n",
    "print(z)"
   ],
   "id": "6e5f085c9ee5c148",
   "outputs": [
    {
     "name": "stdout",
     "output_type": "stream",
     "text": [
      "3\n"
     ]
    }
   ],
   "execution_count": 5
  },
  {
   "metadata": {
    "ExecuteTime": {
     "end_time": "2024-07-02T18:01:57.714670Z",
     "start_time": "2024-07-02T18:01:57.697234Z"
    }
   },
   "cell_type": "code",
   "source": [
    "## Understand Semantics In Python\n",
    "## Variable assignment -\n",
    "age = 32 ## age is an integer\n",
    "name = \"John\" ## name is a string\n",
    "\n",
    "## Type Inference - Python is a dynamically typed language\n",
    "type(age)\n"
   ],
   "id": "d863031eb9312f40",
   "outputs": [
    {
     "data": {
      "text/plain": [
       "int"
      ]
     },
     "execution_count": 10,
     "metadata": {},
     "output_type": "execute_result"
    }
   ],
   "execution_count": 10
  },
  {
   "metadata": {
    "ExecuteTime": {
     "end_time": "2024-07-02T18:02:00.086610Z",
     "start_time": "2024-07-02T18:02:00.080070Z"
    }
   },
   "cell_type": "code",
   "source": "type(name)",
   "id": "813e8ae1f9da4f11",
   "outputs": [
    {
     "data": {
      "text/plain": [
       "str"
      ]
     },
     "execution_count": 11,
     "metadata": {},
     "output_type": "execute_result"
    }
   ],
   "execution_count": 11
  },
  {
   "metadata": {
    "ExecuteTime": {
     "end_time": "2024-07-02T18:03:56.501762Z",
     "start_time": "2024-07-02T18:03:56.496477Z"
    }
   },
   "cell_type": "code",
   "source": [
    "## Type Inference - another example\n",
    "variable = 10\n",
    "print(type(variable))\n",
    "variable = \"Hello\"\n",
    "print(type(variable))"
   ],
   "id": "deb67f4b192bfc27",
   "outputs": [
    {
     "name": "stdout",
     "output_type": "stream",
     "text": [
      "<class 'int'>\n",
      "<class 'str'>\n"
     ]
    }
   ],
   "execution_count": 12
  },
  {
   "metadata": {
    "ExecuteTime": {
     "end_time": "2024-07-02T18:09:24.933364Z",
     "start_time": "2024-07-02T18:09:24.917682Z"
    }
   },
   "cell_type": "code",
   "source": [
    "## Code examples of indentation\n",
    "if True:\n",
    "    print(\"Correct Indentation\")\n",
    "    if False:\n",
    "        print(\"This ont print\")\n",
    "    print(\"This will print\")\n",
    "print(\"Outside the if block\")    \n",
    "    \n",
    "    "
   ],
   "id": "c69c1758a4d551ca",
   "outputs": [
    {
     "name": "stdout",
     "output_type": "stream",
     "text": [
      "Correct Indentation\n",
      "This will print\n",
      "Outside the if block\n"
     ]
    }
   ],
   "execution_count": 13
  },
  {
   "metadata": {
    "ExecuteTime": {
     "end_time": "2024-07-07T15:38:20.055222Z",
     "start_time": "2024-07-07T15:38:20.049318Z"
    }
   },
   "cell_type": "code",
   "source": [
    "# Example of variable assignment\n",
    "a = 100\n",
    "print(a)"
   ],
   "id": "6862e899037f245",
   "outputs": [
    {
     "name": "stdout",
     "output_type": "stream",
     "text": [
      "100\n"
     ]
    }
   ],
   "execution_count": 2
  },
  {
   "metadata": {
    "ExecuteTime": {
     "end_time": "2024-07-07T17:19:51.013807Z",
     "start_time": "2024-07-07T17:19:50.987168Z"
    }
   },
   "cell_type": "code",
   "source": [
    "# Declaring and assigning multiple variables\n",
    "age = 32\n",
    "height = 6.1\n",
    "name = \"John\"\n",
    "is_student = True\n",
    "\n",
    "# Printing the variables\n",
    "print(\"age : \", age)\n",
    "print(\"height : \", height)\n",
    "print(\"name : \", name)"
   ],
   "id": "27695ea5cb037df3",
   "outputs": [
    {
     "name": "stdout",
     "output_type": "stream",
     "text": [
      "age :  32\n",
      "height :  6.1\n",
      "name :  John\n"
     ]
    }
   ],
   "execution_count": 3
  },
  {
   "metadata": {
    "ExecuteTime": {
     "end_time": "2024-07-07T17:23:29.978900Z",
     "start_time": "2024-07-07T17:23:29.974341Z"
    }
   },
   "cell_type": "code",
   "source": [
    "# Naming conventions\n",
    "# Variable names should be descriptive and meaningful\n",
    "# They must start with a letter or an underscore '_' and can contain letters, digits and underscores\n",
    "# They are case-sensitive\n",
    "\n",
    "# Correct variable names\n",
    "first_name = \"John\"\n",
    "last_name = \"Doe\""
   ],
   "id": "dba187c824076ca6",
   "outputs": [],
   "execution_count": 4
  },
  {
   "metadata": {
    "ExecuteTime": {
     "end_time": "2024-07-07T17:24:12.610595Z",
     "start_time": "2024-07-07T17:24:12.600032Z"
    }
   },
   "cell_type": "code",
   "source": [
    "# Incorrect variable names\n",
    "1st_name = \"John\"\n",
    "first-name = \"John\""
   ],
   "id": "7c8a6b431258d04d",
   "outputs": [
    {
     "ename": "SyntaxError",
     "evalue": "invalid decimal literal (2068677144.py, line 2)",
     "output_type": "error",
     "traceback": [
      "\u001B[1;36m  Cell \u001B[1;32mIn[5], line 2\u001B[1;36m\u001B[0m\n\u001B[1;33m    1st_name = \"John\"\u001B[0m\n\u001B[1;37m    ^\u001B[0m\n\u001B[1;31mSyntaxError\u001B[0m\u001B[1;31m:\u001B[0m invalid decimal literal\n"
     ]
    }
   ],
   "execution_count": 5
  },
  {
   "metadata": {
    "ExecuteTime": {
     "end_time": "2024-07-07T17:30:59.785915Z",
     "start_time": "2024-07-07T17:30:59.775901Z"
    }
   },
   "cell_type": "code",
   "source": [
    "# Understanding variable types\n",
    "# Python is a dynamically typed language and the type of variable is determined at runtime\n",
    "age = 32 # age is an integer\n",
    "height = 6.1 # height is a float\n",
    "name = \"John\" # name is a string\n",
    "is_student = True # is_student is a boolean\n",
    "print(type(age))\n",
    "print(type(height))\n",
    "print(type(name))\n",
    "print(type(is_student))"
   ],
   "id": "16bbf2a72fb77338",
   "outputs": [
    {
     "name": "stdout",
     "output_type": "stream",
     "text": [
      "<class 'int'>\n",
      "<class 'float'>\n",
      "<class 'str'>\n",
      "<class 'bool'>\n"
     ]
    }
   ],
   "execution_count": 8
  },
  {
   "metadata": {},
   "cell_type": "code",
   "outputs": [],
   "execution_count": null,
   "source": "",
   "id": "e94f305e193740a3"
  }
 ],
 "metadata": {
  "kernelspec": {
   "display_name": "Python 3",
   "language": "python",
   "name": "python3"
  },
  "language_info": {
   "codemirror_mode": {
    "name": "ipython",
    "version": 2
   },
   "file_extension": ".py",
   "mimetype": "text/x-python",
   "name": "python",
   "nbconvert_exporter": "python",
   "pygments_lexer": "ipython2",
   "version": "2.7.6"
  }
 },
 "nbformat": 4,
 "nbformat_minor": 5
}

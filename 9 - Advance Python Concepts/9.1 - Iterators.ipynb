{
 "cells": [
  {
   "cell_type": "code",
   "id": "initial_id",
   "metadata": {
    "collapsed": true,
    "ExecuteTime": {
     "end_time": "2024-07-28T15:12:57.723476Z",
     "start_time": "2024-07-28T15:12:57.717428Z"
    }
   },
   "source": [
    "my_list=[1,2,3,4,5,6]\n",
    "for i in my_list:\n",
    "    print(i)"
   ],
   "outputs": [
    {
     "name": "stdout",
     "output_type": "stream",
     "text": [
      "1\n",
      "2\n",
      "3\n",
      "4\n",
      "5\n",
      "6\n"
     ]
    }
   ],
   "execution_count": 1
  },
  {
   "metadata": {
    "ExecuteTime": {
     "end_time": "2024-07-28T15:16:26.958604Z",
     "start_time": "2024-07-28T15:16:26.949602Z"
    }
   },
   "cell_type": "code",
   "source": "type(my_list)",
   "id": "408b1395209def54",
   "outputs": [
    {
     "data": {
      "text/plain": [
       "list"
      ]
     },
     "execution_count": 2,
     "metadata": {},
     "output_type": "execute_result"
    }
   ],
   "execution_count": 2
  },
  {
   "metadata": {
    "ExecuteTime": {
     "end_time": "2024-07-28T15:18:14.515721Z",
     "start_time": "2024-07-28T15:18:14.510695Z"
    }
   },
   "cell_type": "code",
   "source": [
    "# Iterator\n",
    "my_iter=iter(my_list)"
   ],
   "id": "8665c7492e4af15",
   "outputs": [],
   "execution_count": 3
  },
  {
   "metadata": {
    "ExecuteTime": {
     "end_time": "2024-07-28T15:18:16.609523Z",
     "start_time": "2024-07-28T15:18:16.604858Z"
    }
   },
   "cell_type": "code",
   "source": "type(my_iter)",
   "id": "688dc9d91a8fbe16",
   "outputs": [
    {
     "data": {
      "text/plain": [
       "list_iterator"
      ]
     },
     "execution_count": 4,
     "metadata": {},
     "output_type": "execute_result"
    }
   ],
   "execution_count": 4
  },
  {
   "metadata": {
    "ExecuteTime": {
     "end_time": "2024-07-28T15:19:02.111944Z",
     "start_time": "2024-07-28T15:19:02.106557Z"
    }
   },
   "cell_type": "code",
   "source": [
    "my_list = [1,2,3,4,5,6]\n",
    "iterator = iter(my_list)\n",
    "print(type(iterator))"
   ],
   "id": "7a6269b3fcd508eb",
   "outputs": [
    {
     "name": "stdout",
     "output_type": "stream",
     "text": [
      "<class 'list_iterator'>\n"
     ]
    }
   ],
   "execution_count": 5
  },
  {
   "metadata": {
    "ExecuteTime": {
     "end_time": "2024-07-28T15:20:26.057686Z",
     "start_time": "2024-07-28T15:20:26.051076Z"
    }
   },
   "cell_type": "code",
   "source": [
    "# Iterating through all the elements\n",
    "next(iterator)"
   ],
   "id": "60b27c715110d99f",
   "outputs": [
    {
     "data": {
      "text/plain": [
       "1"
      ]
     },
     "execution_count": 6,
     "metadata": {},
     "output_type": "execute_result"
    }
   ],
   "execution_count": 6
  },
  {
   "metadata": {
    "ExecuteTime": {
     "end_time": "2024-07-28T15:20:56.707146Z",
     "start_time": "2024-07-28T15:20:56.702628Z"
    }
   },
   "cell_type": "code",
   "source": "next(iterator)",
   "id": "2ab7ccfd42cbff33",
   "outputs": [
    {
     "data": {
      "text/plain": [
       "2"
      ]
     },
     "execution_count": 8,
     "metadata": {},
     "output_type": "execute_result"
    }
   ],
   "execution_count": 8
  },
  {
   "metadata": {
    "ExecuteTime": {
     "end_time": "2024-07-28T15:22:17.690178Z",
     "start_time": "2024-07-28T15:22:17.685690Z"
    }
   },
   "cell_type": "code",
   "source": [
    "# Handling the StopIteration exception\n",
    "try:\n",
    "    while True:\n",
    "        print(next(iterator))\n",
    "except StopIteration:\n",
    "    print(\"End of the list\")"
   ],
   "id": "c12902da6a7c232a",
   "outputs": [
    {
     "name": "stdout",
     "output_type": "stream",
     "text": [
      "3\n",
      "4\n",
      "5\n",
      "6\n",
      "End of the list\n"
     ]
    }
   ],
   "execution_count": 9
  },
  {
   "metadata": {
    "ExecuteTime": {
     "end_time": "2024-07-28T15:23:46.819248Z",
     "start_time": "2024-07-28T15:23:46.815011Z"
    }
   },
   "cell_type": "code",
   "source": [
    "# String iterator\n",
    "my_string = \"Hello\"\n",
    "string_iter = iter(my_string)\n",
    "try:\n",
    "    while True:\n",
    "        print(next(string_iter))\n",
    "except StopIteration:\n",
    "    print(\"End of the string\")        "
   ],
   "id": "4e252a28d1f75423",
   "outputs": [
    {
     "name": "stdout",
     "output_type": "stream",
     "text": [
      "H\n",
      "e\n",
      "l\n",
      "l\n",
      "o\n",
      "End of the string\n"
     ]
    }
   ],
   "execution_count": 10
  },
  {
   "metadata": {},
   "cell_type": "code",
   "outputs": [],
   "execution_count": null,
   "source": "",
   "id": "e6f5a5e986db1392"
  }
 ],
 "metadata": {
  "kernelspec": {
   "display_name": "Python 3",
   "language": "python",
   "name": "python3"
  },
  "language_info": {
   "codemirror_mode": {
    "name": "ipython",
    "version": 2
   },
   "file_extension": ".py",
   "mimetype": "text/x-python",
   "name": "python",
   "nbconvert_exporter": "python",
   "pygments_lexer": "ipython2",
   "version": "2.7.6"
  }
 },
 "nbformat": 4,
 "nbformat_minor": 5
}

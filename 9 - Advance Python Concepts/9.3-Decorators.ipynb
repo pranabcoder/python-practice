{
 "cells": [
  {
   "cell_type": "code",
   "id": "initial_id",
   "metadata": {
    "collapsed": true,
    "ExecuteTime": {
     "end_time": "2024-07-28T15:41:52.699152Z",
     "start_time": "2024-07-28T15:41:52.695330Z"
    }
   },
   "source": [
    "### function copy\n",
    "### closures\n",
    "### decorators"
   ],
   "outputs": [],
   "execution_count": 1
  },
  {
   "metadata": {
    "ExecuteTime": {
     "end_time": "2024-07-28T15:42:58.837714Z",
     "start_time": "2024-07-28T15:42:58.828662Z"
    }
   },
   "cell_type": "code",
   "source": [
    "## function copy\n",
    "def welcome():\n",
    "    return \"Welcome to the advanced python course\"\n",
    "\n",
    "welcome()"
   ],
   "id": "daf5489bbea6cb32",
   "outputs": [
    {
     "data": {
      "text/plain": [
       "'Welcome to the advanced python course'"
      ]
     },
     "execution_count": 2,
     "metadata": {},
     "output_type": "execute_result"
    }
   ],
   "execution_count": 2
  },
  {
   "metadata": {
    "ExecuteTime": {
     "end_time": "2024-07-28T15:44:05.055242Z",
     "start_time": "2024-07-28T15:44:05.050227Z"
    }
   },
   "cell_type": "code",
   "source": [
    "wel=welcome # function copy\n",
    "print(wel())\n",
    "del welcome # delete the original function\n",
    "print(wel())"
   ],
   "id": "e72253fd762b6680",
   "outputs": [
    {
     "name": "stdout",
     "output_type": "stream",
     "text": [
      "Welcome to the advanced python course\n",
      "Welcome to the advanced python course\n"
     ]
    }
   ],
   "execution_count": 3
  },
  {
   "metadata": {
    "ExecuteTime": {
     "end_time": "2024-07-28T15:47:09.753671Z",
     "start_time": "2024-07-28T15:47:09.749879Z"
    }
   },
   "cell_type": "code",
   "source": [
    "##closures functions - function inside a function\n",
    "\n",
    "def main_welcome(msg):\n",
    "    def sub_welcome_method():\n",
    "        print(\"Welcome to the advance python course\")\n",
    "        print(msg)\n",
    "        print(\"Please learn these concepts properly\")\n",
    "    return sub_welcome_method()"
   ],
   "id": "d262b15de43fa129",
   "outputs": [],
   "execution_count": 4
  },
  {
   "metadata": {
    "ExecuteTime": {
     "end_time": "2024-07-28T15:47:15.387275Z",
     "start_time": "2024-07-28T15:47:15.383174Z"
    }
   },
   "cell_type": "code",
   "source": "main_welcome(\"Welcome everyone\")",
   "id": "56e328b34734019",
   "outputs": [
    {
     "name": "stdout",
     "output_type": "stream",
     "text": [
      "Welcome to the advance python course\n",
      "Welcome everyone\n",
      "Please learn these concepts properly\n"
     ]
    }
   ],
   "execution_count": 5
  },
  {
   "metadata": {
    "ExecuteTime": {
     "end_time": "2024-07-28T15:49:33.077587Z",
     "start_time": "2024-07-28T15:49:33.071064Z"
    }
   },
   "cell_type": "code",
   "source": [
    "# Closure function\n",
    "def main_welcome():\n",
    "    msg=\"Welcome everyone\"\n",
    "    def sub_welcome_method():\n",
    "        print(\"Welcome to the advance python course\")\n",
    "        print(msg)\n",
    "        print(\"Please learn these concepts properly\")\n",
    "    return sub_welcome_method()"
   ],
   "id": "48ed49da37aae5b2",
   "outputs": [],
   "execution_count": 11
  },
  {
   "metadata": {
    "ExecuteTime": {
     "end_time": "2024-07-28T15:49:34.726039Z",
     "start_time": "2024-07-28T15:49:34.720970Z"
    }
   },
   "cell_type": "code",
   "source": "main_welcome()",
   "id": "937264a6b380f343",
   "outputs": [
    {
     "name": "stdout",
     "output_type": "stream",
     "text": [
      "Welcome to the advance python course\n",
      "Welcome everyone\n",
      "Please learn these concepts properly\n"
     ]
    }
   ],
   "execution_count": 12
  },
  {
   "metadata": {
    "ExecuteTime": {
     "end_time": "2024-07-28T15:50:28.924850Z",
     "start_time": "2024-07-28T15:50:28.920191Z"
    }
   },
   "cell_type": "code",
   "source": [
    "##closures functions\n",
    "\n",
    "def main_welcome(msg):\n",
    "    def sub_welcome_method():\n",
    "        print(\"Welcome to the advance python course\")\n",
    "        print(msg)\n",
    "        print(\"Please learn these concepts properly\")\n",
    "    return sub_welcome_method()"
   ],
   "id": "5aa0695826299066",
   "outputs": [],
   "execution_count": 13
  },
  {
   "metadata": {
    "ExecuteTime": {
     "end_time": "2024-07-28T15:50:37.420295Z",
     "start_time": "2024-07-28T15:50:37.416019Z"
    }
   },
   "cell_type": "code",
   "source": "main_welcome(\"Welcome everyone\")",
   "id": "376ae4a6c014b90d",
   "outputs": [
    {
     "name": "stdout",
     "output_type": "stream",
     "text": [
      "Welcome to the advance python course\n",
      "Welcome everyone\n",
      "Please learn these concepts properly\n"
     ]
    }
   ],
   "execution_count": 14
  },
  {
   "metadata": {
    "ExecuteTime": {
     "end_time": "2024-07-28T15:52:21.917832Z",
     "start_time": "2024-07-28T15:52:21.913509Z"
    }
   },
   "cell_type": "code",
   "source": [
    "# Closure function\n",
    "def main_welcome(func):\n",
    "   \n",
    "    def sub_welcome_method():\n",
    "        print(\"Welcome to the advance python course\")\n",
    "        func(\"Welcome everyone to this tutorial\")\n",
    "        print(\"Please learn these concepts properly\")\n",
    "    return sub_welcome_method()"
   ],
   "id": "9c07f630a88c85e8",
   "outputs": [],
   "execution_count": 15
  },
  {
   "metadata": {
    "ExecuteTime": {
     "end_time": "2024-07-28T15:52:28.320302Z",
     "start_time": "2024-07-28T15:52:28.315986Z"
    }
   },
   "cell_type": "code",
   "source": "main_welcome(print)",
   "id": "ecb290a50884ca3b",
   "outputs": [
    {
     "name": "stdout",
     "output_type": "stream",
     "text": [
      "Welcome to the advance python course\n",
      "Welcome everyone to this tutorial\n",
      "Please learn these concepts properly\n"
     ]
    }
   ],
   "execution_count": 16
  },
  {
   "metadata": {
    "ExecuteTime": {
     "end_time": "2024-07-28T17:21:25.485550Z",
     "start_time": "2024-07-28T17:21:25.481551Z"
    }
   },
   "cell_type": "code",
   "source": [
    "# Closure function\n",
    "def main_welcome(func,lst):\n",
    "   \n",
    "    def sub_welcome_method():\n",
    "        print(\"Welcome to the advance python course\")\n",
    "        print(func(lst))\n",
    "        print(\"Please learn these concepts properly\")\n",
    "    return sub_welcome_method()"
   ],
   "id": "97d300f3f5f61cb",
   "outputs": [],
   "execution_count": 17
  },
  {
   "metadata": {
    "ExecuteTime": {
     "end_time": "2024-07-28T17:21:28.331832Z",
     "start_time": "2024-07-28T17:21:28.325402Z"
    }
   },
   "cell_type": "code",
   "source": "main_welcome(len,[1,2,3,4,5])",
   "id": "70c74e8a9bf4f0a2",
   "outputs": [
    {
     "name": "stdout",
     "output_type": "stream",
     "text": [
      "Welcome to the advance python course\n",
      "5\n",
      "Please learn these concepts properly\n"
     ]
    }
   ],
   "execution_count": 18
  },
  {
   "metadata": {
    "ExecuteTime": {
     "end_time": "2024-07-28T17:35:24.916986Z",
     "start_time": "2024-07-28T17:35:24.912195Z"
    }
   },
   "cell_type": "code",
   "source": [
    "# Decorators\n",
    "def main_welcome(func):\n",
    "    def sub_welcome_method():\n",
    "        print(\"Welcome to the advance python course\")\n",
    "        func()\n",
    "        print(\"Please learn these concepts properly\")\n",
    "    return sub_welcome_method()"
   ],
   "id": "325c5cc300e2af35",
   "outputs": [],
   "execution_count": 19
  },
  {
   "metadata": {
    "ExecuteTime": {
     "end_time": "2024-07-28T17:35:58.003487Z",
     "start_time": "2024-07-28T17:35:57.998427Z"
    }
   },
   "cell_type": "code",
   "source": [
    "def course_content():\n",
    "    print(\"This course is about decorators\")\n",
    "\n",
    "course_content()    "
   ],
   "id": "ef87b7b2bc18ba62",
   "outputs": [
    {
     "name": "stdout",
     "output_type": "stream",
     "text": [
      "This course is about decorators\n"
     ]
    }
   ],
   "execution_count": 22
  },
  {
   "metadata": {
    "ExecuteTime": {
     "end_time": "2024-07-28T17:35:37.714717Z",
     "start_time": "2024-07-28T17:35:37.710193Z"
    }
   },
   "cell_type": "code",
   "source": "main_welcome(course_content)",
   "id": "375b814963764335",
   "outputs": [
    {
     "name": "stdout",
     "output_type": "stream",
     "text": [
      "Welcome to the advance python course\n",
      "This course is about decorators\n",
      "Please learn these concepts properly\n"
     ]
    }
   ],
   "execution_count": 21
  },
  {
   "metadata": {
    "ExecuteTime": {
     "end_time": "2024-07-28T17:37:24.392882Z",
     "start_time": "2024-07-28T17:37:24.387603Z"
    }
   },
   "cell_type": "code",
   "source": [
    "# Decorators\n",
    "def main_welcome(func):\n",
    "    def sub_welcome_method():\n",
    "        print(\"Welcome to the advance python course\")\n",
    "        func()\n",
    "        print(\"Please learn these concepts properly\")\n",
    "    return sub_welcome_method()"
   ],
   "id": "e6270b7ddbc596c5",
   "outputs": [],
   "execution_count": 23
  },
  {
   "metadata": {
    "ExecuteTime": {
     "end_time": "2024-07-28T17:37:45.274257Z",
     "start_time": "2024-07-28T17:37:45.269279Z"
    }
   },
   "cell_type": "code",
   "source": [
    "@main_welcome\n",
    "def course_content():\n",
    "    print(\"This course is about decorators\")"
   ],
   "id": "5538463b34a90958",
   "outputs": [
    {
     "name": "stdout",
     "output_type": "stream",
     "text": [
      "Welcome to the advance python course\n",
      "This course is about decorators\n",
      "Please learn these concepts properly\n"
     ]
    }
   ],
   "execution_count": 24
  },
  {
   "metadata": {
    "ExecuteTime": {
     "end_time": "2024-07-28T17:45:29.871192Z",
     "start_time": "2024-07-28T17:45:29.866067Z"
    }
   },
   "cell_type": "code",
   "source": [
    "## Decorator\n",
    "def my_decorator(func):\n",
    "    def wrapper():\n",
    "        print(\"Something is happening before the function is called.\")\n",
    "        func()\n",
    "        print(\"Something is happening after the function is called.\")\n",
    "    return wrapper"
   ],
   "id": "ba4ba53d3738b3fa",
   "outputs": [],
   "execution_count": 25
  },
  {
   "metadata": {
    "ExecuteTime": {
     "end_time": "2024-07-28T17:45:33.413351Z",
     "start_time": "2024-07-28T17:45:33.409843Z"
    }
   },
   "cell_type": "code",
   "source": [
    "@my_decorator\n",
    "def say_hello():\n",
    "    print(\"Hello!\")"
   ],
   "id": "25f6a5459646443",
   "outputs": [],
   "execution_count": 26
  },
  {
   "metadata": {
    "ExecuteTime": {
     "end_time": "2024-07-28T17:45:36.239138Z",
     "start_time": "2024-07-28T17:45:36.234540Z"
    }
   },
   "cell_type": "code",
   "source": "say_hello()",
   "id": "22cb51dd49270f6",
   "outputs": [
    {
     "name": "stdout",
     "output_type": "stream",
     "text": [
      "Something is happening before the function is called.\n",
      "Hello!\n",
      "Something is happening after the function is called.\n"
     ]
    }
   ],
   "execution_count": 27
  },
  {
   "metadata": {
    "ExecuteTime": {
     "end_time": "2024-07-28T17:46:52.368478Z",
     "start_time": "2024-07-28T17:46:52.362591Z"
    }
   },
   "cell_type": "code",
   "source": [
    "## Decorators WWith arguments\n",
    "def repeat(n):\n",
    "    def decorator(func):\n",
    "        def wrapper(*args, **kwargs):\n",
    "            for _ in range(n):\n",
    "                func(*args, **kwargs)\n",
    "        return wrapper\n",
    "    return decorator"
   ],
   "id": "53e76135fef8add7",
   "outputs": [],
   "execution_count": 28
  },
  {
   "metadata": {
    "ExecuteTime": {
     "end_time": "2024-07-28T17:46:57.614470Z",
     "start_time": "2024-07-28T17:46:57.610059Z"
    }
   },
   "cell_type": "code",
   "source": [
    "@repeat(3)\n",
    "def say_hello():\n",
    "    print(\"Hello\")"
   ],
   "id": "32dd71972cb9fb81",
   "outputs": [],
   "execution_count": 29
  },
  {
   "metadata": {
    "ExecuteTime": {
     "end_time": "2024-07-28T17:47:00.554384Z",
     "start_time": "2024-07-28T17:47:00.549355Z"
    }
   },
   "cell_type": "code",
   "source": "say_hello()",
   "id": "1b34d1e988708597",
   "outputs": [
    {
     "name": "stdout",
     "output_type": "stream",
     "text": [
      "Hello\n",
      "Hello\n",
      "Hello\n"
     ]
    }
   ],
   "execution_count": 30
  },
  {
   "metadata": {},
   "cell_type": "code",
   "outputs": [],
   "execution_count": null,
   "source": "",
   "id": "3d7052c779356510"
  }
 ],
 "metadata": {
  "kernelspec": {
   "display_name": "Python 3",
   "language": "python",
   "name": "python3"
  },
  "language_info": {
   "codemirror_mode": {
    "name": "ipython",
    "version": 2
   },
   "file_extension": ".py",
   "mimetype": "text/x-python",
   "name": "python",
   "nbconvert_exporter": "python",
   "pygments_lexer": "ipython2",
   "version": "2.7.6"
  }
 },
 "nbformat": 4,
 "nbformat_minor": 5
}

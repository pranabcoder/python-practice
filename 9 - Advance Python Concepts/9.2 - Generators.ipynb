{
 "cells": [
  {
   "cell_type": "code",
   "id": "initial_id",
   "metadata": {
    "collapsed": true,
    "ExecuteTime": {
     "end_time": "2024-07-28T15:31:15.288960Z",
     "start_time": "2024-07-28T15:31:15.283907Z"
    }
   },
   "source": [
    "def square(n):\n",
    "    for i in range(n):\n",
    "        yield i**2"
   ],
   "outputs": [],
   "execution_count": 10
  },
  {
   "metadata": {
    "ExecuteTime": {
     "end_time": "2024-07-28T15:31:16.655249Z",
     "start_time": "2024-07-28T15:31:16.647787Z"
    }
   },
   "cell_type": "code",
   "source": "square(3)",
   "id": "ff04988f9e62eb61",
   "outputs": [
    {
     "data": {
      "text/plain": [
       "<generator object square at 0x000002757DFBD560>"
      ]
     },
     "execution_count": 11,
     "metadata": {},
     "output_type": "execute_result"
    }
   ],
   "execution_count": 11
  },
  {
   "metadata": {
    "ExecuteTime": {
     "end_time": "2024-07-28T15:31:18.032265Z",
     "start_time": "2024-07-28T15:31:18.028017Z"
    }
   },
   "cell_type": "code",
   "source": [
    "for i in square(3):\n",
    "    print(i)"
   ],
   "id": "1a9e062c60360bf8",
   "outputs": [
    {
     "name": "stdout",
     "output_type": "stream",
     "text": [
      "0\n",
      "1\n",
      "4\n"
     ]
    }
   ],
   "execution_count": 12
  },
  {
   "metadata": {
    "ExecuteTime": {
     "end_time": "2024-07-28T15:32:52.229974Z",
     "start_time": "2024-07-28T15:32:52.225235Z"
    }
   },
   "cell_type": "code",
   "source": [
    "def my_generator():\n",
    "    yield 1\n",
    "    yield 2\n",
    "    yield 3"
   ],
   "id": "19527c6c6112414c",
   "outputs": [],
   "execution_count": 13
  },
  {
   "metadata": {
    "ExecuteTime": {
     "end_time": "2024-07-28T15:32:59.193051Z",
     "start_time": "2024-07-28T15:32:59.188078Z"
    }
   },
   "cell_type": "code",
   "source": [
    "gen=my_generator()\n",
    "gen"
   ],
   "id": "c931308618764796",
   "outputs": [
    {
     "data": {
      "text/plain": [
       "<generator object my_generator at 0x000002757F26CBF0>"
      ]
     },
     "execution_count": 14,
     "metadata": {},
     "output_type": "execute_result"
    }
   ],
   "execution_count": 14
  },
  {
   "metadata": {
    "ExecuteTime": {
     "end_time": "2024-07-28T15:33:06.563709Z",
     "start_time": "2024-07-28T15:33:06.557506Z"
    }
   },
   "cell_type": "code",
   "source": "next(gen)",
   "id": "356123a4d8ded093",
   "outputs": [
    {
     "data": {
      "text/plain": [
       "1"
      ]
     },
     "execution_count": 15,
     "metadata": {},
     "output_type": "execute_result"
    }
   ],
   "execution_count": 15
  },
  {
   "metadata": {
    "ExecuteTime": {
     "end_time": "2024-07-28T15:33:14.954047Z",
     "start_time": "2024-07-28T15:33:14.949160Z"
    }
   },
   "cell_type": "code",
   "source": [
    "for val in gen:\n",
    "    print(val)"
   ],
   "id": "901b63418f8b1f07",
   "outputs": [
    {
     "name": "stdout",
     "output_type": "stream",
     "text": [
      "2\n",
      "3\n"
     ]
    }
   ],
   "execution_count": 16
  },
  {
   "metadata": {
    "ExecuteTime": {
     "end_time": "2024-07-28T15:37:49.941786Z",
     "start_time": "2024-07-28T15:37:49.935285Z"
    }
   },
   "cell_type": "code",
   "source": [
    "# Practical Example: Reading Large Files\n",
    "# Generators are particularly useful for reading large files because they allow you to process one line at a time without loading the entire file into memory.\n",
    "\n",
    "def read_large_file(file_path):\n",
    "    with open(file_path,'r') as file:\n",
    "        for line in file:\n",
    "            yield line"
   ],
   "id": "f16606488a6b1b98",
   "outputs": [],
   "execution_count": 21
  },
  {
   "metadata": {
    "ExecuteTime": {
     "end_time": "2024-07-28T15:37:51.188988Z",
     "start_time": "2024-07-28T15:37:51.183776Z"
    }
   },
   "cell_type": "code",
   "source": [
    "file_path='large_file.txt'\n",
    "\n",
    "for line in read_large_file(file_path):\n",
    "    print(line.strip())"
   ],
   "id": "5b10e86c751d58a5",
   "outputs": [
    {
     "name": "stdout",
     "output_type": "stream",
     "text": [
      "Smt. Droupadi Murmu was sworn in as the 15th President of India on 25 July, 2022. Previously, she was the Governor of Jharkhand from 2015 to 2021. She has devoted her life to empowering the downtrodden and the marginalised sections and deepening the democratic values.\n",
      "\n",
      "Early Life and Education\n",
      "\n",
      "Born in a Santhali tribal family on 20 June, 1958 at Uparbeda village, Mayurbhanj, Odisha, Smt. Murmuâ€™s early life was marked by hardships and struggle. On completion of primary education from the village school, she went to Bhubaneswar on her own initiative to continue her studies. She earned the degree of Bachelor of Arts from Ramadevi Womenâ€™s College, Bhubaneswar and became the first woman from her village to receive college education.\n",
      "\n",
      "Professional Career\n",
      "\n",
      "From 1979 to 1983, Smt. Murmu served as a Junior Assistant in the Irrigation and Power Department, Government of Odisha. Later, she served as an honorary teacher at Sri Aurobindo Integral Education Centre, Rairangpur, from 1994 to 1997.\n",
      "\n",
      "Public Life\n",
      "\n",
      "In 2000, Smt. Murmu was elected from the Rairangpur constituency as a Member of the Legislative Assembly of Odisha and continued to hold the post till 2009, serving two terms. During this period, she served as Minister of State (Independent Charge), Department of Commerce and Transport in the Government of Odisha from March 6, 2000 to August 6, 2002 and as Minister of State (Independent Charge), Department of Fisheries and Animal Resources Development, Government of Odisha from Augu\n"
     ]
    }
   ],
   "execution_count": 22
  },
  {
   "metadata": {},
   "cell_type": "code",
   "outputs": [],
   "execution_count": null,
   "source": "",
   "id": "3387eabb4235d8d6"
  }
 ],
 "metadata": {
  "kernelspec": {
   "display_name": "Python 3",
   "language": "python",
   "name": "python3"
  },
  "language_info": {
   "codemirror_mode": {
    "name": "ipython",
    "version": 2
   },
   "file_extension": ".py",
   "mimetype": "text/x-python",
   "name": "python",
   "nbconvert_exporter": "python",
   "pygments_lexer": "ipython2",
   "version": "2.7.6"
  }
 },
 "nbformat": 4,
 "nbformat_minor": 5
}

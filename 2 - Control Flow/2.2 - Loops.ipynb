{
 "cells": [
  {
   "cell_type": "code",
   "id": "initial_id",
   "metadata": {
    "collapsed": true,
    "ExecuteTime": {
     "end_time": "2024-07-19T17:51:48.827416Z",
     "start_time": "2024-07-19T17:51:48.817392Z"
    }
   },
   "source": [
    "# example of for loop\n",
    "for i in range(5):\n",
    "    print(i)"
   ],
   "outputs": [
    {
     "name": "stdout",
     "output_type": "stream",
     "text": [
      "0\n",
      "1\n",
      "2\n",
      "3\n",
      "4\n"
     ]
    }
   ],
   "execution_count": 1
  },
  {
   "metadata": {
    "ExecuteTime": {
     "end_time": "2024-07-19T17:54:22.418365Z",
     "start_time": "2024-07-19T17:54:22.414104Z"
    }
   },
   "cell_type": "code",
   "source": [
    "# example of for loop within different range\n",
    "for i in range(1, 6):\n",
    "    print(i)"
   ],
   "id": "67849449a35d418a",
   "outputs": [
    {
     "name": "stdout",
     "output_type": "stream",
     "text": [
      "1\n",
      "2\n",
      "3\n",
      "4\n",
      "5\n"
     ]
    }
   ],
   "execution_count": 4
  },
  {
   "metadata": {
    "ExecuteTime": {
     "end_time": "2024-07-19T18:13:19.646574Z",
     "start_time": "2024-07-19T18:13:19.642744Z"
    }
   },
   "cell_type": "code",
   "source": [
    "# example of for loop with step parameter within different range\n",
    "for i in range(1, 10, 2):\n",
    "    print(i)"
   ],
   "id": "1b05bb0610e60c86",
   "outputs": [
    {
     "name": "stdout",
     "output_type": "stream",
     "text": [
      "1\n",
      "3\n",
      "5\n",
      "7\n",
      "9\n"
     ]
    }
   ],
   "execution_count": 6
  },
  {
   "metadata": {
    "ExecuteTime": {
     "end_time": "2024-07-19T18:14:57.113455Z",
     "start_time": "2024-07-19T18:14:57.108864Z"
    }
   },
   "cell_type": "code",
   "source": [
    "for i in range(10, 1, -1):\n",
    "    print(i)"
   ],
   "id": "a35a06453d1c1018",
   "outputs": [
    {
     "name": "stdout",
     "output_type": "stream",
     "text": [
      "10\n",
      "9\n",
      "8\n",
      "7\n",
      "6\n",
      "5\n",
      "4\n",
      "3\n",
      "2\n"
     ]
    }
   ],
   "execution_count": 8
  },
  {
   "metadata": {
    "ExecuteTime": {
     "end_time": "2024-07-20T14:00:41.351139Z",
     "start_time": "2024-07-20T14:00:41.339273Z"
    }
   },
   "cell_type": "code",
   "source": [
    "# for loop with string\n",
    "str = \"Hello World\"\n",
    "for i in str:\n",
    "    print(i)"
   ],
   "id": "8564e42ebdd6278",
   "outputs": [
    {
     "name": "stdout",
     "output_type": "stream",
     "text": [
      "H\n",
      "e\n",
      "l\n",
      "l\n",
      "o\n",
      " \n",
      "W\n",
      "o\n",
      "r\n",
      "l\n",
      "d\n"
     ]
    }
   ],
   "execution_count": 1
  },
  {
   "metadata": {
    "ExecuteTime": {
     "end_time": "2024-07-20T14:04:06.160261Z",
     "start_time": "2024-07-20T14:04:06.154143Z"
    }
   },
   "cell_type": "code",
   "source": [
    "# Example of while loop\n",
    "#  is used to execute a block of code repeatedly until a given condition is satisfied.\n",
    "count = 0\n",
    "while count < 5:\n",
    "    print(count)\n",
    "    count += 1"
   ],
   "id": "4be2d89de12fd48d",
   "outputs": [
    {
     "name": "stdout",
     "output_type": "stream",
     "text": [
      "0\n",
      "1\n",
      "2\n",
      "3\n",
      "4\n"
     ]
    }
   ],
   "execution_count": 2
  },
  {
   "metadata": {
    "ExecuteTime": {
     "end_time": "2024-07-20T14:08:23.322515Z",
     "start_time": "2024-07-20T14:08:23.315347Z"
    }
   },
   "cell_type": "code",
   "source": [
    "# Loop control statements\n",
    "# break statement\n",
    "# The break statement is used to terminate the loop containing it.\n",
    "# example of a break statement\n",
    "for i in range(10):\n",
    "    if i == 5:\n",
    "        break\n",
    "    print(i)"
   ],
   "id": "31e19385bc262460",
   "outputs": [
    {
     "name": "stdout",
     "output_type": "stream",
     "text": [
      "0\n",
      "1\n",
      "2\n",
      "3\n",
      "4\n"
     ]
    }
   ],
   "execution_count": 3
  },
  {
   "metadata": {
    "ExecuteTime": {
     "end_time": "2024-07-20T14:10:46.465098Z",
     "start_time": "2024-07-20T14:10:46.457027Z"
    }
   },
   "cell_type": "code",
   "source": [
    "# continue statement\n",
    "# The continue statement is used to skip the rest of the code inside a loop for the current iteration only.\n",
    "# example of a continue statement\n",
    "for i in range(10):\n",
    "    if i % 2 == 0:\n",
    "        continue\n",
    "    print(i)"
   ],
   "id": "854b1beb2613c3c5",
   "outputs": [
    {
     "name": "stdout",
     "output_type": "stream",
     "text": [
      "1\n",
      "3\n",
      "5\n",
      "7\n",
      "9\n"
     ]
    }
   ],
   "execution_count": 5
  },
  {
   "metadata": {
    "ExecuteTime": {
     "end_time": "2024-07-20T14:13:00.450469Z",
     "start_time": "2024-07-20T14:13:00.442943Z"
    }
   },
   "cell_type": "code",
   "source": [
    "# pass statement\n",
    "# The pass statement is a null operation; nothing happens when it executes.\n",
    "# example of a pass statement\n",
    "for i in range(5):\n",
    "    if i == 3:\n",
    "        pass\n",
    "    print(i)"
   ],
   "id": "8b8bb62a1ad908d8",
   "outputs": [
    {
     "name": "stdout",
     "output_type": "stream",
     "text": [
      "0\n",
      "1\n",
      "2\n",
      "3\n",
      "4\n"
     ]
    }
   ],
   "execution_count": 8
  },
  {
   "metadata": {
    "ExecuteTime": {
     "end_time": "2024-07-20T14:16:22.874398Z",
     "start_time": "2024-07-20T14:16:22.867412Z"
    }
   },
   "cell_type": "code",
   "source": [
    "# Nested Loops\n",
    "# A nested loop is a loop inside a loop.\n",
    "for i in range(3):\n",
    "    for j in range(2):\n",
    "        print(f\"i:{i} and j:{j}\")"
   ],
   "id": "9a5c048bbc420087",
   "outputs": [
    {
     "name": "stdout",
     "output_type": "stream",
     "text": [
      "i:0 and j:0\n",
      "i:0 and j:1\n",
      "i:1 and j:0\n",
      "i:1 and j:1\n",
      "i:2 and j:0\n",
      "i:2 and j:1\n"
     ]
    }
   ],
   "execution_count": 10
  },
  {
   "metadata": {
    "ExecuteTime": {
     "end_time": "2024-07-20T14:25:02.620469Z",
     "start_time": "2024-07-20T14:25:02.615015Z"
    }
   },
   "cell_type": "code",
   "source": [
    "# Example - Calculate the sum of first n natural numbers using while loop\n",
    "n = 10\n",
    "sum_result = 0\n",
    "count = 1\n",
    "while count <= n:\n",
    "    sum_result += count\n",
    "    count += 1\n",
    "print(f\"Sum of first {n} natural numbers is {sum_result}\")"
   ],
   "id": "df47966bda0fbe18",
   "outputs": [
    {
     "name": "stdout",
     "output_type": "stream",
     "text": [
      "Sum of first 10 natural numbers is 55\n"
     ]
    }
   ],
   "execution_count": 12
  },
  {
   "metadata": {
    "ExecuteTime": {
     "end_time": "2024-07-20T14:26:51.431740Z",
     "start_time": "2024-07-20T14:26:51.424861Z"
    }
   },
   "cell_type": "code",
   "source": [
    "# Example - Calculate the sum of first n natural numbers using for loop\n",
    "n = 10\n",
    "sum_result = 0\n",
    "for i in range(1, n+1):\n",
    "    sum_result += i\n",
    "print(f\"Sum of first {n} natural numbers is {sum_result}\")    "
   ],
   "id": "fe45b4f62c5a2be7",
   "outputs": [
    {
     "name": "stdout",
     "output_type": "stream",
     "text": [
      "Sum of first 10 natural numbers is 55\n"
     ]
    }
   ],
   "execution_count": 13
  },
  {
   "metadata": {
    "ExecuteTime": {
     "end_time": "2024-07-20T14:29:15.041979Z",
     "start_time": "2024-07-20T14:29:15.034013Z"
    }
   },
   "cell_type": "code",
   "source": [
    "# Example - Prime numbers between 1 and 100\n",
    "for i in range(1, 15):\n",
    "    if i > 1:\n",
    "        for j in range(2, i):\n",
    "            if i % j == 0:\n",
    "                break\n",
    "        else:\n",
    "            print(i)"
   ],
   "id": "3050f7c0cfe840b3",
   "outputs": [
    {
     "name": "stdout",
     "output_type": "stream",
     "text": [
      "2\n",
      "3\n",
      "5\n",
      "7\n",
      "11\n",
      "13\n"
     ]
    }
   ],
   "execution_count": 15
  },
  {
   "metadata": {},
   "cell_type": "markdown",
   "source": [
    "Conclusions:\n",
    "Loops are powerful constructs in Python that allow us to execute a block of code repeatedly. We can use it for loop, while loop, and nested loops in Python. We can use loop control statements like break, continue, and pass to control the flow of the loop."
   ],
   "id": "a98f24fa0e31a6b7"
  },
  {
   "metadata": {},
   "cell_type": "markdown",
   "source": "",
   "id": "188c522e215cc98a"
  }
 ],
 "metadata": {
  "kernelspec": {
   "display_name": "Python 3",
   "language": "python",
   "name": "python3"
  },
  "language_info": {
   "codemirror_mode": {
    "name": "ipython",
    "version": 2
   },
   "file_extension": ".py",
   "mimetype": "text/x-python",
   "name": "python",
   "nbconvert_exporter": "python",
   "pygments_lexer": "ipython2",
   "version": "2.7.6"
  }
 },
 "nbformat": 4,
 "nbformat_minor": 5
}

{
 "cells": [
  {
   "cell_type": "code",
   "id": "initial_id",
   "metadata": {
    "collapsed": true,
    "ExecuteTime": {
     "end_time": "2024-07-15T17:10:57.780784Z",
     "start_time": "2024-07-15T17:10:57.771693Z"
    }
   },
   "source": [
    "# If Statement Example\n",
    "age = 19\n",
    "if age >= 18:\n",
    "    print(\"You are old enough to vote!\")"
   ],
   "outputs": [
    {
     "name": "stdout",
     "output_type": "stream",
     "text": [
      "You are old enough to vote!\n"
     ]
    }
   ],
   "execution_count": 1
  },
  {
   "metadata": {
    "ExecuteTime": {
     "end_time": "2024-07-15T17:14:40.417415Z",
     "start_time": "2024-07-15T17:14:40.411920Z"
    }
   },
   "cell_type": "code",
   "source": [
    "# Else Statement Example\n",
    "# Else statement is used to execute a block of code when the condition is false.\n",
    "age = 17\n",
    "if age >= 18:\n",
    "    print(\"You are old enough to vote!\")\n",
    "else:\n",
    "    print(\"You are not old enough to vote!\")    "
   ],
   "id": "cbf5e2693f65d5a5",
   "outputs": [
    {
     "name": "stdout",
     "output_type": "stream",
     "text": [
      "You are not old enough to vote!\n"
     ]
    }
   ],
   "execution_count": 2
  },
  {
   "metadata": {
    "ExecuteTime": {
     "end_time": "2024-07-15T17:19:03.046844Z",
     "start_time": "2024-07-15T17:19:03.041245Z"
    }
   },
   "cell_type": "code",
   "source": [
    "# Elif Statement Example\n",
    "# Elif statement is used to check multiple expressions for TRUE and execute a block of code as soon as one of the conditions is TRUE.\n",
    "\n",
    "age = 17\n",
    "if age < 13:\n",
    "    print(\"You are a child\")\n",
    "elif age < 18:\n",
    "    print(\"You are a teenager\")\n",
    "else:\n",
    "    print(\"You are an adult\")    "
   ],
   "id": "a12d93c5cf777a25",
   "outputs": [
    {
     "name": "stdout",
     "output_type": "stream",
     "text": [
      "You are a teenager\n"
     ]
    }
   ],
   "execution_count": 5
  },
  {
   "metadata": {
    "ExecuteTime": {
     "end_time": "2024-07-15T17:24:20.905919Z",
     "start_time": "2024-07-15T17:24:18.635629Z"
    }
   },
   "cell_type": "code",
   "source": [
    "# Nested Conditional Statements\n",
    "# you can place one or more conditional statements inside another conditional statement.\n",
    "# check the number is even, odd or negative\n",
    "num = int(input(\"Enter a number: \"))\n",
    "if num >= 0:\n",
    "    if num == 0:\n",
    "        print(\"Zero\")\n",
    "    elif num % 2 == 0:\n",
    "        print(\"Even\")\n",
    "    else:\n",
    "        print(\"Odd\")\n",
    "else:\n",
    "    print(\"Negative number\")        "
   ],
   "id": "ee02286e86b4e5e0",
   "outputs": [
    {
     "name": "stdout",
     "output_type": "stream",
     "text": [
      "Zero\n"
     ]
    }
   ],
   "execution_count": 9
  },
  {
   "metadata": {
    "ExecuteTime": {
     "end_time": "2024-07-15T17:49:47.059910Z",
     "start_time": "2024-07-15T17:49:43.241600Z"
    }
   },
   "cell_type": "code",
   "source": [
    "# Practical Example\n",
    "# check the year is leap year or not\n",
    "year = int(input(\"Enter a year: \"))\n",
    "if year < 0:\n",
    "    print(\"Invalid year\")\n",
    "else:\n",
    "    if year % 4 == 0:\n",
    "        if year % 100 == 0:\n",
    "            if year % 400 == 0:\n",
    "                print(f\"{year} is a leap year\")\n",
    "            else:\n",
    "                print(f\"{year} is not a leap year\")\n",
    "        else:\n",
    "            print(f\"{year} is a leap year\")      \n",
    "    else:\n",
    "        print(f\"{year} is not a leap year\")    "
   ],
   "id": "bcea4e6776c2b25b",
   "outputs": [
    {
     "name": "stdout",
     "output_type": "stream",
     "text": [
      "2022 is not a leap year\n"
     ]
    }
   ],
   "execution_count": 9
  },
  {
   "metadata": {
    "ExecuteTime": {
     "end_time": "2024-07-15T17:54:29.826905Z",
     "start_time": "2024-07-15T17:54:24.127685Z"
    }
   },
   "cell_type": "code",
   "source": [
    "# Assignment\n",
    "# Simple Calculator\n",
    "num1 = float(input(\"Enter first number: \"))\n",
    "num2 = float(input(\"Enter second number: \"))\n",
    "operator = input(\"Enter operator (+, -, *, /): \")\n",
    "if operator == \"+\":\n",
    "    print(f\"{num1} + {num2} = {num1 + num2}\")\n",
    "elif operator == \"-\":\n",
    "    print(f\"{num1} - {num2} = {num1 - num2}\")\n",
    "elif operator == \"*\":\n",
    "    print(f\"{num1} * {num2} = {num1 * num2}\")\n",
    "elif operator == \"/\":\n",
    "    if num2 == 0:\n",
    "        print(\"Division by zero is not allowed\")\n",
    "    else:\n",
    "        print(f\"{num1} / {num2} = {num1 / num2}\")\n",
    "else:\n",
    "    print(\"Invalid operator\")        "
   ],
   "id": "ceb025fcee0dbbc2",
   "outputs": [
    {
     "name": "stdout",
     "output_type": "stream",
     "text": [
      "Division by zero is not allowed\n"
     ]
    }
   ],
   "execution_count": 15
  },
  {
   "metadata": {
    "ExecuteTime": {
     "end_time": "2024-07-15T18:01:51.984649Z",
     "start_time": "2024-07-15T18:01:48.013921Z"
    }
   },
   "cell_type": "code",
   "source": [
    "# Determine the price of ticket based on age and where the person is a student or not\n",
    "age = int(input(\"Enter your age: \"))\n",
    "is_student = input(\"Are you a student (yes/no): \").lower()\n",
    "if age < 0:\n",
    "    print(\"Invalid age\")\n",
    "elif age < 5:\n",
    "    print(\"Ticket price is free\")\n",
    "elif age < 13:\n",
    "    print(\"Ticket price is $10\")\n",
    "elif age < 18:\n",
    "    if is_student == \"yes\":\n",
    "        print(\"Ticket price is $15\")\n",
    "    else:\n",
    "        print(\"Ticket price is $20\")\n",
    "elif age < 65:\n",
    "    if is_student == \"yes\":\n",
    "        print(\"Ticket price is $20\")\n",
    "    else:\n",
    "        print(\"Ticket price is $30\")\n",
    "else:\n",
    "    print(\"Ticket price is $10\")    "
   ],
   "id": "8e9fbeb3f3fd72aa",
   "outputs": [
    {
     "name": "stdout",
     "output_type": "stream",
     "text": [
      "Ticket price is free\n"
     ]
    }
   ],
   "execution_count": 22
  },
  {
   "metadata": {},
   "cell_type": "code",
   "outputs": [],
   "execution_count": null,
   "source": "",
   "id": "a3e11bb3d631bea7"
  }
 ],
 "metadata": {
  "kernelspec": {
   "display_name": "Python 3",
   "language": "python",
   "name": "python3"
  },
  "language_info": {
   "codemirror_mode": {
    "name": "ipython",
    "version": 2
   },
   "file_extension": ".py",
   "mimetype": "text/x-python",
   "name": "python",
   "nbconvert_exporter": "python",
   "pygments_lexer": "ipython2",
   "version": "2.7.6"
  }
 },
 "nbformat": 4,
 "nbformat_minor": 5
}

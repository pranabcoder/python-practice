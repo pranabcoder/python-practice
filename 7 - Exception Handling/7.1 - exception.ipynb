{
 "cells": [
  {
   "cell_type": "code",
   "id": "initial_id",
   "metadata": {
    "collapsed": true,
    "ExecuteTime": {
     "end_time": "2024-07-28T05:41:45.053684Z",
     "start_time": "2024-07-28T05:41:45.044Z"
    }
   },
   "source": [
    "# Exception try, except block\n",
    "try:\n",
    "    a = b\n",
    "except:\n",
    "    print(\"The variable is not defined\")"
   ],
   "outputs": [
    {
     "name": "stdout",
     "output_type": "stream",
     "text": [
      "The variable is not defined\n"
     ]
    }
   ],
   "execution_count": 1
  },
  {
   "metadata": {
    "ExecuteTime": {
     "end_time": "2024-07-28T05:42:54.184889Z",
     "start_time": "2024-07-28T05:42:54.180815Z"
    }
   },
   "cell_type": "code",
   "source": [
    "# Check which kind of exception is raised\n",
    "try:\n",
    "    a = b\n",
    "except Exception as e:\n",
    "    print(e)"
   ],
   "id": "bf1c23869624d2db",
   "outputs": [
    {
     "name": "stdout",
     "output_type": "stream",
     "text": [
      "name 'b' is not defined\n"
     ]
    }
   ],
   "execution_count": 2
  },
  {
   "metadata": {
    "ExecuteTime": {
     "end_time": "2024-07-28T05:43:15.411813Z",
     "start_time": "2024-07-28T05:43:15.407695Z"
    }
   },
   "cell_type": "code",
   "source": [
    "try:\n",
    "    a = b\n",
    "except NameError as e:\n",
    "    print(e)"
   ],
   "id": "d0589f5ce69535d8",
   "outputs": [
    {
     "name": "stdout",
     "output_type": "stream",
     "text": [
      "name 'b' is not defined\n"
     ]
    }
   ],
   "execution_count": 3
  },
  {
   "metadata": {
    "ExecuteTime": {
     "end_time": "2024-07-28T05:44:39.606327Z",
     "start_time": "2024-07-28T05:44:39.602144Z"
    }
   },
   "cell_type": "code",
   "source": [
    "# Example another type of exception\n",
    "try:\n",
    "    result = 1/0\n",
    "except ZeroDivisionError as e:\n",
    "    print(e)"
   ],
   "id": "5cea743e8e2b541b",
   "outputs": [
    {
     "name": "stdout",
     "output_type": "stream",
     "text": [
      "division by zero\n"
     ]
    }
   ],
   "execution_count": 4
  },
  {
   "metadata": {
    "ExecuteTime": {
     "end_time": "2024-07-28T05:47:15.383120Z",
     "start_time": "2024-07-28T05:47:14.843285Z"
    }
   },
   "cell_type": "code",
   "source": [
    "# Example another type of exception\n",
    "try:\n",
    "    result = 1/2\n",
    "    a = b\n",
    "except ZeroDivisionError as e:\n",
    "    print(e)"
   ],
   "id": "88829cf04b6c8b26",
   "outputs": [
    {
     "ename": "NameError",
     "evalue": "name 'b' is not defined",
     "output_type": "error",
     "traceback": [
      "\u001B[1;31m---------------------------------------------------------------------------\u001B[0m",
      "\u001B[1;31mNameError\u001B[0m                                 Traceback (most recent call last)",
      "Cell \u001B[1;32mIn[6], line 4\u001B[0m\n\u001B[0;32m      2\u001B[0m \u001B[38;5;28;01mtry\u001B[39;00m:\n\u001B[0;32m      3\u001B[0m     result \u001B[38;5;241m=\u001B[39m \u001B[38;5;241m1\u001B[39m\u001B[38;5;241m/\u001B[39m\u001B[38;5;241m2\u001B[39m\n\u001B[1;32m----> 4\u001B[0m     a \u001B[38;5;241m=\u001B[39m b\n\u001B[0;32m      5\u001B[0m \u001B[38;5;28;01mexcept\u001B[39;00m \u001B[38;5;167;01mZeroDivisionError\u001B[39;00m \u001B[38;5;28;01mas\u001B[39;00m e:\n\u001B[0;32m      6\u001B[0m     \u001B[38;5;28mprint\u001B[39m(e)\n",
      "\u001B[1;31mNameError\u001B[0m: name 'b' is not defined"
     ]
    }
   ],
   "execution_count": 6
  },
  {
   "metadata": {
    "ExecuteTime": {
     "end_time": "2024-07-28T05:48:14.924274Z",
     "start_time": "2024-07-28T05:48:14.917192Z"
    }
   },
   "cell_type": "code",
   "source": [
    "# Example another type of exception\n",
    "try:\n",
    "    result = 1/0\n",
    "    a = b\n",
    "except Exception as e:\n",
    "    print(e)    "
   ],
   "id": "d062591ada7c98a0",
   "outputs": [
    {
     "name": "stdout",
     "output_type": "stream",
     "text": [
      "division by zero\n"
     ]
    }
   ],
   "execution_count": 7
  },
  {
   "metadata": {
    "ExecuteTime": {
     "end_time": "2024-07-28T05:53:39.520657Z",
     "start_time": "2024-07-28T05:53:34.143706Z"
    }
   },
   "cell_type": "code",
   "source": [
    "# Example another type of exception\n",
    "try:\n",
    "    num = int(input(\"Enter a number: \"))\n",
    "    result = 10 / num\n",
    "except ValueError as e:\n",
    "    print(e)\n",
    "except ZeroDivisionError as e:\n",
    "    print(e)\n",
    "except Exception as e:\n",
    "    print(e)    "
   ],
   "id": "c8527138ed60b36a",
   "outputs": [
    {
     "name": "stdout",
     "output_type": "stream",
     "text": [
      "division by zero\n"
     ]
    }
   ],
   "execution_count": 11
  },
  {
   "metadata": {
    "ExecuteTime": {
     "end_time": "2024-07-28T05:55:54.310750Z",
     "start_time": "2024-07-28T05:55:52.393570Z"
    }
   },
   "cell_type": "code",
   "source": [
    "# example of try, except, else block\n",
    "try:\n",
    "    num = int(input(\"Enter a number: \"))\n",
    "    result = 10 / num\n",
    "except ValueError as e:\n",
    "    print(e)\n",
    "except ZeroDivisionError as e:\n",
    "    print(e)\n",
    "except Exception as e:\n",
    "    print(e)\n",
    "else:\n",
    "    print(\"Division result is: \", result)    "
   ],
   "id": "56a505808d84499f",
   "outputs": [
    {
     "name": "stdout",
     "output_type": "stream",
     "text": [
      "Division result is:  2.5\n"
     ]
    }
   ],
   "execution_count": 16
  },
  {
   "metadata": {
    "ExecuteTime": {
     "end_time": "2024-07-28T06:13:49.032389Z",
     "start_time": "2024-07-28T06:13:49.027387Z"
    }
   },
   "cell_type": "code",
   "source": [
    "# File handling and exception handling\n",
    "try:\n",
    "    file = open(\"test.txt\", \"r\")\n",
    "    content = file.read()\n",
    "    a = b\n",
    "    print(content)\n",
    "except FileNotFoundError as e:\n",
    "    print(e)\n",
    "except Exception as e:\n",
    "    print(e)\n",
    "finally:\n",
    "    if 'file' in locals() and not file.closed():\n",
    "        file.close()\n",
    "        print(\"File is closed\")"
   ],
   "id": "f4a43dab07a583cb",
   "outputs": [
    {
     "name": "stdout",
     "output_type": "stream",
     "text": [
      "[Errno 2] No such file or directory: 'test.txt'\n"
     ]
    }
   ],
   "execution_count": 20
  },
  {
   "metadata": {},
   "cell_type": "code",
   "outputs": [],
   "execution_count": null,
   "source": "",
   "id": "111e39e4466c6608"
  }
 ],
 "metadata": {
  "kernelspec": {
   "display_name": "Python 3",
   "language": "python",
   "name": "python3"
  },
  "language_info": {
   "codemirror_mode": {
    "name": "ipython",
    "version": 2
   },
   "file_extension": ".py",
   "mimetype": "text/x-python",
   "name": "python",
   "nbconvert_exporter": "python",
   "pygments_lexer": "ipython2",
   "version": "2.7.6"
  }
 },
 "nbformat": 4,
 "nbformat_minor": 5
}

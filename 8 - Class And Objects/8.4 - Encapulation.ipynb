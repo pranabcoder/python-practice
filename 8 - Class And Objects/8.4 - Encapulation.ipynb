{
 "cells": [
  {
   "cell_type": "code",
   "id": "initial_id",
   "metadata": {
    "collapsed": true,
    "ExecuteTime": {
     "end_time": "2024-07-28T10:02:51.201851Z",
     "start_time": "2024-07-28T10:02:51.195308Z"
    }
   },
   "source": [
    "# Encapsulation with getter and setter\n",
    "# Public, Protected, Private variables\n",
    "# Public: Can be accessed from anywhere\n",
    "# Protected: Can be accessed from within the class and its subclasses\n",
    "# Private: Can only be accessed from within the class\n",
    "class Person:\n",
    "    def __init__(self, name, age):\n",
    "        self.name = name # Public\n",
    "        self._age = age # Protected\n",
    "        self.__salary = 1000 # Private\n",
    "\n",
    "    def get_age(self):\n",
    "        return self._age\n",
    "\n",
    "    def set_age(self, age):\n",
    "        self._age = age\n",
    "\n",
    "    def get_salary(self):\n",
    "        return self.__salary\n",
    "\n",
    "    def set_salary(self, salary):\n",
    "        self.__salary = salary\n",
    "\n",
    "class Employee(Person):\n",
    "    def __init__(self, name, age, salary):\n",
    "        super().__init__(name, age)\n",
    "        self.__salary = salary\n",
    "\n",
    "    def get_salary(self):\n",
    "        return self.__salary\n",
    "\n",
    "    def set_salary(self, salary):\n",
    "        self.__salary = salary\n",
    "        \n",
    "# Example protected variable\n",
    "employee = Employee(\"John\", 30, 2000)\n",
    "print(employee._age)"
   ],
   "outputs": [
    {
     "name": "stdout",
     "output_type": "stream",
     "text": [
      "30\n"
     ]
    }
   ],
   "execution_count": 6
  },
  {
   "metadata": {
    "ExecuteTime": {
     "end_time": "2024-07-28T10:10:10.014124Z",
     "start_time": "2024-07-28T10:10:10.007277Z"
    }
   },
   "cell_type": "code",
   "source": [
    "# Encapsulation with getter and setter\n",
    "class Person:\n",
    "    def __init__(self, name, age):\n",
    "        self.__name = name\n",
    "        self.__age = age\n",
    "\n",
    "    def get_age(self):\n",
    "        return self.__age\n",
    "\n",
    "    def set_age(self, age):\n",
    "        self.__age = age\n",
    "    \n",
    "    def get_name(self):\n",
    "        return self.__name\n",
    "    \n",
    "    def set_name(self, name):\n",
    "        self.__name = name\n",
    "\n",
    "person = Person(\"John\", 30) \n",
    "# Access and modify private variable\n",
    "print(person.get_name())\n",
    "print(person.set_name(\"Jane\"))\n",
    "print(person.get_age())\n",
    "print(person.set_age(40))\n"
   ],
   "id": "59c5ed0298b8a174",
   "outputs": [
    {
     "name": "stdout",
     "output_type": "stream",
     "text": [
      "John\n",
      "None\n",
      "30\n",
      "None\n"
     ]
    }
   ],
   "execution_count": 10
  },
  {
   "metadata": {},
   "cell_type": "code",
   "outputs": [],
   "execution_count": null,
   "source": "",
   "id": "572b98475898f205"
  }
 ],
 "metadata": {
  "kernelspec": {
   "display_name": "Python 3",
   "language": "python",
   "name": "python3"
  },
  "language_info": {
   "codemirror_mode": {
    "name": "ipython",
    "version": 2
   },
   "file_extension": ".py",
   "mimetype": "text/x-python",
   "name": "python",
   "nbconvert_exporter": "python",
   "pygments_lexer": "ipython2",
   "version": "2.7.6"
  }
 },
 "nbformat": 4,
 "nbformat_minor": 5
}

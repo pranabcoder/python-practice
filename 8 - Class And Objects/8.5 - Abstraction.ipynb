{
 "cells": [
  {
   "cell_type": "code",
   "id": "initial_id",
   "metadata": {
    "collapsed": true,
    "ExecuteTime": {
     "end_time": "2024-07-28T14:31:07.850531Z",
     "start_time": "2024-07-28T14:31:07.843474Z"
    }
   },
   "source": [
    "from abc import ABC, abstractmethod\n",
    "# Abstract Base Class\n",
    "class Vehicle(ABC):\n",
    "    \n",
    "    def drive(self):\n",
    "        print(\"The vehicle is in motion.\")\n",
    "\n",
    "    @abstractmethod\n",
    "    def start_engine(self):\n",
    "        pass\n",
    "    \n",
    "# Child class\n",
    "class Car(Vehicle):\n",
    "    def start_engine(self):\n",
    "        print(\"The car engine is now running.\")\n",
    "\n",
    "# Child class 2\n",
    "class Truck(Vehicle):\n",
    "    def start_engine(self):\n",
    "        print(\"The truck engine is now running.\")        \n",
    "\n",
    "def operate_vehicle(vehicle):\n",
    "    vehicle.start_engine()\n",
    "    vehicle.drive()\n",
    "    \n",
    "car = Car()\n",
    "truck = Truck()\n",
    "operate_vehicle(car)\n",
    "operate_vehicle(truck)"
   ],
   "outputs": [
    {
     "name": "stdout",
     "output_type": "stream",
     "text": [
      "The car engine is now running.\n",
      "The vehicle is in motion.\n",
      "The truck engine is now running.\n",
      "The vehicle is in motion.\n"
     ]
    }
   ],
   "execution_count": 6
  },
  {
   "metadata": {},
   "cell_type": "code",
   "outputs": [],
   "execution_count": null,
   "source": "",
   "id": "ba68963e9ff50634"
  }
 ],
 "metadata": {
  "kernelspec": {
   "display_name": "Python 3",
   "language": "python",
   "name": "python3"
  },
  "language_info": {
   "codemirror_mode": {
    "name": "ipython",
    "version": 2
   },
   "file_extension": ".py",
   "mimetype": "text/x-python",
   "name": "python",
   "nbconvert_exporter": "python",
   "pygments_lexer": "ipython2",
   "version": "2.7.6"
  }
 },
 "nbformat": 4,
 "nbformat_minor": 5
}

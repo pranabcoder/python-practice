{
 "cells": [
  {
   "cell_type": "code",
   "id": "initial_id",
   "metadata": {
    "collapsed": true,
    "ExecuteTime": {
     "end_time": "2024-07-28T15:10:48.283161Z",
     "start_time": "2024-07-28T15:10:48.278105Z"
    }
   },
   "source": [
    "# Custom Exception\n",
    "class Error(Exception):\n",
    "    \"\"\"Base class for other exceptions\"\"\"\n",
    "    pass\n",
    "\n",
    "class DobException(Error):\n",
    "    \"\"\"Raised when the input value is too small\"\"\"\n",
    "    pass"
   ],
   "outputs": [],
   "execution_count": 10
  },
  {
   "metadata": {
    "ExecuteTime": {
     "end_time": "2024-07-28T15:10:56.084584Z",
     "start_time": "2024-07-28T15:10:49.900941Z"
    }
   },
   "cell_type": "code",
   "source": [
    "year = int(input(\"Enter your year of birth: \"))\n",
    "age = 2024 - year\n",
    "\n",
    "try:\n",
    "    if 20 <= age <= 30:\n",
    "        print(\"You are eligible for the job\")\n",
    "    else:\n",
    "        raise DobException\n",
    "except DobException:\n",
    "    print(\"The age is not within the range of the job\")    \n",
    "        "
   ],
   "id": "fa483297e60d5d1b",
   "outputs": [
    {
     "name": "stdout",
     "output_type": "stream",
     "text": [
      "You are eligible for the job\n"
     ]
    }
   ],
   "execution_count": 11
  },
  {
   "metadata": {},
   "cell_type": "code",
   "outputs": [],
   "execution_count": null,
   "source": "",
   "id": "14793379a232b2a7"
  }
 ],
 "metadata": {
  "kernelspec": {
   "display_name": "Python 3",
   "language": "python",
   "name": "python3"
  },
  "language_info": {
   "codemirror_mode": {
    "name": "ipython",
    "version": 2
   },
   "file_extension": ".py",
   "mimetype": "text/x-python",
   "name": "python",
   "nbconvert_exporter": "python",
   "pygments_lexer": "ipython2",
   "version": "2.7.6"
  }
 },
 "nbformat": 4,
 "nbformat_minor": 5
}

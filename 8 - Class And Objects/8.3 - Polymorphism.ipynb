{
 "cells": [
  {
   "cell_type": "code",
   "id": "initial_id",
   "metadata": {
    "collapsed": true,
    "ExecuteTime": {
     "end_time": "2024-07-28T09:07:37.270167Z",
     "start_time": "2024-07-28T09:07:37.260705Z"
    }
   },
   "source": [
    "# Method overriding allows a child class to provide a specific implementation of a method that is already provided by its parent class.\n",
    "# Base class\n",
    "class Animal:\n",
    "    def speak(self):\n",
    "        print(\"Animal Speaking\")\n",
    "\n",
    "# Derived class one\n",
    "class Dog(Animal):\n",
    "    def speak(self):\n",
    "        print(\"Dog Speaking with sound Bow Bow\")\n",
    "\n",
    "# Derived class two\n",
    "class Cat(Animal):\n",
    "    def speak(self):\n",
    "        print(\"Cat Speaking with sound Meow Meow\")\n",
    "\n",
    "# Function that demonstrates polymorphism\n",
    "def animal_speak(animal):\n",
    "    animal.speak()\n",
    "    \n",
    "# Create an object\n",
    "d = Dog()\n",
    "d.speak() # Output: Dog Speaking with sound Bow\n",
    "c = Cat()\n",
    "c.speak() # Output: Cat Speaking with sound Meow Meow\n",
    "animal_speak(d) # Output: Dog Speaking with sound Bow"
   ],
   "outputs": [
    {
     "name": "stdout",
     "output_type": "stream",
     "text": [
      "Dog Speaking with sound Bow Bow\n",
      "Cat Speaking with sound Meow Meow\n",
      "Dog Speaking with sound Bow Bow\n"
     ]
    }
   ],
   "execution_count": 2
  },
  {
   "metadata": {
    "ExecuteTime": {
     "end_time": "2024-07-28T09:15:40.285509Z",
     "start_time": "2024-07-28T09:15:40.275506Z"
    }
   },
   "cell_type": "code",
   "source": [
    "# PolyMorphism with Functions and methods\n",
    "# Base class\n",
    "class Shape:\n",
    "    def area(self):\n",
    "        return \"The area of the figure\"\n",
    "\n",
    "# Derived class one\n",
    "class Square(Shape):\n",
    "    def __init__(self, width, length):\n",
    "        self.width = width\n",
    "        self.length = length\n",
    "    \n",
    "    def area(self):\n",
    "        return self.width * self.length\n",
    "\n",
    "# Derived class two\n",
    "class Circle(Shape):\n",
    "    def __init__(self, radius):\n",
    "        self.radius = radius\n",
    "    \n",
    "    def area(self):\n",
    "        return 3.14 * self.radius * self.radius\n",
    "\n",
    "# Function that demonstrates polymorphism\n",
    "def print_area(shape):\n",
    "    print(f\"the area is {shape.area()}\")\n",
    "\n",
    "rectangle = Square(2, 4)\n",
    "circle = Circle(7)\n",
    "\n",
    "print_area(rectangle) # Output: the area is 8\n",
    "print_area(circle) # Output: the area is 153.86"
   ],
   "id": "4516bdcdcb105eba",
   "outputs": [
    {
     "name": "stdout",
     "output_type": "stream",
     "text": [
      "the area is 8\n",
      "the area is 153.86\n"
     ]
    }
   ],
   "execution_count": 4
  },
  {
   "metadata": {
    "ExecuteTime": {
     "end_time": "2024-07-28T09:25:35.672936Z",
     "start_time": "2024-07-28T09:25:35.662953Z"
    }
   },
   "cell_type": "code",
   "source": [
    "# Polymorphism with Abstract base class that is interface in python\n",
    "from abc import ABC, abstractmethod\n",
    "\n",
    "# Define an abstract class\n",
    "class Vehicle(ABC):\n",
    "    @abstractmethod\n",
    "    def no_of_wheels(self):\n",
    "        pass\n",
    "\n",
    "# Derived class one\n",
    "class Car(Vehicle):\n",
    "    def no_of_wheels(self):\n",
    "        return 4\n",
    "\n",
    "# Derived class two\n",
    "class Bike(Vehicle):\n",
    "    def no_of_wheels(self):\n",
    "        return 2\n",
    "# Function that demonstrates polymorphism\n",
    "def show_no_of_wheels(vehicle):\n",
    "    print(f\"Number of wheels are {vehicle.no_of_wheels()}\")\n",
    "    \n",
    "# Create objects of car and bike\n",
    "c = Car()\n",
    "b = Bike()\n",
    "show_no_of_wheels(c) # Output: Number of wheels are 4\n",
    "show_no_of_wheels(b) # Output: Number of wheels are 2"
   ],
   "id": "a900a58f67c126b7",
   "outputs": [
    {
     "name": "stdout",
     "output_type": "stream",
     "text": [
      "Number of wheels are 4\n",
      "Number of wheels are 2\n"
     ]
    }
   ],
   "execution_count": 5
  },
  {
   "metadata": {},
   "cell_type": "code",
   "outputs": [],
   "execution_count": null,
   "source": "",
   "id": "bc793c09b36ed1c7"
  }
 ],
 "metadata": {
  "kernelspec": {
   "display_name": "Python 3",
   "language": "python",
   "name": "python3"
  },
  "language_info": {
   "codemirror_mode": {
    "name": "ipython",
    "version": 2
   },
   "file_extension": ".py",
   "mimetype": "text/x-python",
   "name": "python",
   "nbconvert_exporter": "python",
   "pygments_lexer": "ipython2",
   "version": "2.7.6"
  }
 },
 "nbformat": 4,
 "nbformat_minor": 5
}

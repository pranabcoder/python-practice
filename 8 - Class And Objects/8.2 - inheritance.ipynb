{
 "cells": [
  {
   "cell_type": "code",
   "id": "initial_id",
   "metadata": {
    "collapsed": true,
    "ExecuteTime": {
     "end_time": "2024-07-28T08:41:31.816498Z",
     "start_time": "2024-07-28T08:41:31.810004Z"
    }
   },
   "source": [
    " # Inheritance\n",
    "#  is a way of creating a new class for using details of an existing class without modifying it.\n",
    "\n",
    "# Parent class\n",
    "class Car:\n",
    "    def __init__(self, make, model, year, windows, doors, engine_type):\n",
    "        self.make = make\n",
    "        self.model = model\n",
    "        self.year = year\n",
    "        self.windows = windows\n",
    "        self.doors = doors\n",
    "        self.engine_type = engine_type\n",
    "\n",
    "    def display(self):\n",
    "        print(f\"Make: {self.make}, Model: {self.model}, Year: {self.year}, Windows: {self.windows}, Doors: {self.doors}, Engine Type: {self.engine_type}\")"
   ],
   "outputs": [],
   "execution_count": 1
  },
  {
   "metadata": {
    "ExecuteTime": {
     "end_time": "2024-07-28T08:41:40.610596Z",
     "start_time": "2024-07-28T08:41:40.606030Z"
    }
   },
   "cell_type": "code",
   "source": [
    "car1 = Car(\"Toyota\", \"Corolla\", 2015, 4, 4, \"Petrol\")\n",
    "car1.display()"
   ],
   "id": "ae6c82f960ed7935",
   "outputs": [
    {
     "name": "stdout",
     "output_type": "stream",
     "text": [
      "Make: Toyota, Model: Corolla, Year: 2015, Windows: 4, Doors: 4, Engine Type: Petrol\n"
     ]
    }
   ],
   "execution_count": 2
  },
  {
   "metadata": {
    "ExecuteTime": {
     "end_time": "2024-07-28T08:43:59.358885Z",
     "start_time": "2024-07-28T08:43:59.353694Z"
    }
   },
   "cell_type": "code",
   "source": [
    "# Child class\n",
    "class ElectricCar(Car):\n",
    "    def __init__(self, make, model, year, windows, doors, engine_type, battery_type):\n",
    "        super().__init__(make, model, year, windows, doors, engine_type) # Inheritance parent class constructor\n",
    "        self.battery_type = battery_type\n",
    "\n",
    "    def display(self):\n",
    "        super().display() # Inheritance from parent class\n",
    "        print(f\"Battery Type: {self.battery_type}\")"
   ],
   "id": "d110eb835db79492",
   "outputs": [],
   "execution_count": 3
  },
  {
   "metadata": {
    "ExecuteTime": {
     "end_time": "2024-07-28T08:44:04.119035Z",
     "start_time": "2024-07-28T08:44:04.114116Z"
    }
   },
   "cell_type": "code",
   "source": "car2 = ElectricCar(\"Tesla\", \"Model S\", 2021, 4, 4, \"Electric\", \"Lithium-ion\")",
   "id": "be48fdf45173ac26",
   "outputs": [],
   "execution_count": 4
  },
  {
   "metadata": {
    "ExecuteTime": {
     "end_time": "2024-07-28T08:44:06.695292Z",
     "start_time": "2024-07-28T08:44:06.690633Z"
    }
   },
   "cell_type": "code",
   "source": "car2.display()",
   "id": "c7b204371a3290c7",
   "outputs": [
    {
     "name": "stdout",
     "output_type": "stream",
     "text": [
      "Make: Tesla, Model: Model S, Year: 2021, Windows: 4, Doors: 4, Engine Type: Electric\n",
      "Battery Type: Lithium-ion\n"
     ]
    }
   ],
   "execution_count": 5
  },
  {
   "metadata": {
    "ExecuteTime": {
     "end_time": "2024-07-28T08:48:24.393258Z",
     "start_time": "2024-07-28T08:48:24.388831Z"
    }
   },
   "cell_type": "code",
   "source": [
    "# Multiple Inheritance\n",
    "# A class can be derived from more than one base classes in Python, similar to C++. This is called multiple inheritance.\n",
    "# Base class 1\n",
    "class Animal:\n",
    "    def __init__(self, name, animal_type):\n",
    "        self.name = name\n",
    "        self.animal_type = animal_type\n",
    "\n",
    "    def display(self):\n",
    "        print(f\"Animal Name: {self.name}, Animal Type: {self.animal_type}\")"
   ],
   "id": "704993af42768178",
   "outputs": [],
   "execution_count": 6
  },
  {
   "metadata": {
    "ExecuteTime": {
     "end_time": "2024-07-28T08:48:44.757386Z",
     "start_time": "2024-07-28T08:48:44.752945Z"
    }
   },
   "cell_type": "code",
   "source": [
    "# Base class 2\n",
    "class Pet:\n",
    "    def __init__(self, owner_name):\n",
    "        self.owner_name = owner_name\n",
    "\n",
    "    def display(self):\n",
    "        print(f\"Owner Name: {self.owner_name}\")"
   ],
   "id": "f7d97761ec78aca4",
   "outputs": [],
   "execution_count": 7
  },
  {
   "metadata": {
    "ExecuteTime": {
     "end_time": "2024-07-28T08:52:17.911181Z",
     "start_time": "2024-07-28T08:52:17.905017Z"
    }
   },
   "cell_type": "code",
   "source": [
    "# Derived class\n",
    "class Dog(Animal, Pet):\n",
    "    def __init__(self, name, animal_type, owner_name, breed):\n",
    "        Animal.__init__(self, name, animal_type)\n",
    "        Pet.__init__(self, owner_name)\n",
    "        self.breed = breed\n",
    "\n",
    "    def display(self):\n",
    "        Animal.display(self)\n",
    "        Pet.display(self)\n",
    "        print(f\"Breed: {self.breed}\")\n",
    "\n",
    "# Create an object of the derived class\n",
    "dog1 = Dog(\"Tommy\", \"Dog\", \"John\", \"Labrador\")\n",
    "print(dog1.display())"
   ],
   "id": "bf859e0492d2739c",
   "outputs": [
    {
     "name": "stdout",
     "output_type": "stream",
     "text": [
      "Animal Name: Tommy, Animal Type: Dog\n",
      "Owner Name: John\n",
      "Breed: Labrador\n",
      "None\n"
     ]
    }
   ],
   "execution_count": 8
  },
  {
   "metadata": {},
   "cell_type": "code",
   "outputs": [],
   "execution_count": null,
   "source": "",
   "id": "60dc4b63542fbd21"
  }
 ],
 "metadata": {
  "kernelspec": {
   "display_name": "Python 3",
   "language": "python",
   "name": "python3"
  },
  "language_info": {
   "codemirror_mode": {
    "name": "ipython",
    "version": 2
   },
   "file_extension": ".py",
   "mimetype": "text/x-python",
   "name": "python",
   "nbconvert_exporter": "python",
   "pygments_lexer": "ipython2",
   "version": "2.7.6"
  }
 },
 "nbformat": 4,
 "nbformat_minor": 5
}

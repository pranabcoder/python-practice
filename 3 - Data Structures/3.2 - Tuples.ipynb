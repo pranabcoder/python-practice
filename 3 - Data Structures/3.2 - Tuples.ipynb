{
 "cells": [
  {
   "cell_type": "code",
   "id": "initial_id",
   "metadata": {
    "collapsed": true,
    "ExecuteTime": {
     "end_time": "2024-07-21T14:57:08.451584Z",
     "start_time": "2024-07-21T14:57:08.445045Z"
    }
   },
   "source": [
    "# Creating a tuple\n",
    "empty_tuple = ()\n",
    "print(empty_tuple)\n",
    "print(type(empty_tuple))"
   ],
   "outputs": [
    {
     "name": "stdout",
     "output_type": "stream",
     "text": [
      "()\n",
      "<class 'tuple'>\n"
     ]
    }
   ],
   "execution_count": 3
  },
  {
   "metadata": {
    "ExecuteTime": {
     "end_time": "2024-07-21T14:58:49.440309Z",
     "start_time": "2024-07-21T14:58:49.433963Z"
    }
   },
   "cell_type": "code",
   "source": [
    "# Create using tuple() constructor\n",
    "empty_tuple = tuple()\n",
    "print(empty_tuple)\n",
    "print(type(empty_tuple))"
   ],
   "id": "6e6868b922d63120",
   "outputs": [
    {
     "name": "stdout",
     "output_type": "stream",
     "text": [
      "()\n",
      "<class 'tuple'>\n"
     ]
    }
   ],
   "execution_count": 4
  },
  {
   "metadata": {
    "ExecuteTime": {
     "end_time": "2024-07-21T15:00:45.222941Z",
     "start_time": "2024-07-21T15:00:45.217007Z"
    }
   },
   "cell_type": "code",
   "source": [
    "# Example list can be converted to tuple\n",
    "numbers = tuple([1, 2, 3, 4, 5])\n",
    "print(numbers)\n",
    "print(type(numbers))"
   ],
   "id": "4b23707e8717507",
   "outputs": [
    {
     "name": "stdout",
     "output_type": "stream",
     "text": [
      "(1, 2, 3, 4, 5)\n",
      "<class 'tuple'>\n"
     ]
    }
   ],
   "execution_count": 5
  },
  {
   "metadata": {
    "ExecuteTime": {
     "end_time": "2024-07-21T15:01:38.535274Z",
     "start_time": "2024-07-21T15:01:38.529981Z"
    }
   },
   "cell_type": "code",
   "source": [
    "# Example tuple can be converted to list\n",
    "numbers = list((1, 2, 3, 4, 5))\n",
    "print(numbers)\n",
    "print(type(numbers))"
   ],
   "id": "5eaf0bd5a14032d",
   "outputs": [
    {
     "name": "stdout",
     "output_type": "stream",
     "text": [
      "[1, 2, 3, 4, 5]\n",
      "<class 'list'>\n"
     ]
    }
   ],
   "execution_count": 6
  },
  {
   "metadata": {
    "ExecuteTime": {
     "end_time": "2024-07-21T15:02:35.166135Z",
     "start_time": "2024-07-21T15:02:35.160212Z"
    }
   },
   "cell_type": "code",
   "source": [
    "# Example - mixed data types\n",
    "mixed_tuple = (1, 'hello', 3.4, True)\n",
    "print(mixed_tuple)"
   ],
   "id": "327b6ca4be90e9a5",
   "outputs": [
    {
     "name": "stdout",
     "output_type": "stream",
     "text": [
      "(1, 'hello', 3.4, True)\n"
     ]
    }
   ],
   "execution_count": 7
  },
  {
   "metadata": {
    "ExecuteTime": {
     "end_time": "2024-07-21T15:03:44.440206Z",
     "start_time": "2024-07-21T15:03:44.435885Z"
    }
   },
   "cell_type": "code",
   "source": [
    "# Accessing elements\n",
    "numbers = (1, 2, 3, 4, 5)\n",
    "print(numbers[3])"
   ],
   "id": "f076644a11a9b0c0",
   "outputs": [
    {
     "name": "stdout",
     "output_type": "stream",
     "text": [
      "4\n"
     ]
    }
   ],
   "execution_count": 10
  },
  {
   "metadata": {
    "ExecuteTime": {
     "end_time": "2024-07-21T15:43:37.427941Z",
     "start_time": "2024-07-21T15:43:37.421434Z"
    }
   },
   "cell_type": "code",
   "source": "print(numbers[-1]) # last element",
   "id": "aa4018f8af3e5c28",
   "outputs": [
    {
     "name": "stdout",
     "output_type": "stream",
     "text": [
      "5\n"
     ]
    }
   ],
   "execution_count": 11
  },
  {
   "metadata": {
    "ExecuteTime": {
     "end_time": "2024-07-21T15:44:34.150286Z",
     "start_time": "2024-07-21T15:44:34.146616Z"
    }
   },
   "cell_type": "code",
   "source": [
    "# Slicing\n",
    "print(numbers)\n",
    "# After slicing, the result is a tuple\n",
    "print(numbers[1:3])"
   ],
   "id": "a0f945a39348fdc2",
   "outputs": [
    {
     "name": "stdout",
     "output_type": "stream",
     "text": [
      "(1, 2, 3, 4, 5)\n",
      "(2, 3)\n"
     ]
    }
   ],
   "execution_count": 14
  },
  {
   "metadata": {
    "ExecuteTime": {
     "end_time": "2024-07-21T15:45:35.666973Z",
     "start_time": "2024-07-21T15:45:35.662878Z"
    }
   },
   "cell_type": "code",
   "source": [
    "# print all elements\n",
    "print(numbers[::])"
   ],
   "id": "206f75290af2e5b1",
   "outputs": [
    {
     "name": "stdout",
     "output_type": "stream",
     "text": [
      "(1, 2, 3, 4, 5)\n"
     ]
    }
   ],
   "execution_count": 15
  },
  {
   "metadata": {
    "ExecuteTime": {
     "end_time": "2024-07-21T15:46:27.310061Z",
     "start_time": "2024-07-21T15:46:27.305995Z"
    }
   },
   "cell_type": "code",
   "source": [
    "# print all elements in reverse order\n",
    "print(numbers[::-1]) # :: means all elements, -1 means reverse order"
   ],
   "id": "ce92abfc785fb7cb",
   "outputs": [
    {
     "name": "stdout",
     "output_type": "stream",
     "text": [
      "(5, 4, 3, 2, 1)\n"
     ]
    }
   ],
   "execution_count": 16
  },
  {
   "metadata": {
    "ExecuteTime": {
     "end_time": "2024-07-21T16:10:08.716657Z",
     "start_time": "2024-07-21T16:10:08.710228Z"
    }
   },
   "cell_type": "code",
   "source": [
    "# Tuple Operations\n",
    "# Concatenation\n",
    "numbers = (1, 2, 3)\n",
    "mixed_tuple = (4, 'hello', 5.6, False)\n",
    "concatenated_tuple = numbers + mixed_tuple\n",
    "print(concatenated_tuple)"
   ],
   "id": "af82f485428f79d5",
   "outputs": [
    {
     "name": "stdout",
     "output_type": "stream",
     "text": [
      "(1, 2, 3, 4, 'hello', 5.6, False)\n"
     ]
    }
   ],
   "execution_count": 17
  },
  {
   "metadata": {
    "ExecuteTime": {
     "end_time": "2024-07-21T16:11:18.402953Z",
     "start_time": "2024-07-21T16:11:18.388348Z"
    }
   },
   "cell_type": "code",
   "source": [
    "# Repetition\n",
    "mixed_tuple * 3"
   ],
   "id": "5237dd5606f62162",
   "outputs": [
    {
     "data": {
      "text/plain": [
       "(4, 'hello', 5.6, False, 4, 'hello', 5.6, False, 4, 'hello', 5.6, False)"
      ]
     },
     "execution_count": 18,
     "metadata": {},
     "output_type": "execute_result"
    }
   ],
   "execution_count": 18
  },
  {
   "metadata": {
    "ExecuteTime": {
     "end_time": "2024-07-21T16:46:23.713853Z",
     "start_time": "2024-07-21T16:46:23.708044Z"
    }
   },
   "cell_type": "code",
   "source": [
    "# The Immutable Nature Of Tuples\n",
    "# Tuple elements cannot be changed\n",
    "lst = [1, 2, 3, 4, 5]\n",
    "lst[2] = 'John'\n",
    "print(lst)"
   ],
   "id": "88aa47969d59a3da",
   "outputs": [
    {
     "name": "stdout",
     "output_type": "stream",
     "text": [
      "[1, 2, 'John', 4, 5]\n"
     ]
    }
   ],
   "execution_count": 20
  },
  {
   "metadata": {
    "ExecuteTime": {
     "end_time": "2024-07-21T16:46:35.232271Z",
     "start_time": "2024-07-21T16:46:35.223989Z"
    }
   },
   "cell_type": "code",
   "source": "numbers",
   "id": "4f57b7c0d75362a7",
   "outputs": [
    {
     "data": {
      "text/plain": [
       "(1, 2, 3)"
      ]
     },
     "execution_count": 21,
     "metadata": {},
     "output_type": "execute_result"
    }
   ],
   "execution_count": 21
  },
  {
   "metadata": {
    "ExecuteTime": {
     "end_time": "2024-07-21T16:46:41.314292Z",
     "start_time": "2024-07-21T16:46:40.557290Z"
    }
   },
   "cell_type": "code",
   "source": "numbers[2] = 'John'",
   "id": "c137c8472257a5ee",
   "outputs": [
    {
     "ename": "TypeError",
     "evalue": "'tuple' object does not support item assignment",
     "output_type": "error",
     "traceback": [
      "\u001B[1;31m---------------------------------------------------------------------------\u001B[0m",
      "\u001B[1;31mTypeError\u001B[0m                                 Traceback (most recent call last)",
      "Cell \u001B[1;32mIn[22], line 1\u001B[0m\n\u001B[1;32m----> 1\u001B[0m numbers[\u001B[38;5;241m2\u001B[39m] \u001B[38;5;241m=\u001B[39m \u001B[38;5;124m'\u001B[39m\u001B[38;5;124mJohn\u001B[39m\u001B[38;5;124m'\u001B[39m\n",
      "\u001B[1;31mTypeError\u001B[0m: 'tuple' object does not support item assignment"
     ]
    }
   ],
   "execution_count": 22
  },
  {
   "metadata": {
    "ExecuteTime": {
     "end_time": "2024-07-21T16:48:28.098974Z",
     "start_time": "2024-07-21T16:48:28.092804Z"
    }
   },
   "cell_type": "code",
   "source": [
    "# Tuple methods\n",
    "numbers = (1, 2, 3, 4, 5)\n",
    "# count\n",
    "print(numbers.count(3))"
   ],
   "id": "f070500029576748",
   "outputs": [
    {
     "name": "stdout",
     "output_type": "stream",
     "text": [
      "1\n"
     ]
    }
   ],
   "execution_count": 23
  },
  {
   "metadata": {
    "ExecuteTime": {
     "end_time": "2024-07-21T16:49:34.656986Z",
     "start_time": "2024-07-21T16:49:34.651758Z"
    }
   },
   "cell_type": "code",
   "source": [
    "# index - returns the index of the first occurrence of the element\n",
    "numbers = (1, 2, 3, 4, 5, 3)\n",
    "print(numbers.index(3))"
   ],
   "id": "a6b4029d16a83ef",
   "outputs": [
    {
     "name": "stdout",
     "output_type": "stream",
     "text": [
      "2\n"
     ]
    }
   ],
   "execution_count": 24
  },
  {
   "metadata": {
    "ExecuteTime": {
     "end_time": "2024-07-21T16:51:10.858822Z",
     "start_time": "2024-07-21T16:51:10.853622Z"
    }
   },
   "cell_type": "code",
   "source": [
    "# Packing and Unpacking Tuples\n",
    "# Example of packing\n",
    "packed_tuple = 1, \"Hello\", 3.4, True\n",
    "print(packed_tuple)"
   ],
   "id": "3946642f766a48a4",
   "outputs": [
    {
     "name": "stdout",
     "output_type": "stream",
     "text": [
      "(1, 'Hello', 3.4, True)\n"
     ]
    }
   ],
   "execution_count": 26
  },
  {
   "metadata": {
    "ExecuteTime": {
     "end_time": "2024-07-21T16:52:29.729718Z",
     "start_time": "2024-07-21T16:52:29.722662Z"
    }
   },
   "cell_type": "code",
   "source": [
    "# Example of unpacking\n",
    "a, b, c, d = packed_tuple\n",
    "print(a)\n",
    "print(b)\n",
    "print(c)"
   ],
   "id": "6b567b02aa9a125f",
   "outputs": [
    {
     "name": "stdout",
     "output_type": "stream",
     "text": [
      "1\n",
      "Hello\n",
      "3.4\n"
     ]
    }
   ],
   "execution_count": 27
  },
  {
   "metadata": {
    "ExecuteTime": {
     "end_time": "2024-07-21T16:55:08.305542Z",
     "start_time": "2024-07-21T16:55:08.298889Z"
    }
   },
   "cell_type": "code",
   "source": [
    "# Example of unpacking with *\n",
    "numbers = (1, 2, 3, 4, 5)\n",
    "first, *middle, last = numbers\n",
    "print(first) # only the first element\n",
    "print(middle) # middle elements as a list without last element\n",
    "print(last) # only last element"
   ],
   "id": "2c5f92ebc1a14ed9",
   "outputs": [
    {
     "name": "stdout",
     "output_type": "stream",
     "text": [
      "1\n",
      "[2, 3, 4]\n",
      "5\n"
     ]
    }
   ],
   "execution_count": 29
  },
  {
   "metadata": {
    "ExecuteTime": {
     "end_time": "2024-07-21T16:57:20.026095Z",
     "start_time": "2024-07-21T16:57:20.019029Z"
    }
   },
   "cell_type": "code",
   "source": [
    "# Nested Tuples\n",
    "lst = [[1, 2, 3, 4, 5], [6, 7, 8, 9, 10], [1, \"Hello\", 3.4, True]] # list of lists - nested list\n",
    "print(lst[0])"
   ],
   "id": "a0014633f4afd2f0",
   "outputs": [
    {
     "name": "stdout",
     "output_type": "stream",
     "text": [
      "[1, 2, 3, 4, 5]\n"
     ]
    }
   ],
   "execution_count": 30
  },
  {
   "metadata": {
    "ExecuteTime": {
     "end_time": "2024-07-21T16:57:55.394955Z",
     "start_time": "2024-07-21T16:57:55.390735Z"
    }
   },
   "cell_type": "code",
   "source": [
    "# suppose I want to access element 3\n",
    "print(lst[0][2]) # the first index is the index of the outer list, the second index is the index of the inner list"
   ],
   "id": "2074a6bba815a12a",
   "outputs": [
    {
     "name": "stdout",
     "output_type": "stream",
     "text": [
      "3\n"
     ]
    }
   ],
   "execution_count": 31
  },
  {
   "metadata": {
    "ExecuteTime": {
     "end_time": "2024-07-21T16:58:38.334887Z",
     "start_time": "2024-07-21T16:58:38.330606Z"
    }
   },
   "cell_type": "code",
   "source": [
    "# Slice the nested tuple\n",
    "print(lst[0][1:4]) # slice the inner list"
   ],
   "id": "7a9b2381a30fcee2",
   "outputs": [
    {
     "name": "stdout",
     "output_type": "stream",
     "text": [
      "[2, 3, 4]\n"
     ]
    }
   ],
   "execution_count": 32
  },
  {
   "metadata": {
    "ExecuteTime": {
     "end_time": "2024-07-21T17:00:51.941986Z",
     "start_time": "2024-07-21T17:00:51.936793Z"
    }
   },
   "cell_type": "code",
   "source": [
    "# Tuple can be within a list\n",
    "lst = [[1, 2, 3, 4, 5], [6, 7, 8, 9, 10], (1, \"Hello\", 3.4, True)] # list of lists and tuple\n",
    "print(lst[2][::-1]) # reverse the tuple"
   ],
   "id": "7a05147c81ed32f3",
   "outputs": [
    {
     "name": "stdout",
     "output_type": "stream",
     "text": [
      "(True, 3.4, 'Hello', 1)\n"
     ]
    }
   ],
   "execution_count": 33
  },
  {
   "metadata": {
    "ExecuteTime": {
     "end_time": "2024-07-21T17:02:35.673979Z",
     "start_time": "2024-07-21T17:02:35.667768Z"
    }
   },
   "cell_type": "code",
   "source": [
    "# Tuple can be within a tuple\n",
    "nested_tuple = ((1, 2, 3), (\"a\", \"b\", \"c\"), (True, False)) # tuple of tuples\n",
    "# access elements inside the inner tuple\n",
    "print(nested_tuple[1][1])"
   ],
   "id": "1d85611da98866d8",
   "outputs": [
    {
     "name": "stdout",
     "output_type": "stream",
     "text": [
      "b\n"
     ]
    }
   ],
   "execution_count": 34
  },
  {
   "metadata": {
    "ExecuteTime": {
     "end_time": "2024-07-21T17:04:55.151132Z",
     "start_time": "2024-07-21T17:04:55.144574Z"
    }
   },
   "cell_type": "code",
   "source": [
    "# Iterating over nested tuple\n",
    "for sub_tuple in nested_tuple:\n",
    "    for element in sub_tuple:\n",
    "        print(element, end=\" \")"
   ],
   "id": "d407fd91a69e4d70",
   "outputs": [
    {
     "name": "stdout",
     "output_type": "stream",
     "text": [
      "1 2 3 a b c True False "
     ]
    }
   ],
   "execution_count": 36
  },
  {
   "metadata": {},
   "cell_type": "code",
   "outputs": [],
   "execution_count": null,
   "source": "",
   "id": "13371fa2f86a20b9"
  }
 ],
 "metadata": {
  "kernelspec": {
   "display_name": "Python 3",
   "language": "python",
   "name": "python3"
  },
  "language_info": {
   "codemirror_mode": {
    "name": "ipython",
    "version": 2
   },
   "file_extension": ".py",
   "mimetype": "text/x-python",
   "name": "python",
   "nbconvert_exporter": "python",
   "pygments_lexer": "ipython2",
   "version": "2.7.6"
  }
 },
 "nbformat": 4,
 "nbformat_minor": 5
}

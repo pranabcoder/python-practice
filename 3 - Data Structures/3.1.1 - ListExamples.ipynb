{
 "cells": [
  {
   "cell_type": "code",
   "id": "initial_id",
   "metadata": {
    "collapsed": true,
    "ExecuteTime": {
     "end_time": "2024-07-23T18:39:23.982437Z",
     "start_time": "2024-07-23T18:39:23.978074Z"
    }
   },
   "source": [
    "# Real world example of list\n",
    "# Example 1: Create a To Do List to keep track of tasks"
   ],
   "outputs": [],
   "execution_count": 1
  },
  {
   "metadata": {
    "ExecuteTime": {
     "end_time": "2024-07-23T18:44:35.228358Z",
     "start_time": "2024-07-23T18:44:35.221462Z"
    }
   },
   "cell_type": "code",
   "source": [
    "to_do_list = [\"Buy groceries\", \"Pay bills\", \"Call mom\", \"Go to gym\", \"Pick up dry cleaning\"]\n",
    "# Add a new task to the list\n",
    "to_do_list.append(\"Schedule dentist appointment\")\n",
    "to_do_list.append(\"Go for a run\")\n",
    "\n",
    "# Remove the completed tasks from the list\n",
    "to_do_list.remove(\"Pick up dry cleaning\")\n",
    "\n",
    "# check the task in the list\n",
    "if \"Pay bills\" in to_do_list:\n",
    "    print(\"Don't forget to pay the bills!\")\n",
    "print(\"To Do List remaining tasks: \")\n",
    "for task in to_do_list:\n",
    "    print(f\"{task}\")"
   ],
   "id": "1fa0838b372c47b",
   "outputs": [
    {
     "name": "stdout",
     "output_type": "stream",
     "text": [
      "Don't forget to pay the bills!\n",
      "To Do List remaining tasks: \n",
      "Buy groceries\n",
      "Pay bills\n",
      "Call mom\n",
      "Go to gym\n",
      "Schedule dentist appointment\n",
      "Go for a run\n"
     ]
    }
   ],
   "execution_count": 2
  },
  {
   "metadata": {
    "ExecuteTime": {
     "end_time": "2024-07-23T18:54:27.532883Z",
     "start_time": "2024-07-23T18:54:27.525700Z"
    }
   },
   "cell_type": "code",
   "source": [
    "# Example 2: Calculate the student grades\n",
    "grades = [85, 90, 75, 95, 80]\n",
    "grades.append(88)\n",
    "\n",
    "# Calculate the average grade\n",
    "average_grade = sum(grades) / len(grades)\n",
    "print(f\"Average grade: {average_grade}\")\n",
    "\n",
    "# Find the highest grade\n",
    "highest_grade = max(grades)\n",
    "print(f\"Highest grade: {highest_grade}\")\n",
    "# Find the lowest grade\n",
    "lowest_grade = min(grades)\n",
    "print(f\"Lowest grade: {lowest_grade}\")"
   ],
   "id": "df4ab1bc33d8fe89",
   "outputs": [
    {
     "name": "stdout",
     "output_type": "stream",
     "text": [
      "Average grade: 85.5\n",
      "Highest grade: 95\n",
      "Lowest grade: 75\n"
     ]
    }
   ],
   "execution_count": 3
  },
  {
   "metadata": {
    "ExecuteTime": {
     "end_time": "2024-07-23T19:02:44.339357Z",
     "start_time": "2024-07-23T19:02:44.334279Z"
    }
   },
   "cell_type": "code",
   "source": [
    "# Example 3: Manage the inventory of a store\n",
    "# Use a list to store the items in the inventory\n",
    "inventory = [\"Apples\", \"Bananas\", \"Oranges\", \"Grapes\", \"Mangoes\"]\n",
    "# Add new items to the inventory\n",
    "inventory.append(\"Pineapples\")\n",
    "# Remove items from the inventory\n",
    "inventory.remove(\"Oranges\")\n",
    "# Check if an item is in the inventory\n",
    "available_item = \"Apples\"\n",
    "if available_item in inventory:\n",
    "    print(f\"{available_item} is available in the inventory.\")\n",
    "else:\n",
    "    print(f\"{available_item} is not available in the inventory.\")\n",
    "    \n",
    "# Print the items in the inventory\n",
    "print(\"Inventory items: \")\n",
    "for item in inventory:\n",
    "    print(f\"{item}\")"
   ],
   "id": "a51d377b89d04da8",
   "outputs": [
    {
     "name": "stdout",
     "output_type": "stream",
     "text": [
      "Apples is available in the inventory.\n",
      "Inventory items: \n",
      "Apples\n",
      "Bananas\n",
      "Grapes\n",
      "Mangoes\n",
      "Pineapples\n"
     ]
    }
   ],
   "execution_count": 5
  },
  {
   "metadata": {
    "ExecuteTime": {
     "end_time": "2024-07-23T19:08:04.649319Z",
     "start_time": "2024-07-23T19:08:04.642334Z"
    }
   },
   "cell_type": "code",
   "source": [
    "# Example 4: Check the feedback from customers\n",
    "feedbacks = [\"Great service!\", \"Fast delivery\", \"Good quality products\", \"Poor customer service\"]\n",
    "# Add new feedbacks to the list\n",
    "feedbacks.append(\"Excellent experience\")\n",
    "# counting the specific feedback\n",
    "positive_feedback_count = sum(1 for feedback in feedbacks if \"Great\" in feedback or \"Excellent\" in feedback or \"Fast\" in feedback or \"Good\" in feedback) \n",
    "print(f\"Positive feedback count: {positive_feedback_count}\")\n",
    "\n",
    "# Print all the feedbacks\n",
    "for feedback in feedbacks:\n",
    "    print(f\"{feedback}\")"
   ],
   "id": "eb6d816ce6a17e2b",
   "outputs": [
    {
     "name": "stdout",
     "output_type": "stream",
     "text": [
      "Positive feedback count: 4\n",
      "Great service!\n",
      "Fast delivery\n",
      "Good quality products\n",
      "Poor customer service\n",
      "Excellent experience\n"
     ]
    }
   ],
   "execution_count": 9
  },
  {
   "metadata": {
    "ExecuteTime": {
     "end_time": "2024-07-23T19:10:24.727877Z",
     "start_time": "2024-07-23T19:10:24.722513Z"
    }
   },
   "cell_type": "code",
   "source": [
    "# Another way to count the specific feedback\n",
    "# Example 4: Check the feedback from customers optimized\n",
    "feedbacks = [\"Great service!\", \"Fast delivery\", \"Good quality products\", \"Poor customer service\", \"Excellent experience\"]\n",
    "\n",
    "# Define a list of positive keywords\n",
    "positive_keywords = [\"Great\", \"Excellent\", \"Fast\", \"Good\"]\n",
    "\n",
    "# Count positive feedbacks using any() with list comprehension\n",
    "positive_feedback_count = sum(1 for feedback in feedbacks if any(keyword in feedback for keyword in positive_keywords))\n",
    "print(f\"Positive feedback count: {positive_feedback_count}\")\n",
    "\n",
    "# Print all the feedbacks\n",
    "for feedback in feedbacks:\n",
    "    print(feedback)"
   ],
   "id": "51d935aa14671357",
   "outputs": [
    {
     "name": "stdout",
     "output_type": "stream",
     "text": [
      "Positive feedback count: 4\n",
      "Great service!\n",
      "Fast delivery\n",
      "Good quality products\n",
      "Poor customer service\n",
      "Excellent experience\n"
     ]
    }
   ],
   "execution_count": 10
  },
  {
   "metadata": {},
   "cell_type": "code",
   "outputs": [],
   "execution_count": null,
   "source": "",
   "id": "66998d63f65af60"
  }
 ],
 "metadata": {
  "kernelspec": {
   "display_name": "Python 3",
   "language": "python",
   "name": "python3"
  },
  "language_info": {
   "codemirror_mode": {
    "name": "ipython",
    "version": 2
   },
   "file_extension": ".py",
   "mimetype": "text/x-python",
   "name": "python",
   "nbconvert_exporter": "python",
   "pygments_lexer": "ipython2",
   "version": "2.7.6"
  }
 },
 "nbformat": 4,
 "nbformat_minor": 5
}

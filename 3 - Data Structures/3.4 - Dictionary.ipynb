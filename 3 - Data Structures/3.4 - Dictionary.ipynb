{
 "cells": [
  {
   "cell_type": "code",
   "id": "initial_id",
   "metadata": {
    "collapsed": true,
    "ExecuteTime": {
     "end_time": "2024-07-23T15:26:50.812321Z",
     "start_time": "2024-07-23T15:26:50.807550Z"
    }
   },
   "source": [
    "# Creating a dictionary\n",
    "empty_dict = {}\n",
    "print(empty_dict)\n",
    "print(type(empty_dict))"
   ],
   "outputs": [
    {
     "name": "stdout",
     "output_type": "stream",
     "text": [
      "{}\n",
      "<class 'dict'>\n"
     ]
    }
   ],
   "execution_count": 2
  },
  {
   "metadata": {
    "ExecuteTime": {
     "end_time": "2024-07-23T15:27:43.943568Z",
     "start_time": "2024-07-23T15:27:43.938050Z"
    }
   },
   "cell_type": "code",
   "source": [
    "# Another way to create a dictionary\n",
    "empty_dict = dict()\n",
    "print(empty_dict)\n",
    "print(type(empty_dict))"
   ],
   "id": "91616097c54550b1",
   "outputs": [
    {
     "name": "stdout",
     "output_type": "stream",
     "text": [
      "{}\n",
      "<class 'dict'>\n"
     ]
    }
   ],
   "execution_count": 3
  },
  {
   "metadata": {
    "ExecuteTime": {
     "end_time": "2024-07-23T15:29:05.567098Z",
     "start_time": "2024-07-23T15:29:05.562692Z"
    }
   },
   "cell_type": "code",
   "source": [
    "student = {\"name\" : \"John\", \"age\" : 25, \"courses\" : [\"Math\", \"CompSci\"]}\n",
    "print(student)\n",
    "print(type(student))"
   ],
   "id": "1f94062163fc7fa0",
   "outputs": [
    {
     "name": "stdout",
     "output_type": "stream",
     "text": [
      "{'name': 'John', 'age': 25, 'courses': ['Math', 'CompSci']}\n",
      "<class 'dict'>\n"
     ]
    }
   ],
   "execution_count": 5
  },
  {
   "metadata": {
    "ExecuteTime": {
     "end_time": "2024-07-23T15:30:19.670419Z",
     "start_time": "2024-07-23T15:30:19.665586Z"
    }
   },
   "cell_type": "code",
   "source": [
    "# Error \n",
    "student = {\"name\" : \"John\", \"age\" : 25, \"courses\" : [\"Math\", \"CompSci\"], \"name\" : \"Jane\"}\n",
    "print(student) # The last key will be considered and the previous key will be overwritten"
   ],
   "id": "b27009a686a4702b",
   "outputs": [
    {
     "name": "stdout",
     "output_type": "stream",
     "text": [
      "{'name': 'Jane', 'age': 25, 'courses': ['Math', 'CompSci']}\n"
     ]
    }
   ],
   "execution_count": 7
  },
  {
   "metadata": {
    "ExecuteTime": {
     "end_time": "2024-07-23T15:31:33.650788Z",
     "start_time": "2024-07-23T15:31:33.645945Z"
    }
   },
   "cell_type": "code",
   "source": [
    "# Accessing dictionary elements\n",
    "student = {\"name\" : \"John\", \"age\" : 25, \"courses\" : [\"Math\", \"CompSci\"]}\n",
    "print(student[\"name\"])"
   ],
   "id": "d4693ffa2b745f84",
   "outputs": [
    {
     "name": "stdout",
     "output_type": "stream",
     "text": [
      "John\n"
     ]
    }
   ],
   "execution_count": 8
  },
  {
   "metadata": {
    "ExecuteTime": {
     "end_time": "2024-07-23T15:36:01.994120Z",
     "start_time": "2024-07-23T15:36:01.989608Z"
    }
   },
   "cell_type": "code",
   "source": [
    "# Accessing using get() method\n",
    "student = {\"name\" : \"John\", \"age\" : 25, \"courses\" : [\"Math\", \"CompSci\"]}\n",
    "print(student.get(\"name\"))\n",
    "print(student.get(\"age\"))\n",
    "print(student.get(\"phone\")) # None because the key is not present"
   ],
   "id": "3d4c3410bf30e556",
   "outputs": [
    {
     "name": "stdout",
     "output_type": "stream",
     "text": [
      "John\n",
      "25\n",
      "None\n"
     ]
    }
   ],
   "execution_count": 11
  },
  {
   "metadata": {
    "ExecuteTime": {
     "end_time": "2024-07-23T15:37:48.104345Z",
     "start_time": "2024-07-23T15:37:48.099665Z"
    }
   },
   "cell_type": "code",
   "source": [
    "# Accessing using get() method with default value\n",
    "student = {\"name\" : \"John\", \"age\" : 25, \"courses\" : [\"Math\", \"CompSci\"]}\n",
    "print(student.get(\"name\"))\n",
    "print(student.get(\"phone\", \"Not Available\")) # Default value"
   ],
   "id": "62d180e32d1a24ab",
   "outputs": [
    {
     "name": "stdout",
     "output_type": "stream",
     "text": [
      "John\n",
      "Not Available\n"
     ]
    }
   ],
   "execution_count": 13
  },
  {
   "metadata": {
    "ExecuteTime": {
     "end_time": "2024-07-23T17:49:21.092933Z",
     "start_time": "2024-07-23T17:49:21.088022Z"
    }
   },
   "cell_type": "code",
   "source": [
    "# Modifying Dictionary Elements\n",
    "# Dictionary is mutable, so you can add, update or delete elements from it\n",
    "\n",
    "student = {\"name\" : \"John\", \"age\" : 25, \"courses\" : [\"Math\", \"CompSci\"]}\n",
    "student[\"phone\"] = \"555-5555\"\n",
    "student[\"age\"] = 33\n",
    "student[\"address\"] = \"123, Main Street\"\n",
    "print(student)"
   ],
   "id": "becb67d05f270176",
   "outputs": [
    {
     "name": "stdout",
     "output_type": "stream",
     "text": [
      "{'name': 'John', 'age': 33, 'courses': ['Math', 'CompSci'], 'phone': '555-5555', 'address': '123, Main Street'}\n"
     ]
    }
   ],
   "execution_count": 17
  },
  {
   "metadata": {
    "ExecuteTime": {
     "end_time": "2024-07-23T17:56:18.889497Z",
     "start_time": "2024-07-23T17:56:18.882440Z"
    }
   },
   "cell_type": "code",
   "source": [
    "# Deleting elements from dictionary\n",
    "student = {\"name\" : \"John\", \"age\" : 25, \"courses\" : [\"Math\", \"CompSci\"]}\n",
    "del student[\"age\"] # Deleting a key and value pair\n",
    "print(student)"
   ],
   "id": "f6f48d1768fbcd44",
   "outputs": [
    {
     "name": "stdout",
     "output_type": "stream",
     "text": [
      "{'name': 'John', 'courses': ['Math', 'CompSci']}\n"
     ]
    }
   ],
   "execution_count": 20
  },
  {
   "metadata": {
    "ExecuteTime": {
     "end_time": "2024-07-23T17:57:52.424105Z",
     "start_time": "2024-07-23T17:57:52.417411Z"
    }
   },
   "cell_type": "code",
   "source": [
    "# Dictionary methods\n",
    "student = {\"name\" : \"John\", \"age\" : 25, \"courses\" : [\"Math\", \"CompSci\"]}\n",
    "# Find all the keys\n",
    "print(student.keys())"
   ],
   "id": "f0e881cb4444986",
   "outputs": [
    {
     "name": "stdout",
     "output_type": "stream",
     "text": [
      "dict_keys(['name', 'age', 'courses'])\n"
     ]
    }
   ],
   "execution_count": 21
  },
  {
   "metadata": {
    "ExecuteTime": {
     "end_time": "2024-07-23T17:58:38.839430Z",
     "start_time": "2024-07-23T17:58:38.833023Z"
    }
   },
   "cell_type": "code",
   "source": [
    "# Find all the values\n",
    "student = {\"name\" : \"John\", \"age\" : 25, \"courses\" : [\"Math\", \"CompSci\"]}\n",
    "print(student.values())"
   ],
   "id": "2caaf52df04280e1",
   "outputs": [
    {
     "name": "stdout",
     "output_type": "stream",
     "text": [
      "dict_values(['John', 25, ['Math', 'CompSci']])\n"
     ]
    }
   ],
   "execution_count": 22
  },
  {
   "metadata": {
    "ExecuteTime": {
     "end_time": "2024-07-23T17:59:50.060300Z",
     "start_time": "2024-07-23T17:59:50.053720Z"
    }
   },
   "cell_type": "code",
   "source": [
    "# Find all the key-value pairs\n",
    "student = {\"name\" : \"John\", \"age\" : 25, \"courses\" : [\"Math\", \"CompSci\"]}\n",
    "print(student.items())"
   ],
   "id": "8280e70fcae2b855",
   "outputs": [
    {
     "name": "stdout",
     "output_type": "stream",
     "text": [
      "dict_items([('name', 'John'), ('age', 25), ('courses', ['Math', 'CompSci'])])\n"
     ]
    }
   ],
   "execution_count": 23
  },
  {
   "metadata": {
    "ExecuteTime": {
     "end_time": "2024-07-23T18:01:54.186225Z",
     "start_time": "2024-07-23T18:01:54.181190Z"
    }
   },
   "cell_type": "code",
   "source": [
    "# Shallow copy\n",
    "student = {\"name\" : \"John\", \"age\" : 25, \"courses\" : [\"Math\", \"CompSci\"]}\n",
    "student_copy = student\n",
    "print(student)\n",
    "print(student_copy)"
   ],
   "id": "89c9d843febf3f97",
   "outputs": [
    {
     "name": "stdout",
     "output_type": "stream",
     "text": [
      "{'name': 'John', 'age': 25, 'courses': ['Math', 'CompSci']}\n",
      "{'name': 'John', 'age': 25, 'courses': ['Math', 'CompSci']}\n"
     ]
    }
   ],
   "execution_count": 24
  },
  {
   "metadata": {
    "ExecuteTime": {
     "end_time": "2024-07-23T18:03:38.260823Z",
     "start_time": "2024-07-23T18:03:38.255562Z"
    }
   },
   "cell_type": "code",
   "source": [
    "# Changing the value in the copy\n",
    "student = {\"name\" : \"John\", \"age\" : 25, \"courses\" : [\"Math\", \"CompSci\"]}\n",
    "student_copy = student\n",
    "student[\"name\"] = \"Jane\"\n",
    "print(student)\n",
    "print(student_copy)\n"
   ],
   "id": "e13fcdab15939c77",
   "outputs": [
    {
     "name": "stdout",
     "output_type": "stream",
     "text": [
      "{'name': 'Jane', 'age': 25, 'courses': ['Math', 'CompSci']}\n",
      "{'name': 'Jane', 'age': 25, 'courses': ['Math', 'CompSci']}\n"
     ]
    }
   ],
   "execution_count": 25
  },
  {
   "metadata": {
    "ExecuteTime": {
     "end_time": "2024-07-23T18:06:07.996703Z",
     "start_time": "2024-07-23T18:06:07.991795Z"
    }
   },
   "cell_type": "code",
   "source": [
    "student = {\"name\" : \"John\", \"age\" : 25, \"courses\" : [\"Math\", \"CompSci\"]}\n",
    "student_copy = student.copy() # Shallow copy - it will not affect the original dictionary because it is a new copy\n",
    "student[\"name\"] = \"Jane\"\n",
    "print(student)\n",
    "print(student_copy)"
   ],
   "id": "77a70750f42db5a3",
   "outputs": [
    {
     "name": "stdout",
     "output_type": "stream",
     "text": [
      "{'name': 'Jane', 'age': 25, 'courses': ['Math', 'CompSci']}\n",
      "{'name': 'John', 'age': 25, 'courses': ['Math', 'CompSci']}\n"
     ]
    }
   ],
   "execution_count": 26
  },
  {
   "metadata": {
    "ExecuteTime": {
     "end_time": "2024-07-23T18:09:20.755901Z",
     "start_time": "2024-07-23T18:09:20.750882Z"
    }
   },
   "cell_type": "code",
   "source": [
    "# Iterating through dictionary,\n",
    "# You can iterate through keys, values or key-value pairs\n",
    "student = {\"name\" : \"John\", \"age\" : 25, \"courses\" : [\"Math\", \"CompSci\"]}\n",
    "# Iterating through keys\n",
    "for key in student.keys():\n",
    "    print(key)"
   ],
   "id": "2ac288dec7db44cf",
   "outputs": [
    {
     "name": "stdout",
     "output_type": "stream",
     "text": [
      "name\n",
      "age\n",
      "courses\n"
     ]
    }
   ],
   "execution_count": 27
  },
  {
   "metadata": {
    "ExecuteTime": {
     "end_time": "2024-07-23T18:09:58.083031Z",
     "start_time": "2024-07-23T18:09:58.077048Z"
    }
   },
   "cell_type": "code",
   "source": [
    "# Iterating through values\n",
    "student = {\"name\" : \"John\", \"age\" : 25, \"courses\" : [\"Math\", \"CompSci\"]}\n",
    "for value in student.values():\n",
    "    print(value)"
   ],
   "id": "e746f11725070c3f",
   "outputs": [
    {
     "name": "stdout",
     "output_type": "stream",
     "text": [
      "John\n",
      "25\n",
      "['Math', 'CompSci']\n"
     ]
    }
   ],
   "execution_count": 28
  },
  {
   "metadata": {
    "ExecuteTime": {
     "end_time": "2024-07-23T18:10:33.907360Z",
     "start_time": "2024-07-23T18:10:33.902212Z"
    }
   },
   "cell_type": "code",
   "source": [
    "# Iterating through key-value pairs\n",
    "student = {\"name\" : \"John\", \"age\" : 25, \"courses\" : [\"Math\", \"CompSci\"]}\n",
    "for key, value in student.items():\n",
    "    print(key, value)"
   ],
   "id": "5577668deb2278f9",
   "outputs": [
    {
     "name": "stdout",
     "output_type": "stream",
     "text": [
      "name John\n",
      "age 25\n",
      "courses ['Math', 'CompSci']\n"
     ]
    }
   ],
   "execution_count": 29
  },
  {
   "metadata": {
    "ExecuteTime": {
     "end_time": "2024-07-23T18:13:52.300433Z",
     "start_time": "2024-07-23T18:13:52.294804Z"
    }
   },
   "cell_type": "code",
   "source": [
    "# Nested dictionary\n",
    "students = {\"student1\" : {\"name\" : \"John\", \"age\" : 25, \"courses\" : [\"Math\", \"CompSci\"]},\n",
    "            \"student2\" : {\"name\" : \"Jane\", \"age\" : 22, \"courses\" : [\"Math\", \"CompSci\"]}}\n",
    "print(students)"
   ],
   "id": "1cd3e1790d863b64",
   "outputs": [
    {
     "name": "stdout",
     "output_type": "stream",
     "text": [
      "{'student1': {'name': 'John', 'age': 25, 'courses': ['Math', 'CompSci']}, 'student2': {'name': 'Jane', 'age': 22, 'courses': ['Math', 'CompSci']}}\n"
     ]
    }
   ],
   "execution_count": 30
  },
  {
   "metadata": {
    "ExecuteTime": {
     "end_time": "2024-07-23T18:14:33.434070Z",
     "start_time": "2024-07-23T18:14:33.428085Z"
    }
   },
   "cell_type": "code",
   "source": [
    "# Accessing nested dictionary elements\n",
    "print(students[\"student1\"][\"name\"])\n",
    "print(students[\"student2\"][\"age\"])"
   ],
   "id": "291124516fa06e48",
   "outputs": [
    {
     "name": "stdout",
     "output_type": "stream",
     "text": [
      "John\n",
      "22\n"
     ]
    }
   ],
   "execution_count": 31
  },
  {
   "metadata": {
    "ExecuteTime": {
     "end_time": "2024-07-23T18:23:06.395169Z",
     "start_time": "2024-07-23T18:23:06.389852Z"
    }
   },
   "cell_type": "code",
   "source": [
    "# Iterating through nested dictionary\n",
    "students = {\"student1\" : {\"name\" : \"John\", \"age\" : 25, \"courses\" : [\"Math\", \"CompSci\"]},\n",
    "            \"student2\" : {\"name\" : \"Jane\", \"age\" : 22, \"courses\" : [\"Math\", \"CompSci\"]}}\n",
    "for student_id, student_info in students.items():\n",
    "    print(f\"{student_id} : {student_info}\")\n",
    "    for key, value in student_info.items():\n",
    "        print(f\"{key} : {value}, \", end=\"\")\n",
    "    print()"
   ],
   "id": "b360918e558c55db",
   "outputs": [
    {
     "name": "stdout",
     "output_type": "stream",
     "text": [
      "student1 : {'name': 'John', 'age': 25, 'courses': ['Math', 'CompSci']}\n",
      "name : John, age : 25, courses : ['Math', 'CompSci'], \n",
      "student2 : {'name': 'Jane', 'age': 22, 'courses': ['Math', 'CompSci']}\n",
      "name : Jane, age : 22, courses : ['Math', 'CompSci'], \n"
     ]
    }
   ],
   "execution_count": 38
  },
  {
   "metadata": {
    "ExecuteTime": {
     "end_time": "2024-07-23T18:24:54.760311Z",
     "start_time": "2024-07-23T18:24:54.755119Z"
    }
   },
   "cell_type": "code",
   "source": [
    "# Dictionary Comprehension\n",
    "# Create a dictionary with key as number and value as square of the number\n",
    "squares = {num : num*num for num in range(1, 6)}\n",
    "print(squares)"
   ],
   "id": "f08d4282786f125a",
   "outputs": [
    {
     "name": "stdout",
     "output_type": "stream",
     "text": [
      "{1: 1, 2: 4, 3: 9, 4: 16, 5: 25}\n"
     ]
    }
   ],
   "execution_count": 39
  },
  {
   "metadata": {
    "ExecuteTime": {
     "end_time": "2024-07-23T18:26:56.748268Z",
     "start_time": "2024-07-23T18:26:56.744052Z"
    }
   },
   "cell_type": "code",
   "source": [
    "# Dictionary Comprehension with condition\n",
    "# Create a dictionary with key as number and value as square of the number if the number is even\n",
    "even_squares = {num : num*num for num in range(1, 10) if num%2 == 0}\n",
    "print(even_squares)"
   ],
   "id": "55cc8f5faf66a849",
   "outputs": [
    {
     "name": "stdout",
     "output_type": "stream",
     "text": [
      "{2: 4, 4: 16, 6: 36, 8: 64}\n"
     ]
    }
   ],
   "execution_count": 42
  },
  {
   "metadata": {
    "ExecuteTime": {
     "end_time": "2024-07-23T18:30:12.550300Z",
     "start_time": "2024-07-23T18:30:12.544953Z"
    }
   },
   "cell_type": "code",
   "source": [
    "# Practical example\n",
    "# Use a dictionary to store the frequency of each element in a list\n",
    "from collections import Counter\n",
    "numbers = [1, 2, 3, 4, 5, 1, 2, 3, 4, 1, 2, 1, 1]\n",
    "counter = Counter(numbers)\n",
    "print(counter)"
   ],
   "id": "c283940234e815b",
   "outputs": [
    {
     "name": "stdout",
     "output_type": "stream",
     "text": [
      "Counter({1: 5, 2: 3, 3: 2, 4: 2, 5: 1})\n"
     ]
    }
   ],
   "execution_count": 43
  },
  {
   "metadata": {
    "ExecuteTime": {
     "end_time": "2024-07-23T18:31:30.140399Z",
     "start_time": "2024-07-23T18:31:30.136087Z"
    }
   },
   "cell_type": "code",
   "source": [
    "# Another way to do the same thing\n",
    "numbers = [1, 2, 3, 4, 5, 1, 2, 3, 4, 1, 2, 1, 1]\n",
    "counter = {num : numbers.count(num) for num in numbers}\n",
    "print(counter)"
   ],
   "id": "e05b79c91f8f6794",
   "outputs": [
    {
     "name": "stdout",
     "output_type": "stream",
     "text": [
      "{1: 5, 2: 3, 3: 2, 4: 2, 5: 1}\n"
     ]
    }
   ],
   "execution_count": 44
  },
  {
   "metadata": {
    "ExecuteTime": {
     "end_time": "2024-07-23T18:31:53.985465Z",
     "start_time": "2024-07-23T18:31:53.981112Z"
    }
   },
   "cell_type": "code",
   "source": [
    "# Another way to do the same thing\n",
    "numbers = [1, 2, 3, 4, 5, 1, 2, 3, 4, 1, 2, 1, 1]\n",
    "counter = {}\n",
    "for num in numbers:\n",
    "    counter[num] = counter.get(num, 0) + 1\n",
    "print(counter)"
   ],
   "id": "8e92b9867b1bae86",
   "outputs": [
    {
     "name": "stdout",
     "output_type": "stream",
     "text": [
      "{1: 5, 2: 3, 3: 2, 4: 2, 5: 1}\n"
     ]
    }
   ],
   "execution_count": 45
  },
  {
   "metadata": {
    "ExecuteTime": {
     "end_time": "2024-07-23T18:32:20.829836Z",
     "start_time": "2024-07-23T18:32:20.823852Z"
    }
   },
   "cell_type": "code",
   "source": [
    "# Another way to do the same thing\n",
    "numbers = [1, 2, 3, 4, 5, 1, 2, 3, 4, 1, 2, 1, 1]\n",
    "counter = {}\n",
    "for num in numbers:\n",
    "    if num in counter:\n",
    "        counter[num] += 1\n",
    "    else:\n",
    "        counter[num] = 1\n",
    "print(counter)        "
   ],
   "id": "c485cea2c77f45ea",
   "outputs": [
    {
     "name": "stdout",
     "output_type": "stream",
     "text": [
      "{1: 5, 2: 3, 3: 2, 4: 2, 5: 1}\n"
     ]
    }
   ],
   "execution_count": 46
  },
  {
   "metadata": {
    "ExecuteTime": {
     "end_time": "2024-07-23T18:35:18.923686Z",
     "start_time": "2024-07-23T18:35:18.916332Z"
    }
   },
   "cell_type": "code",
   "source": [
    "# Merge two dictionaries\n",
    "dict1 = {\"name\" : \"John\", \"age\" : 25}\n",
    "dict2 = {\"courses\" : [\"Math\", \"CompSci\"], \"phone\" : \"555-5555\"}\n",
    "dict1.update(dict2)\n",
    "print(dict1)\n"
   ],
   "id": "a3e71b0017713f00",
   "outputs": [
    {
     "name": "stdout",
     "output_type": "stream",
     "text": [
      "{'name': 'John', 'age': 25, 'courses': ['Math', 'CompSci'], 'phone': '555-5555'}\n"
     ]
    }
   ],
   "execution_count": 47
  },
  {
   "metadata": {
    "ExecuteTime": {
     "end_time": "2024-07-23T18:36:28.468068Z",
     "start_time": "2024-07-23T18:36:28.463242Z"
    }
   },
   "cell_type": "code",
   "source": [
    "# Another way to merge two dictionaries\n",
    "dict1 = {\"name\" : \"John\", \"age\" : 25}\n",
    "dict2 = {\"courses\" : [\"Math\", \"CompSci\"], \"phone\" : \"555-5555\"}\n",
    "dict3 = {**dict1, **dict2} # Unpacking - Any number of dictionaries can be merged\n",
    "print(dict3)"
   ],
   "id": "72b13b836cb0e6dc",
   "outputs": [
    {
     "name": "stdout",
     "output_type": "stream",
     "text": [
      "{'name': 'John', 'age': 25, 'courses': ['Math', 'CompSci'], 'phone': '555-5555'}\n"
     ]
    }
   ],
   "execution_count": 48
  },
  {
   "metadata": {},
   "cell_type": "code",
   "outputs": [],
   "execution_count": null,
   "source": "",
   "id": "aa5d9099157c5cd6"
  }
 ],
 "metadata": {
  "kernelspec": {
   "display_name": "Python 3",
   "language": "python",
   "name": "python3"
  },
  "language_info": {
   "codemirror_mode": {
    "name": "ipython",
    "version": 2
   },
   "file_extension": ".py",
   "mimetype": "text/x-python",
   "name": "python",
   "nbconvert_exporter": "python",
   "pygments_lexer": "ipython2",
   "version": "2.7.6"
  }
 },
 "nbformat": 4,
 "nbformat_minor": 5
}

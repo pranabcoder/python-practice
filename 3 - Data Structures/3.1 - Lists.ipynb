{
 "cells": [
  {
   "metadata": {},
   "cell_type": "markdown",
   "source": [
    "Introduction to Lists\n",
    "1. Lists are ordered, mutable collection of items.\n",
    "2. They can contain items of different types.\n",
    "\n",
    "Video Outline:\n",
    "1. Introduction to Lists\n",
    "2. Creating Lists\n",
    "3. Accessing List Items\n",
    "4. Modifying List Items\n",
    "5. List Methods\n",
    "6. Slicing Lists\n",
    "7. Iterating over Lists\n",
    "8. List Comprehensions\n",
    "9. Nested Lists\n",
    "10. Practical Examples and Common Errors"
   ],
   "id": "25de53976947f34e"
  },
  {
   "metadata": {
    "ExecuteTime": {
     "end_time": "2024-07-20T15:13:12.473261Z",
     "start_time": "2024-07-20T15:13:12.464674Z"
    }
   },
   "cell_type": "code",
   "source": [
    "# Example 1: Creating Lists\n",
    "my_list = []\n",
    "print(type(my_list))"
   ],
   "id": "fa56893c8d0ad9c2",
   "outputs": [
    {
     "name": "stdout",
     "output_type": "stream",
     "text": [
      "<class 'list'>\n"
     ]
    }
   ],
   "execution_count": 1
  },
  {
   "metadata": {
    "ExecuteTime": {
     "end_time": "2024-07-20T15:15:12.144984Z",
     "start_time": "2024-07-20T15:15:12.138474Z"
    }
   },
   "cell_type": "code",
   "source": [
    "names = ['John', 'Jack', 'Jacob', 'Jerry'];\n",
    "print(names)"
   ],
   "id": "100aa34ebd9b0118",
   "outputs": [
    {
     "name": "stdout",
     "output_type": "stream",
     "text": [
      "['John', 'Jack', 'Jacob', 'Jerry']\n"
     ]
    }
   ],
   "execution_count": 2
  },
  {
   "metadata": {
    "ExecuteTime": {
     "end_time": "2024-07-20T15:16:04.379958Z",
     "start_time": "2024-07-20T15:16:04.374407Z"
    }
   },
   "cell_type": "code",
   "source": [
    "mixed_list = ['John', 25, 5.5, True];\n",
    "print(mixed_list)"
   ],
   "id": "a89ba9ddafb8b73e",
   "outputs": [
    {
     "name": "stdout",
     "output_type": "stream",
     "text": [
      "['John', 25, 5.5, True]\n"
     ]
    }
   ],
   "execution_count": 3
  },
  {
   "metadata": {
    "ExecuteTime": {
     "end_time": "2024-07-20T15:23:13.928876Z",
     "start_time": "2024-07-20T15:23:13.922511Z"
    }
   },
   "cell_type": "code",
   "source": [
    "# Example 2: Accessing List Items\n",
    "fruits = ['Apple', 'Banana', 'Cherry', 'Date'];\n",
    "print(fruits[0])"
   ],
   "id": "2136790bfb60dd01",
   "outputs": [
    {
     "name": "stdout",
     "output_type": "stream",
     "text": [
      "Apple\n"
     ]
    }
   ],
   "execution_count": 4
  },
  {
   "metadata": {
    "ExecuteTime": {
     "end_time": "2024-07-20T16:25:24.132829Z",
     "start_time": "2024-07-20T16:25:24.127273Z"
    }
   },
   "cell_type": "code",
   "source": [
    "print(fruits[3])\n",
    "print(fruits[-1]) # -1 refers to the last element"
   ],
   "id": "ce24654f1a77cff0",
   "outputs": [
    {
     "name": "stdout",
     "output_type": "stream",
     "text": [
      "Date\n",
      "Date\n"
     ]
    }
   ],
   "execution_count": 7
  },
  {
   "metadata": {
    "ExecuteTime": {
     "end_time": "2024-07-20T16:27:17.446088Z",
     "start_time": "2024-07-20T16:27:17.440724Z"
    }
   },
   "cell_type": "code",
   "source": [
    "# Example 3: print from 2nd element to last element\n",
    "print(fruits[1:])"
   ],
   "id": "b3d25f4125853e82",
   "outputs": [
    {
     "name": "stdout",
     "output_type": "stream",
     "text": [
      "['Banana', 'Cherry', 'Date']\n"
     ]
    }
   ],
   "execution_count": 8
  },
  {
   "metadata": {
    "ExecuteTime": {
     "end_time": "2024-07-20T16:28:27.426364Z",
     "start_time": "2024-07-20T16:28:27.421855Z"
    }
   },
   "cell_type": "code",
   "source": [
    "# Example 4: print from 2nd element to 3rd element\n",
    "print(fruits[1:3])"
   ],
   "id": "434877f3215f5a65",
   "outputs": [
    {
     "name": "stdout",
     "output_type": "stream",
     "text": [
      "['Banana', 'Cherry']\n"
     ]
    }
   ],
   "execution_count": 9
  },
  {
   "metadata": {
    "ExecuteTime": {
     "end_time": "2024-07-20T16:29:41.275300Z",
     "start_time": "2024-07-20T16:29:41.269599Z"
    }
   },
   "cell_type": "code",
   "source": [
    "# Example 5: print -1 to 2 elements\n",
    "print(fruits[-1:2])"
   ],
   "id": "eb0b348b7fec5112",
   "outputs": [
    {
     "name": "stdout",
     "output_type": "stream",
     "text": [
      "[]\n"
     ]
    }
   ],
   "execution_count": 10
  },
  {
   "metadata": {
    "ExecuteTime": {
     "end_time": "2024-07-20T16:30:45.738641Z",
     "start_time": "2024-07-20T16:30:45.734093Z"
    }
   },
   "cell_type": "code",
   "source": [
    "# Example 6: Modifying List Items\n",
    "fruits[0] = 'Apricot'\n",
    "print(fruits);"
   ],
   "id": "b9809bce02a7ec7d",
   "outputs": [
    {
     "name": "stdout",
     "output_type": "stream",
     "text": [
      "['Apricot', 'Banana', 'Cherry', 'Date']\n"
     ]
    }
   ],
   "execution_count": 11
  },
  {
   "metadata": {
    "ExecuteTime": {
     "end_time": "2024-07-20T17:25:33.086222Z",
     "start_time": "2024-07-20T17:25:33.082045Z"
    }
   },
   "cell_type": "code",
   "source": [
    "# Example 7: Modifying multiple List Items\n",
    "fruits[1:] = \"watermelon\""
   ],
   "id": "f4ba95175a8db9f4",
   "outputs": [],
   "execution_count": 12
  },
  {
   "metadata": {
    "ExecuteTime": {
     "end_time": "2024-07-20T17:25:36.629912Z",
     "start_time": "2024-07-20T17:25:36.623918Z"
    }
   },
   "cell_type": "code",
   "source": "print(fruits)",
   "id": "a87b549447b7fd0d",
   "outputs": [
    {
     "name": "stdout",
     "output_type": "stream",
     "text": [
      "['Apricot', 'w', 'a', 't', 'e', 'r', 'm', 'e', 'l', 'o', 'n']\n"
     ]
    }
   ],
   "execution_count": 13
  },
  {
   "metadata": {
    "ExecuteTime": {
     "end_time": "2024-07-21T05:15:04.669696Z",
     "start_time": "2024-07-21T05:15:04.664854Z"
    }
   },
   "cell_type": "code",
   "source": [
    "# Example 8: List Methods\n",
    "# Example 8.1: append() - add an element to the end of the list\n",
    "fruits = ['Apple', 'Banana', 'Cherry', 'Date', 'Elderberry']"
   ],
   "id": "8b56556928132dcd",
   "outputs": [],
   "execution_count": 2
  },
  {
   "metadata": {
    "ExecuteTime": {
     "end_time": "2024-07-21T05:15:10.441167Z",
     "start_time": "2024-07-21T05:15:10.435767Z"
    }
   },
   "cell_type": "code",
   "source": "fruits.append('Fig')",
   "id": "973e8fdfaa699ff9",
   "outputs": [],
   "execution_count": 3
  },
  {
   "metadata": {
    "ExecuteTime": {
     "end_time": "2024-07-20T17:28:16.394894Z",
     "start_time": "2024-07-20T17:28:16.388314Z"
    }
   },
   "cell_type": "code",
   "source": "print(fruits)",
   "id": "c2217e2e8df68e67",
   "outputs": [
    {
     "name": "stdout",
     "output_type": "stream",
     "text": [
      "['Apple', 'Banana', 'Cherry', 'Date', 'Elderberry', 'Fig']\n"
     ]
    }
   ],
   "execution_count": 17
  },
  {
   "metadata": {
    "ExecuteTime": {
     "end_time": "2024-07-21T05:15:14.172631Z",
     "start_time": "2024-07-21T05:15:14.167922Z"
    }
   },
   "cell_type": "code",
   "source": [
    "# Example 8.2: insert() - add an element at a specific index\n",
    "fruits.insert(2, 'Blueberry')"
   ],
   "id": "42cc77b0930c5166",
   "outputs": [],
   "execution_count": 4
  },
  {
   "metadata": {
    "ExecuteTime": {
     "end_time": "2024-07-20T17:29:59.580352Z",
     "start_time": "2024-07-20T17:29:59.575925Z"
    }
   },
   "cell_type": "code",
   "source": "print(fruits)",
   "id": "ce646d102446c921",
   "outputs": [
    {
     "name": "stdout",
     "output_type": "stream",
     "text": [
      "['Apple', 'Banana', 'Blueberry', 'Cherry', 'Date', 'Elderberry', 'Fig']\n"
     ]
    }
   ],
   "execution_count": 19
  },
  {
   "metadata": {
    "ExecuteTime": {
     "end_time": "2024-07-20T17:31:12.494752Z",
     "start_time": "2024-07-20T17:31:12.489616Z"
    }
   },
   "cell_type": "code",
   "source": [
    "# Example 8.3: remove() - remove an element from the list\n",
    "fruits.remove('Banana') # removes the first occurrence of an item"
   ],
   "id": "18cbd599b63c4d58",
   "outputs": [],
   "execution_count": 20
  },
  {
   "metadata": {
    "ExecuteTime": {
     "end_time": "2024-07-20T17:31:15.327001Z",
     "start_time": "2024-07-20T17:31:15.321362Z"
    }
   },
   "cell_type": "code",
   "source": "print(fruits)",
   "id": "db370d4fd073702",
   "outputs": [
    {
     "name": "stdout",
     "output_type": "stream",
     "text": [
      "['Apple', 'Blueberry', 'Cherry', 'Date', 'Elderberry', 'Fig']\n"
     ]
    }
   ],
   "execution_count": 21
  },
  {
   "metadata": {
    "ExecuteTime": {
     "end_time": "2024-07-21T05:15:19.902416Z",
     "start_time": "2024-07-21T05:15:19.898581Z"
    }
   },
   "cell_type": "code",
   "source": [
    "# Example 8.4: pop() - remove an element and return the last element\n",
    "propped_fruit = fruits.pop()\n",
    "print(propped_fruit)"
   ],
   "id": "435063dd23e21f23",
   "outputs": [
    {
     "name": "stdout",
     "output_type": "stream",
     "text": [
      "Fig\n"
     ]
    }
   ],
   "execution_count": 5
  },
  {
   "metadata": {
    "ExecuteTime": {
     "end_time": "2024-07-21T05:15:21.982604Z",
     "start_time": "2024-07-21T05:15:21.977374Z"
    }
   },
   "cell_type": "code",
   "source": "print(fruits)",
   "id": "2f01f77f329b7335",
   "outputs": [
    {
     "name": "stdout",
     "output_type": "stream",
     "text": [
      "['Apple', 'Banana', 'Blueberry', 'Cherry', 'Date', 'Elderberry']\n"
     ]
    }
   ],
   "execution_count": 6
  },
  {
   "metadata": {
    "ExecuteTime": {
     "end_time": "2024-07-21T05:15:27.692498Z",
     "start_time": "2024-07-21T05:15:27.685886Z"
    }
   },
   "cell_type": "code",
   "source": [
    "# Example 8.5: get the index of an element using string\n",
    "print(fruits.index('Cherry'))"
   ],
   "id": "2e6daa0ab2440740",
   "outputs": [
    {
     "name": "stdout",
     "output_type": "stream",
     "text": [
      "3\n"
     ]
    }
   ],
   "execution_count": 7
  },
  {
   "metadata": {
    "ExecuteTime": {
     "end_time": "2024-07-21T05:27:04.443016Z",
     "start_time": "2024-07-21T05:27:04.438390Z"
    }
   },
   "cell_type": "code",
   "source": "fruits.insert(2, 'Banana')",
   "id": "2f1b1215d7001875",
   "outputs": [],
   "execution_count": 8
  },
  {
   "metadata": {
    "ExecuteTime": {
     "end_time": "2024-07-21T05:27:06.747764Z",
     "start_time": "2024-07-21T05:27:06.743524Z"
    }
   },
   "cell_type": "code",
   "source": "print(fruits)",
   "id": "6079694b1512180e",
   "outputs": [
    {
     "name": "stdout",
     "output_type": "stream",
     "text": [
      "['Apple', 'Banana', 'Banana', 'Blueberry', 'Cherry', 'Date', 'Elderberry']\n"
     ]
    }
   ],
   "execution_count": 9
  },
  {
   "metadata": {
    "ExecuteTime": {
     "end_time": "2024-07-21T05:28:15.141563Z",
     "start_time": "2024-07-21T05:28:15.136394Z"
    }
   },
   "cell_type": "code",
   "source": [
    "# Example 8.6: count() - count the number of occurrences of an element\n",
    "print(fruits.count('Banana'))"
   ],
   "id": "546d4d30d4aef69d",
   "outputs": [
    {
     "name": "stdout",
     "output_type": "stream",
     "text": [
      "2\n"
     ]
    }
   ],
   "execution_count": 10
  },
  {
   "metadata": {
    "ExecuteTime": {
     "end_time": "2024-07-21T05:29:32.068187Z",
     "start_time": "2024-07-21T05:29:32.060188Z"
    }
   },
   "cell_type": "code",
   "source": [
    "# Example 8.7: sort() - sort the list in ascending order\n",
    "print(fruits)"
   ],
   "id": "4ea1d7d62e3fee87",
   "outputs": [
    {
     "name": "stdout",
     "output_type": "stream",
     "text": [
      "['Apple', 'Banana', 'Banana', 'Blueberry', 'Cherry', 'Date', 'Elderberry']\n"
     ]
    }
   ],
   "execution_count": 11
  },
  {
   "metadata": {
    "ExecuteTime": {
     "end_time": "2024-07-21T05:29:35.223036Z",
     "start_time": "2024-07-21T05:29:35.218759Z"
    }
   },
   "cell_type": "code",
   "source": "fruits.sort()",
   "id": "d79099fd08d59731",
   "outputs": [],
   "execution_count": 12
  },
  {
   "metadata": {
    "ExecuteTime": {
     "end_time": "2024-07-21T05:30:48.268248Z",
     "start_time": "2024-07-21T05:30:48.262979Z"
    }
   },
   "cell_type": "code",
   "source": [
    "fruits.insert(2, 'watermelon')\n",
    "print(fruits)"
   ],
   "id": "620883f1e6f4156f",
   "outputs": [
    {
     "name": "stdout",
     "output_type": "stream",
     "text": [
      "['Apple', 'Banana', 'watermelon', 'Banana', 'Blueberry', 'Cherry', 'Date', 'Elderberry']\n"
     ]
    }
   ],
   "execution_count": 14
  },
  {
   "metadata": {
    "ExecuteTime": {
     "end_time": "2024-07-21T05:31:10.180500Z",
     "start_time": "2024-07-21T05:31:10.175858Z"
    }
   },
   "cell_type": "code",
   "source": "fruits.sort()",
   "id": "f1534c9fb6092dfb",
   "outputs": [],
   "execution_count": 16
  },
  {
   "metadata": {
    "ExecuteTime": {
     "end_time": "2024-07-21T05:31:16.403644Z",
     "start_time": "2024-07-21T05:31:16.398713Z"
    }
   },
   "cell_type": "code",
   "source": "print(fruits)",
   "id": "efbf4bcdb066b08a",
   "outputs": [
    {
     "name": "stdout",
     "output_type": "stream",
     "text": [
      "['Apple', 'Banana', 'Banana', 'Blueberry', 'Cherry', 'Date', 'Elderberry', 'watermelon']\n"
     ]
    }
   ],
   "execution_count": 17
  },
  {
   "metadata": {
    "ExecuteTime": {
     "end_time": "2024-07-21T05:32:20.221678Z",
     "start_time": "2024-07-21T05:32:20.216299Z"
    }
   },
   "cell_type": "code",
   "source": [
    "# Example 8.8: reverse() - reverse the list\n",
    "fruits.reverse()\n",
    "print(fruits)"
   ],
   "id": "1cf28671cc1542fc",
   "outputs": [
    {
     "name": "stdout",
     "output_type": "stream",
     "text": [
      "['watermelon', 'Elderberry', 'Date', 'Cherry', 'Blueberry', 'Banana', 'Banana', 'Apple']\n"
     ]
    }
   ],
   "execution_count": 18
  },
  {
   "metadata": {
    "ExecuteTime": {
     "end_time": "2024-07-21T05:33:11.026479Z",
     "start_time": "2024-07-21T05:33:11.021062Z"
    }
   },
   "cell_type": "code",
   "source": [
    "# Example 9: clear() - clear the list\n",
    "fruits.clear() # removes all the elements from the list"
   ],
   "id": "104331300022058",
   "outputs": [],
   "execution_count": 19
  },
  {
   "metadata": {
    "ExecuteTime": {
     "end_time": "2024-07-21T05:33:13.327556Z",
     "start_time": "2024-07-21T05:33:13.322534Z"
    }
   },
   "cell_type": "code",
   "source": "print(fruits)",
   "id": "1195ff0fe04cc9d4",
   "outputs": [
    {
     "name": "stdout",
     "output_type": "stream",
     "text": [
      "[]\n"
     ]
    }
   ],
   "execution_count": 20
  },
  {
   "metadata": {
    "ExecuteTime": {
     "end_time": "2024-07-21T05:40:51.199807Z",
     "start_time": "2024-07-21T05:40:51.193997Z"
    }
   },
   "cell_type": "code",
   "source": [
    "# Example 10: Slicing Lists\n",
    "numbers = [1, 2, 3, 4, 5, 6, 7, 8, 9, 10]\n",
    "print(numbers[2:5]) # 2nd to 5th element\n",
    "print(numbers[:5]) # 1st to 5th element\n",
    "print(numbers[5:]) # 5th to last element\n",
    "print(numbers[::2]) # :: means all the elements and 2 means every 2nd element\n",
    "print(numbers[::-1]) # :: means all the elements and -1 means reverse order of elements with step size 1\n",
    "print(numbers[::-2]) # :: means all the elements and -2 means reverse order of elements with step size 2"
   ],
   "id": "64bd03fc20f810d3",
   "outputs": [
    {
     "name": "stdout",
     "output_type": "stream",
     "text": [
      "[3, 4, 5]\n",
      "[1, 2, 3, 4, 5]\n",
      "[6, 7, 8, 9, 10]\n",
      "[1, 3, 5, 7, 9]\n",
      "[10, 9, 8, 7, 6, 5, 4, 3, 2, 1]\n",
      "[10, 8, 6, 4, 2]\n"
     ]
    }
   ],
   "execution_count": 26
  },
  {
   "metadata": {
    "ExecuteTime": {
     "end_time": "2024-07-21T05:42:20.210529Z",
     "start_time": "2024-07-21T05:42:20.204164Z"
    }
   },
   "cell_type": "code",
   "source": [
    "# Example 11: Iterating over Lists\n",
    "fruits = ['Apple', 'Banana', 'Cherry', 'Date']\n",
    "for fruit in fruits:\n",
    "    print(fruit)"
   ],
   "id": "d3aefa754f1e71f4",
   "outputs": [
    {
     "name": "stdout",
     "output_type": "stream",
     "text": [
      "Apple\n",
      "Banana\n",
      "Cherry\n",
      "Date\n"
     ]
    }
   ],
   "execution_count": 27
  },
  {
   "metadata": {
    "ExecuteTime": {
     "end_time": "2024-07-21T05:42:47.719356Z",
     "start_time": "2024-07-21T05:42:47.714562Z"
    }
   },
   "cell_type": "code",
   "source": [
    "for number in numbers:\n",
    "    print(number)"
   ],
   "id": "d5048e305a9f6ecd",
   "outputs": [
    {
     "name": "stdout",
     "output_type": "stream",
     "text": [
      "1\n",
      "2\n",
      "3\n",
      "4\n",
      "5\n",
      "6\n",
      "7\n",
      "8\n",
      "9\n",
      "10\n"
     ]
    }
   ],
   "execution_count": 28
  },
  {
   "metadata": {
    "ExecuteTime": {
     "end_time": "2024-07-21T06:43:48.662320Z",
     "start_time": "2024-07-21T06:43:48.657710Z"
    }
   },
   "cell_type": "code",
   "source": [
    "# Example 12: Iterating over Lists with index\n",
    "for index, fruit in enumerate(fruits):\n",
    "    print(index, fruit) # enumerate() returns index and value"
   ],
   "id": "693b7cef7c53b45f",
   "outputs": [
    {
     "name": "stdout",
     "output_type": "stream",
     "text": [
      "0 Apple\n",
      "1 Banana\n",
      "2 Cherry\n",
      "3 Date\n"
     ]
    }
   ],
   "execution_count": 29
  },
  {
   "metadata": {
    "ExecuteTime": {
     "end_time": "2024-07-21T08:08:44.494584Z",
     "start_time": "2024-07-21T08:08:44.488727Z"
    }
   },
   "cell_type": "code",
   "source": [
    "# Example 13: List Comprehensions\n",
    "lst = []\n",
    "for i in range(1, 10):\n",
    "    lst.append(i ** 2)\n",
    "print(lst)    "
   ],
   "id": "819a3e66f3da8b0d",
   "outputs": [
    {
     "name": "stdout",
     "output_type": "stream",
     "text": [
      "[1, 4, 9, 16, 25, 36, 49, 64, 81]\n"
     ]
    }
   ],
   "execution_count": 31
  },
  {
   "metadata": {
    "ExecuteTime": {
     "end_time": "2024-07-21T08:37:43.468121Z",
     "start_time": "2024-07-21T08:37:43.461286Z"
    }
   },
   "cell_type": "code",
   "source": "square = [i ** 2 for i in range(1, 10)] # list comprehension",
   "id": "931130d3fd7f5f67",
   "outputs": [
    {
     "name": "stdout",
     "output_type": "stream",
     "text": [
      "[1, 4, 9, 16, 25, 36, 49, 64, 81]\n"
     ]
    }
   ],
   "execution_count": 32
  },
  {
   "metadata": {},
   "cell_type": "markdown",
   "source": [
    "List Comprehensions\n",
    "Basic Syntax: [expression for item in iterable]\n",
    "with conditional logic: [expression for item in iterable if condition]\n",
    "Nested List Comprehensions: [expression for item1 in iterable1 and item2 in iterable2]"
   ],
   "id": "9fc315c6cf2f63ab"
  },
  {
   "metadata": {
    "ExecuteTime": {
     "end_time": "2024-07-21T08:44:31.525272Z",
     "start_time": "2024-07-21T08:44:31.518945Z"
    }
   },
   "cell_type": "code",
   "source": [
    "# Example 14: List Comprehensions basic syntax\n",
    "square_of_numbers = [num ** 2 for num in range(1, 10)]\n",
    "print(square_of_numbers)"
   ],
   "id": "f0a5b64b5725e86b",
   "outputs": [
    {
     "name": "stdout",
     "output_type": "stream",
     "text": [
      "[1, 4, 9, 16, 25, 36, 49, 64, 81]\n"
     ]
    }
   ],
   "execution_count": 33
  },
  {
   "metadata": {
    "ExecuteTime": {
     "end_time": "2024-07-21T08:52:29.671678Z",
     "start_time": "2024-07-21T08:52:29.664576Z"
    }
   },
   "cell_type": "code",
   "source": [
    "# Example 15: List Comprehensions with conditional logic\n",
    "even_numbers = [num for num in range(1, 10) if num % 2 == 0]\n",
    "print(even_numbers)"
   ],
   "id": "34033b28efa1bb81",
   "outputs": [
    {
     "name": "stdout",
     "output_type": "stream",
     "text": [
      "[2, 4, 6, 8]\n"
     ]
    }
   ],
   "execution_count": 34
  },
  {
   "metadata": {
    "ExecuteTime": {
     "end_time": "2024-07-21T08:57:56.885778Z",
     "start_time": "2024-07-21T08:57:56.879678Z"
    }
   },
   "cell_type": "code",
   "source": [
    "# Example 16: Nested Lists Comprehensions\n",
    "lst1 = [1, 2, 3, 4]\n",
    "lst2 = ['a', 'b', 'c', 'd']\n",
    "combined_list = [[num, char] for num in lst1 for char in lst2]\n",
    "print(combined_list)"
   ],
   "id": "c3b4b4a8508ac3a6",
   "outputs": [
    {
     "name": "stdout",
     "output_type": "stream",
     "text": [
      "[[1, 'a'], [1, 'b'], [1, 'c'], [1, 'd'], [2, 'a'], [2, 'b'], [2, 'c'], [2, 'd'], [3, 'a'], [3, 'b'], [3, 'c'], [3, 'd'], [4, 'a'], [4, 'b'], [4, 'c'], [4, 'd']]\n"
     ]
    }
   ],
   "execution_count": 36
  },
  {
   "metadata": {
    "ExecuteTime": {
     "end_time": "2024-07-21T09:00:45.720624Z",
     "start_time": "2024-07-21T09:00:45.712244Z"
    }
   },
   "cell_type": "code",
   "source": [
    "# Lists comprehension with function calls\n",
    "words = ['hello', 'world', 'foo', 'bar', 'test']\n",
    "lengths = [len(word) for word in words]\n",
    "print(lengths)"
   ],
   "id": "5a15d40ebea1b7a5",
   "outputs": [
    {
     "name": "stdout",
     "output_type": "stream",
     "text": [
      "[5, 5, 3, 3, 4]\n"
     ]
    }
   ],
   "execution_count": 37
  },
  {
   "metadata": {},
   "cell_type": "code",
   "outputs": [],
   "execution_count": null,
   "source": "",
   "id": "c0d1e08844a7d1a2"
  }
 ],
 "metadata": {
  "kernelspec": {
   "display_name": "Python 3",
   "language": "python",
   "name": "python3"
  },
  "language_info": {
   "codemirror_mode": {
    "name": "ipython",
    "version": 2
   },
   "file_extension": ".py",
   "mimetype": "text/x-python",
   "name": "python",
   "nbconvert_exporter": "python",
   "pygments_lexer": "ipython2",
   "version": "2.7.6"
  }
 },
 "nbformat": 4,
 "nbformat_minor": 5
}

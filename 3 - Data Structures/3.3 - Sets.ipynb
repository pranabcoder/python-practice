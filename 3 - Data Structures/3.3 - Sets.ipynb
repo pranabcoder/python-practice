{
 "cells": [
  {
   "cell_type": "code",
   "id": "initial_id",
   "metadata": {
    "collapsed": true,
    "ExecuteTime": {
     "end_time": "2024-07-21T17:20:40.537109Z",
     "start_time": "2024-07-21T17:20:40.529625Z"
    }
   },
   "source": [
    "# Create a set\n",
    "my_set = {1, 2, 3, 4, 5}\n",
    "print(my_set)\n",
    "print(type(my_set))"
   ],
   "outputs": [
    {
     "name": "stdout",
     "output_type": "stream",
     "text": [
      "{1, 2, 3, 4, 5}\n",
      "<class 'set'>\n"
     ]
    }
   ],
   "execution_count": 1
  },
  {
   "metadata": {
    "ExecuteTime": {
     "end_time": "2024-07-21T17:22:00.350469Z",
     "start_time": "2024-07-21T17:22:00.344464Z"
    }
   },
   "cell_type": "code",
   "source": [
    "my_empty_set = set()\n",
    "print(my_empty_set)\n",
    "print(type(my_empty_set))"
   ],
   "id": "e3d9c1759eea2f94",
   "outputs": [
    {
     "name": "stdout",
     "output_type": "stream",
     "text": [
      "set()\n",
      "<class 'set'>\n"
     ]
    }
   ],
   "execution_count": 2
  },
  {
   "metadata": {
    "ExecuteTime": {
     "end_time": "2024-07-21T17:23:51.301553Z",
     "start_time": "2024-07-21T17:23:51.296390Z"
    }
   },
   "cell_type": "code",
   "source": [
    "# Example - 1 - put a list into a set\n",
    "my_empty_set = set([1, 2, 3, 4, 5])\n",
    "print(my_empty_set)\n",
    "print(type(my_empty_set))"
   ],
   "id": "f7462292f177d886",
   "outputs": [
    {
     "name": "stdout",
     "output_type": "stream",
     "text": [
      "{1, 2, 3, 4, 5}\n",
      "<class 'set'>\n"
     ]
    }
   ],
   "execution_count": 4
  },
  {
   "metadata": {
    "ExecuteTime": {
     "end_time": "2024-07-21T17:26:33.908190Z",
     "start_time": "2024-07-21T17:26:33.902829Z"
    }
   },
   "cell_type": "code",
   "source": [
    "# Example - 2 - with duplicate values\n",
    "my_set = {1, 2, 3, 6, 4, 5, 5, 6}\n",
    "print(my_set) # ignore duplicate values and print unique values"
   ],
   "id": "d400d853f994dd",
   "outputs": [
    {
     "name": "stdout",
     "output_type": "stream",
     "text": [
      "{1, 2, 3, 4, 5, 6}\n"
     ]
    }
   ],
   "execution_count": 6
  },
  {
   "metadata": {
    "ExecuteTime": {
     "end_time": "2024-07-21T17:27:51.305269Z",
     "start_time": "2024-07-21T17:27:51.300588Z"
    }
   },
   "cell_type": "code",
   "source": [
    "# Basic set operations\n",
    "# add() - add an element to a set\n",
    "# remove() - remove an element from a set"
   ],
   "id": "3a9ab0efa0fe429a",
   "outputs": [],
   "execution_count": 7
  },
  {
   "metadata": {
    "ExecuteTime": {
     "end_time": "2024-07-21T17:28:04.293876Z",
     "start_time": "2024-07-21T17:28:04.288330Z"
    }
   },
   "cell_type": "code",
   "source": [
    "# Example - 1 - add an element to a set\n",
    "my_set = {1, 2, 3, 4, 5}\n",
    "my_set.add(6)\n",
    "print(my_set)"
   ],
   "id": "f259fd4c371f3333",
   "outputs": [
    {
     "name": "stdout",
     "output_type": "stream",
     "text": [
      "{1, 2, 3, 4, 5, 6}\n"
     ]
    }
   ],
   "execution_count": 8
  },
  {
   "metadata": {
    "ExecuteTime": {
     "end_time": "2024-07-21T17:29:41.229925Z",
     "start_time": "2024-07-21T17:29:41.225314Z"
    }
   },
   "cell_type": "code",
   "source": [
    "# Example - 2 - remove an element from a set\n",
    "my_set = {1, 2, 3, 4, 5}\n",
    "my_set.remove(4)\n",
    "print(my_set)"
   ],
   "id": "f57b7cb276b9b639",
   "outputs": [
    {
     "name": "stdout",
     "output_type": "stream",
     "text": [
      "{1, 2, 3, 5}\n"
     ]
    }
   ],
   "execution_count": 9
  },
  {
   "metadata": {
    "ExecuteTime": {
     "end_time": "2024-07-21T17:30:47.329425Z",
     "start_time": "2024-07-21T17:30:46.838028Z"
    }
   },
   "cell_type": "code",
   "source": [
    "# Example - 3 - remove an element that does not exist\n",
    "my_set = {1, 2, 3, 4, 5}\n",
    "my_set.remove(6) # KeyError: 6\n",
    "print(my_set)"
   ],
   "id": "95cf8bfce497120",
   "outputs": [
    {
     "ename": "KeyError",
     "evalue": "6",
     "output_type": "error",
     "traceback": [
      "\u001B[1;31m---------------------------------------------------------------------------\u001B[0m",
      "\u001B[1;31mKeyError\u001B[0m                                  Traceback (most recent call last)",
      "Cell \u001B[1;32mIn[10], line 3\u001B[0m\n\u001B[0;32m      1\u001B[0m \u001B[38;5;66;03m# Example - 3 - remove an element that does not exist\u001B[39;00m\n\u001B[0;32m      2\u001B[0m my_set \u001B[38;5;241m=\u001B[39m {\u001B[38;5;241m1\u001B[39m, \u001B[38;5;241m2\u001B[39m, \u001B[38;5;241m3\u001B[39m, \u001B[38;5;241m4\u001B[39m, \u001B[38;5;241m5\u001B[39m}\n\u001B[1;32m----> 3\u001B[0m my_set\u001B[38;5;241m.\u001B[39mremove(\u001B[38;5;241m6\u001B[39m) \u001B[38;5;66;03m# KeyError: 6\u001B[39;00m\n\u001B[0;32m      4\u001B[0m \u001B[38;5;28mprint\u001B[39m(my_set)\n",
      "\u001B[1;31mKeyError\u001B[0m: 6"
     ]
    }
   ],
   "execution_count": 10
  },
  {
   "metadata": {
    "ExecuteTime": {
     "end_time": "2024-07-21T17:31:17.268018Z",
     "start_time": "2024-07-21T17:31:17.263769Z"
    }
   },
   "cell_type": "code",
   "source": [
    "# Example - 4 - remove an element that does not exist\n",
    "my_set = {1, 2, 3, 4, 5}\n",
    "my_set.discard(6) # no error if the element does not exist\n",
    "print(my_set)"
   ],
   "id": "b59b41843f0e2b32",
   "outputs": [
    {
     "name": "stdout",
     "output_type": "stream",
     "text": [
      "{1, 2, 3, 4, 5}\n"
     ]
    }
   ],
   "execution_count": 11
  },
  {
   "metadata": {
    "ExecuteTime": {
     "end_time": "2024-07-21T17:38:13.263352Z",
     "start_time": "2024-07-21T17:38:13.258826Z"
    }
   },
   "cell_type": "code",
   "source": [
    "# Example - 5 - pop an element from a set\n",
    "# pop() - remove from the beginning\n",
    "my_set = {1, 2, 3, 4, 5}\n",
    "my_set.pop()\n",
    "print(my_set)"
   ],
   "id": "a92124ad2bcf6b54",
   "outputs": [
    {
     "name": "stdout",
     "output_type": "stream",
     "text": [
      "{2, 3, 4, 5}\n"
     ]
    }
   ],
   "execution_count": 12
  },
  {
   "metadata": {
    "ExecuteTime": {
     "end_time": "2024-07-21T17:38:59.403347Z",
     "start_time": "2024-07-21T17:38:59.398679Z"
    }
   },
   "cell_type": "code",
   "source": [
    "# Example - 6 - clear a set\n",
    "my_set = {1, 2, 3, 4, 5}\n",
    "my_set.clear()\n",
    "print(my_set)"
   ],
   "id": "508d7a76890a28ed",
   "outputs": [
    {
     "name": "stdout",
     "output_type": "stream",
     "text": [
      "set()\n"
     ]
    }
   ],
   "execution_count": 13
  },
  {
   "metadata": {
    "ExecuteTime": {
     "end_time": "2024-07-21T17:39:52.418840Z",
     "start_time": "2024-07-21T17:39:52.414525Z"
    }
   },
   "cell_type": "code",
   "source": [
    "# Example - 7 - set membership test\n",
    "# in - check if an element is in a set\n",
    "my_set = {1, 2, 3, 4, 5}\n",
    "print(1 in my_set)"
   ],
   "id": "d573070993b499dd",
   "outputs": [
    {
     "name": "stdout",
     "output_type": "stream",
     "text": [
      "True\n"
     ]
    }
   ],
   "execution_count": 14
  },
  {
   "metadata": {
    "ExecuteTime": {
     "end_time": "2024-07-21T17:41:10.601334Z",
     "start_time": "2024-07-21T17:41:10.596716Z"
    }
   },
   "cell_type": "code",
   "source": [
    "# Example - 8 - mathematical set operations\n",
    "# union() - return a set containing the union of sets\n",
    "# intersection() - return a set containing the intersection of sets\n",
    "# difference() - return a set containing the difference between two sets\n",
    "# symmetric_difference() - return a set containing the symmetric difference\n"
   ],
   "id": "cd614c6cf5debf2d",
   "outputs": [],
   "execution_count": 15
  },
  {
   "metadata": {
    "ExecuteTime": {
     "end_time": "2024-07-21T17:43:06.076151Z",
     "start_time": "2024-07-21T17:43:06.071661Z"
    }
   },
   "cell_type": "code",
   "source": [
    "# Example - 9 - union of two sets - combine two sets\n",
    "set1 = {1, 2, 3, 4, 5}\n",
    "set2 = {4, 5, 6, 7, 8}\n",
    "print(set1.union(set2))"
   ],
   "id": "c17b60cc63ace798",
   "outputs": [
    {
     "name": "stdout",
     "output_type": "stream",
     "text": [
      "{1, 2, 3, 4, 5, 6, 7, 8}\n"
     ]
    }
   ],
   "execution_count": 18
  },
  {
   "metadata": {
    "ExecuteTime": {
     "end_time": "2024-07-21T17:42:39.638539Z",
     "start_time": "2024-07-21T17:42:39.634006Z"
    }
   },
   "cell_type": "code",
   "source": [
    "# Example - 10 - intersection of two sets - common elements between two sets\n",
    "set1 = {1, 2, 3, 4, 5}\n",
    "set2 = {4, 5, 6, 7, 8}\n",
    "print(set1.intersection(set2))"
   ],
   "id": "7acf24832c64513",
   "outputs": [
    {
     "name": "stdout",
     "output_type": "stream",
     "text": [
      "{4, 5}\n"
     ]
    }
   ],
   "execution_count": 17
  },
  {
   "metadata": {
    "ExecuteTime": {
     "end_time": "2024-07-21T17:49:14.373489Z",
     "start_time": "2024-07-21T17:49:14.369184Z"
    }
   },
   "cell_type": "code",
   "source": [
    "# Example - 11 - intersection_update() - update the set with the intersection of itself and another\n",
    "set1 = {1, 2, 3, 4, 5}\n",
    "set2 = {4, 5, 6, 7, 8, 9}\n",
    "union_update = set1.union(set2)\n",
    "print(union_update)\n",
    "set1.intersection_update(set2) # update set1 with the intersection of set1 and set2\n",
    "print(set1)"
   ],
   "id": "776087276221a640",
   "outputs": [
    {
     "name": "stdout",
     "output_type": "stream",
     "text": [
      "{1, 2, 3, 4, 5, 6, 7, 8, 9}\n",
      "{4, 5}\n"
     ]
    }
   ],
   "execution_count": 25
  },
  {
   "metadata": {
    "ExecuteTime": {
     "end_time": "2024-07-21T18:19:04.906153Z",
     "start_time": "2024-07-21T18:19:04.900903Z"
    }
   },
   "cell_type": "code",
   "source": [
    "# Example - 12 - difference of two sets - elements in set1 that are not in set2\n",
    "set1 = {1, 2, 3, 4, 5, 6}\n",
    "set2 = {4, 5, 6, 7, 8, 9}\n",
    "print(set1.difference(set2))"
   ],
   "id": "a54c120a1b1f576b",
   "outputs": [
    {
     "name": "stdout",
     "output_type": "stream",
     "text": [
      "{1, 2, 3}\n"
     ]
    }
   ],
   "execution_count": 26
  },
  {
   "metadata": {
    "ExecuteTime": {
     "end_time": "2024-07-21T18:20:19.641603Z",
     "start_time": "2024-07-21T18:20:19.636163Z"
    }
   },
   "cell_type": "code",
   "source": [
    "# Example - 13 - difference_update() - remove the intersection of two sets from the original set\n",
    "set1 = {1, 2, 3, 4, 5, 6}\n",
    "set2 = {4, 5, 6, 7, 8, 9}\n",
    "set1.difference_update(set2)\n",
    "print(set1)"
   ],
   "id": "8e3919c11fb9012d",
   "outputs": [
    {
     "name": "stdout",
     "output_type": "stream",
     "text": [
      "{1, 2, 3}\n"
     ]
    }
   ],
   "execution_count": 27
  },
  {
   "metadata": {
    "ExecuteTime": {
     "end_time": "2024-07-21T18:23:00.524431Z",
     "start_time": "2024-07-21T18:23:00.519705Z"
    }
   },
   "cell_type": "code",
   "source": [
    "# Example - 14 - symmetric difference of two sets - elements in either set but not in both\n",
    "set1 = {1, 2, 3, 4, 5, 6}\n",
    "set2 = {4, 5, 6, 7, 8, 9}\n",
    "print(set1.symmetric_difference(set2)) # only common elements are removed"
   ],
   "id": "75b5e06e0dff89c2",
   "outputs": [
    {
     "name": "stdout",
     "output_type": "stream",
     "text": [
      "{1, 2, 3, 7, 8, 9}\n"
     ]
    }
   ],
   "execution_count": 29
  },
  {
   "metadata": {
    "ExecuteTime": {
     "end_time": "2024-07-21T18:25:33.763184Z",
     "start_time": "2024-07-21T18:25:33.758302Z"
    }
   },
   "cell_type": "code",
   "source": [
    "# Set methods\n",
    "set1 = {1, 2, 3}\n",
    "set2 = {3, 4, 5}\n",
    "print(set1.issubset(set2)) # issubset() - check if all elements in set1 are in set2 - whether set2 contains all elements of set1"
   ],
   "id": "7bb91336a07044e1",
   "outputs": [
    {
     "name": "stdout",
     "output_type": "stream",
     "text": [
      "False\n"
     ]
    }
   ],
   "execution_count": 30
  },
  {
   "metadata": {
    "ExecuteTime": {
     "end_time": "2024-07-21T18:25:46.998357Z",
     "start_time": "2024-07-21T18:25:46.994838Z"
    }
   },
   "cell_type": "code",
   "source": "print(set1.issuperset(set2)) # issuperset() - check if all elements in set2 are in set1 - whether set1 contains all elements of set2",
   "id": "92af9078918e0161",
   "outputs": [
    {
     "name": "stdout",
     "output_type": "stream",
     "text": [
      "False\n"
     ]
    }
   ],
   "execution_count": 31
  },
  {
   "metadata": {
    "ExecuteTime": {
     "end_time": "2024-07-21T18:28:42.071157Z",
     "start_time": "2024-07-21T18:28:42.065130Z"
    }
   },
   "cell_type": "code",
   "source": [
    "# Find the unique elements in a list\n",
    "my_list = [1, 2, 3, 4, 5, 5, 6, 6, 7]\n",
    "unique_elements = set(my_list)\n",
    "print(unique_elements)"
   ],
   "id": "65d92bacfbef1adc",
   "outputs": [
    {
     "name": "stdout",
     "output_type": "stream",
     "text": [
      "{1, 2, 3, 4, 5, 6, 7}\n"
     ]
    }
   ],
   "execution_count": 32
  },
  {
   "metadata": {
    "ExecuteTime": {
     "end_time": "2024-07-21T18:31:08.898795Z",
     "start_time": "2024-07-21T18:31:08.893553Z"
    }
   },
   "cell_type": "code",
   "source": [
    "# counting unique words in a sentence\n",
    "sentence = \"the quick brown fox jumps over the lazy dog\"\n",
    "words = sentence.split()\n",
    "\n",
    "# create a set of unique words\n",
    "unique_words = set(words)\n",
    "# Count the number of unique words\n",
    "print(len(unique_words))"
   ],
   "id": "d06887217b79d5e5",
   "outputs": [
    {
     "name": "stdout",
     "output_type": "stream",
     "text": [
      "8\n"
     ]
    }
   ],
   "execution_count": 34
  },
  {
   "metadata": {},
   "cell_type": "code",
   "outputs": [],
   "execution_count": null,
   "source": "",
   "id": "c38f0033c888e2bf"
  }
 ],
 "metadata": {
  "kernelspec": {
   "display_name": "Python 3",
   "language": "python",
   "name": "python3"
  },
  "language_info": {
   "codemirror_mode": {
    "name": "ipython",
    "version": 2
   },
   "file_extension": ".py",
   "mimetype": "text/x-python",
   "name": "python",
   "nbconvert_exporter": "python",
   "pygments_lexer": "ipython2",
   "version": "2.7.6"
  }
 },
 "nbformat": 4,
 "nbformat_minor": 5
}

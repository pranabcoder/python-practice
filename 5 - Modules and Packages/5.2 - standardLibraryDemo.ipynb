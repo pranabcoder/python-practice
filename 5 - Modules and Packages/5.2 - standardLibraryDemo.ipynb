{
 "cells": [
  {
   "cell_type": "code",
   "id": "initial_id",
   "metadata": {
    "collapsed": true,
    "ExecuteTime": {
     "end_time": "2024-07-27T16:47:10.183073Z",
     "start_time": "2024-07-27T16:47:10.174628Z"
    }
   },
   "source": [
    "import array\n",
    "arr = array.array('i', [1, 2, 3, 4, 5])\n",
    "print(arr)"
   ],
   "outputs": [
    {
     "name": "stdout",
     "output_type": "stream",
     "text": [
      "array('i', [1, 2, 3, 4, 5])\n"
     ]
    }
   ],
   "execution_count": 1
  },
  {
   "metadata": {
    "ExecuteTime": {
     "end_time": "2024-07-27T16:48:53.012270Z",
     "start_time": "2024-07-27T16:48:53.005806Z"
    }
   },
   "cell_type": "code",
   "source": [
    "# Random module example\n",
    "import random\n",
    "print(random.randint(1, 100))\n",
    "print(random.choice(['apple', 'banana', 'cherry', 'date']))"
   ],
   "id": "6f0442104a63e54a",
   "outputs": [
    {
     "name": "stdout",
     "output_type": "stream",
     "text": [
      "100\n",
      "date\n"
     ]
    }
   ],
   "execution_count": 3
  },
  {
   "metadata": {
    "ExecuteTime": {
     "end_time": "2024-07-27T16:50:18.709782Z",
     "start_time": "2024-07-27T16:50:18.705015Z"
    }
   },
   "cell_type": "code",
   "source": [
    "# Example of \n",
    "# os module provides file and directory handling functions\n",
    "import os\n",
    "print(os.getcwd())"
   ],
   "id": "20091db475a0cc94",
   "outputs": [
    {
     "name": "stdout",
     "output_type": "stream",
     "text": [
      "C:\\Users\\prana\\OneDrive\\Documents\\python-practice\\5 - Modules and Packages\n"
     ]
    }
   ],
   "execution_count": 4
  },
  {
   "metadata": {
    "ExecuteTime": {
     "end_time": "2024-07-27T16:51:11.633995Z",
     "start_time": "2024-07-27T16:51:11.630540Z"
    }
   },
   "cell_type": "code",
   "source": [
    "# Create directory\n",
    "os.mkdir('test')"
   ],
   "id": "4dc07572a94cebf7",
   "outputs": [],
   "execution_count": 5
  },
  {
   "metadata": {
    "ExecuteTime": {
     "end_time": "2024-07-27T16:59:01.276055Z",
     "start_time": "2024-07-27T16:59:01.258685Z"
    }
   },
   "cell_type": "code",
   "source": [
    "# High level file operations\n",
    "with open('test.txt', 'w') as f:\n",
    "    f.write('Hello, World!')"
   ],
   "id": "31e58ed650189ae9",
   "outputs": [],
   "execution_count": 6
  },
  {
   "metadata": {
    "ExecuteTime": {
     "end_time": "2024-07-27T17:01:22.250276Z",
     "start_time": "2024-07-27T17:01:22.242827Z"
    }
   },
   "cell_type": "code",
   "source": [
    "# Copy file\n",
    "import shutil\n",
    "shutil.copy('test.txt', 'test/distinction.txt')"
   ],
   "id": "986359e2851fc0c6",
   "outputs": [
    {
     "data": {
      "text/plain": [
       "'test/distinction.txt'"
      ]
     },
     "execution_count": 11,
     "metadata": {},
     "output_type": "execute_result"
    }
   ],
   "execution_count": 11
  },
  {
   "metadata": {
    "ExecuteTime": {
     "end_time": "2024-07-27T17:04:56.641466Z",
     "start_time": "2024-07-27T17:04:56.636549Z"
    }
   },
   "cell_type": "code",
   "source": [
    "# Data Serialization\n",
    "import json\n",
    "data = {'name': 'John', 'age': 30, 'city': 'New York'}\n",
    "json_str = json.dumps(data)\n",
    "print(json_str)\n",
    "print(type(json_str))\n",
    "json_dict = json.loads(json_str)\n",
    "print(json_dict)\n",
    "print(type(json_dict))"
   ],
   "id": "32bef40048ca970e",
   "outputs": [
    {
     "name": "stdout",
     "output_type": "stream",
     "text": [
      "{\"name\": \"John\", \"age\": 30, \"city\": \"New York\"}\n",
      "<class 'str'>\n",
      "{'name': 'John', 'age': 30, 'city': 'New York'}\n",
      "<class 'dict'>\n"
     ]
    }
   ],
   "execution_count": 17
  },
  {
   "metadata": {
    "ExecuteTime": {
     "end_time": "2024-07-27T17:08:49.997854Z",
     "start_time": "2024-07-27T17:08:49.990615Z"
    }
   },
   "cell_type": "code",
   "source": [
    "# CSV file handling - writing\n",
    "import csv\n",
    "with open('test.csv', 'w', newline='') as f:\n",
    "    writer = csv.writer(f)\n",
    "    writer.writerow(['name', 'age', 'city'])\n",
    "    writer.writerow(['John', 30, 'New York'])\n",
    "    writer.writerow(['Alice', 25, 'Chicago'])"
   ],
   "id": "4b619b29ed875d72",
   "outputs": [],
   "execution_count": 20
  },
  {
   "metadata": {
    "ExecuteTime": {
     "end_time": "2024-07-27T17:08:52.044476Z",
     "start_time": "2024-07-27T17:08:52.038232Z"
    }
   },
   "cell_type": "code",
   "source": [
    "# Reading CSV file\n",
    "with open('test.csv', newline='') as f:\n",
    "    reader = csv.reader(f)\n",
    "    for row in reader:\n",
    "        print(row)"
   ],
   "id": "7f540948221d392b",
   "outputs": [
    {
     "name": "stdout",
     "output_type": "stream",
     "text": [
      "['name', 'age', 'city']\n",
      "['John', '30', 'New York']\n",
      "['Alice', '25', 'Chicago']\n"
     ]
    }
   ],
   "execution_count": 21
  },
  {
   "metadata": {
    "ExecuteTime": {
     "end_time": "2024-07-27T17:10:31.383193Z",
     "start_time": "2024-07-27T17:10:31.377819Z"
    }
   },
   "cell_type": "code",
   "source": [
    "# Date and Time\n",
    "from datetime import datetime, timedelta\n",
    "now = datetime.now()\n",
    "print(now)\n",
    "yesterday = now - timedelta(days=1)\n",
    "print(yesterday)"
   ],
   "id": "75dc8936ad88a14d",
   "outputs": [
    {
     "name": "stdout",
     "output_type": "stream",
     "text": [
      "2024-07-27 22:40:31.379779\n",
      "2024-07-26 22:40:31.379779\n"
     ]
    }
   ],
   "execution_count": 22
  },
  {
   "metadata": {
    "ExecuteTime": {
     "end_time": "2024-07-27T17:11:50.067263Z",
     "start_time": "2024-07-27T17:11:48.061819Z"
    }
   },
   "cell_type": "code",
   "source": [
    "# Time function\n",
    "import time\n",
    "print(time.time())\n",
    "time.sleep(2)\n",
    "print(time.time())"
   ],
   "id": "291b15ad4253aab4",
   "outputs": [
    {
     "name": "stdout",
     "output_type": "stream",
     "text": [
      "1722100308.063819\n",
      "1722100310.0649855\n"
     ]
    }
   ],
   "execution_count": 23
  },
  {
   "metadata": {
    "ExecuteTime": {
     "end_time": "2024-07-27T17:23:02.053905Z",
     "start_time": "2024-07-27T17:23:02.049003Z"
    }
   },
   "cell_type": "code",
   "source": [
    "# Regular expression\n",
    "import re\n",
    "pattern = re.compile(r'\\d+')\n",
    "text = 'There are 100 apples and 200 bananas'\n",
    "matches = re.search(pattern, text)\n",
    "print(matches.group())"
   ],
   "id": "e71489ce335f1220",
   "outputs": [
    {
     "name": "stdout",
     "output_type": "stream",
     "text": [
      "100\n"
     ]
    }
   ],
   "execution_count": 27
  },
  {
   "metadata": {},
   "cell_type": "code",
   "outputs": [],
   "execution_count": null,
   "source": "",
   "id": "4e81d4f04e56cddf"
  }
 ],
 "metadata": {
  "kernelspec": {
   "display_name": "Python 3",
   "language": "python",
   "name": "python3"
  },
  "language_info": {
   "codemirror_mode": {
    "name": "ipython",
    "version": 2
   },
   "file_extension": ".py",
   "mimetype": "text/x-python",
   "name": "python",
   "nbconvert_exporter": "python",
   "pygments_lexer": "ipython2",
   "version": "2.7.6"
  }
 },
 "nbformat": 4,
 "nbformat_minor": 5
}

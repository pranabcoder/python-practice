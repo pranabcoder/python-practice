{
 "cells": [
  {
   "cell_type": "code",
   "id": "initial_id",
   "metadata": {
    "collapsed": true,
    "ExecuteTime": {
     "end_time": "2024-07-27T16:10:01.259869Z",
     "start_time": "2024-07-27T16:10:01.246086Z"
    }
   },
   "source": [
    "# Example of importing a module\n",
    "import math\n",
    "math.sqrt(25)"
   ],
   "outputs": [
    {
     "data": {
      "text/plain": [
       "5.0"
      ]
     },
     "execution_count": 1,
     "metadata": {},
     "output_type": "execute_result"
    }
   ],
   "execution_count": 1
  },
  {
   "metadata": {
    "ExecuteTime": {
     "end_time": "2024-07-27T16:11:11.601097Z",
     "start_time": "2024-07-27T16:11:11.595064Z"
    }
   },
   "cell_type": "code",
   "source": [
    "# Example of importing a module and renaming it\n",
    "from math import sqrt, pi\n",
    "print(sqrt(25))\n",
    "print(pi)"
   ],
   "id": "c03e7d2ef8816d81",
   "outputs": [
    {
     "name": "stdout",
     "output_type": "stream",
     "text": [
      "5.0\n",
      "3.141592653589793\n"
     ]
    }
   ],
   "execution_count": 2
  },
  {
   "metadata": {
    "ExecuteTime": {
     "end_time": "2024-07-27T16:12:27.864738Z",
     "start_time": "2024-07-27T16:12:27.628894Z"
    }
   },
   "cell_type": "code",
   "source": [
    "# Example of importing numpy and renaming it\n",
    "import numpy as np\n",
    "np.sqrt(25)"
   ],
   "id": "a5868ab9c7ed04a9",
   "outputs": [
    {
     "data": {
      "text/plain": [
       "np.float64(5.0)"
      ]
     },
     "execution_count": 3,
     "metadata": {},
     "output_type": "execute_result"
    }
   ],
   "execution_count": 3
  },
  {
   "metadata": {
    "ExecuteTime": {
     "end_time": "2024-07-27T16:13:32.693752Z",
     "start_time": "2024-07-27T16:13:32.684946Z"
    }
   },
   "cell_type": "code",
   "source": "np.array([1, 2, 3])",
   "id": "920c1feb66189b3a",
   "outputs": [
    {
     "data": {
      "text/plain": [
       "array([1, 2, 3])"
      ]
     },
     "execution_count": 4,
     "metadata": {},
     "output_type": "execute_result"
    }
   ],
   "execution_count": 4
  },
  {
   "metadata": {
    "ExecuteTime": {
     "end_time": "2024-07-27T16:14:20.078702Z",
     "start_time": "2024-07-27T16:14:20.071823Z"
    }
   },
   "cell_type": "code",
   "source": [
    "# Example of importing all the functions in a module\n",
    "from math import *\n",
    "sqrt(25)"
   ],
   "id": "37f3b94ed88c21ab",
   "outputs": [
    {
     "data": {
      "text/plain": [
       "5.0"
      ]
     },
     "execution_count": 5,
     "metadata": {},
     "output_type": "execute_result"
    }
   ],
   "execution_count": 5
  },
  {
   "metadata": {
    "ExecuteTime": {
     "end_time": "2024-07-27T16:39:57.981390Z",
     "start_time": "2024-07-27T16:39:57.973659Z"
    }
   },
   "cell_type": "code",
   "source": [
    "from package.maths import addition\n",
    "addition(2, 3)"
   ],
   "id": "71d8bc631eb8d001",
   "outputs": [
    {
     "data": {
      "text/plain": [
       "5"
      ]
     },
     "execution_count": 12,
     "metadata": {},
     "output_type": "execute_result"
    }
   ],
   "execution_count": 12
  },
  {
   "metadata": {
    "ExecuteTime": {
     "end_time": "2024-07-27T16:42:03.477616Z",
     "start_time": "2024-07-27T16:42:03.458741Z"
    }
   },
   "cell_type": "code",
   "source": [
    "from package.maths import *\n",
    "print(addition(2, 3))\n",
    "print(subtraction(3, 1))"
   ],
   "id": "37b94aa208ea382d",
   "outputs": [
    {
     "name": "stdout",
     "output_type": "stream",
     "text": [
      "5\n"
     ]
    },
    {
     "ename": "NameError",
     "evalue": "name 'subtraction' is not defined",
     "output_type": "error",
     "traceback": [
      "\u001B[1;31m---------------------------------------------------------------------------\u001B[0m",
      "\u001B[1;31mNameError\u001B[0m                                 Traceback (most recent call last)",
      "Cell \u001B[1;32mIn[20], line 3\u001B[0m\n\u001B[0;32m      1\u001B[0m \u001B[38;5;28;01mfrom\u001B[39;00m \u001B[38;5;21;01mpackage\u001B[39;00m\u001B[38;5;21;01m.\u001B[39;00m\u001B[38;5;21;01mmaths\u001B[39;00m \u001B[38;5;28;01mimport\u001B[39;00m \u001B[38;5;241m*\u001B[39m\n\u001B[0;32m      2\u001B[0m \u001B[38;5;28mprint\u001B[39m(addition(\u001B[38;5;241m2\u001B[39m, \u001B[38;5;241m3\u001B[39m))\n\u001B[1;32m----> 3\u001B[0m \u001B[38;5;28mprint\u001B[39m(subtraction(\u001B[38;5;241m3\u001B[39m, \u001B[38;5;241m1\u001B[39m))\n",
      "\u001B[1;31mNameError\u001B[0m: name 'subtraction' is not defined"
     ]
    }
   ],
   "execution_count": 20
  },
  {
   "metadata": {},
   "cell_type": "code",
   "outputs": [],
   "execution_count": null,
   "source": "",
   "id": "8cbb26466eda1d17"
  }
 ],
 "metadata": {
  "kernelspec": {
   "display_name": "Python 3",
   "language": "python",
   "name": "python3"
  },
  "language_info": {
   "codemirror_mode": {
    "name": "ipython",
    "version": 2
   },
   "file_extension": ".py",
   "mimetype": "text/x-python",
   "name": "python",
   "nbconvert_exporter": "python",
   "pygments_lexer": "ipython2",
   "version": "2.7.6"
  }
 },
 "nbformat": 4,
 "nbformat_minor": 5
}
